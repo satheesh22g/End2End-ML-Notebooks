{
 "cells": [
  {
   "cell_type": "markdown",
   "metadata": {},
   "source": [
    "# Introduction\n",
    "When outcome has more than to categories, Multi class regression is used for classification. For e.g. mail classification as primary, social, promotions, forums. We are going to use One Vs Rest (OVR) algorithm.\n",
    " \n",
    "This is also called as one vs all algorithm. As name suggest in this algorithm we choose one class and put all other classes into second virtual class and run the binary logistic regression on it. We repeat this procedure for all the classes in the dataset. So we actually end up with binary classifiers designed to recognize each class in dataset\n",
    " \n",
    "For prediction on given data, our algorithm returns probabilities for each class in the dataset and whichever class has the highest probability is our prediction"
   ]
  },
  {
   "cell_type": "markdown",
   "metadata": {},
   "source": [
    "# Problem Statement\n",
    "The data set contains images of hand-written digits: 10 classes where each class refers to a digit(0 to 9). Objective of our model is to predict the correct digit from 0 to 9, based on given handwritten image of digit."
   ]
  },
  {
   "cell_type": "markdown",
   "metadata": {},
   "source": [
    "# Import Libraries\n",
    "* pandas: Used for data manipulation and analysis\n",
    "* numpy : Numpy is the core library for scientific computing in Python. It is used for working with arrays and matrices.\n",
    "* matplotlib : It's plotting library, and we are going to use it for data visualization\n",
    "* datasets: Here we are going to use 'load_digits' dataset\n",
    "* model_selection: Here we are going to use model_selection.train_test_split() for splitting the data\n",
    "* linear_model: Here we are going to linear_model.LogisticRegression() for classification\n",
    "* metrics: Here we are going use metrics.plot_confusion_matrix() and metrics.classification_report() for model analysis"
   ]
  },
  {
   "cell_type": "code",
   "execution_count": 1,
   "metadata": {
    "_cell_guid": "79c7e3d0-c299-4dcb-8224-4455121ee9b0",
    "_uuid": "d629ff2d2480ee46fbb7e2d37f6b5fab8052498a"
   },
   "outputs": [],
   "source": [
    "import pandas as pd\n",
    "import numpy as np\n",
    "import matplotlib.pyplot as plt\n",
    "from sklearn import datasets\n",
    "from sklearn import model_selection\n",
    "from sklearn import linear_model\n",
    "from sklearn import metrics"
   ]
  },
  {
   "cell_type": "markdown",
   "metadata": {},
   "source": [
    "# Load The Data\n",
    "* We are going to use [Optical recognition of handwritten digits dataset](https://scikit-learn.org/stable/datasets/index.html#optical-recognition-of-handwritten-digits-dataset)\n",
    "* Dataset characteristics are,\n",
    "  - Number of Attributes: 64\n",
    "  - Attribute Information: 8x8 image of integer pixels in the range 0 to 16.\n",
    "  - Missing Attribute Values: None\n",
    "  - Creator: Alpaydin (alpaydin ‘@’ boun.edu.tr)\n",
    "  - Date: July; 1998"
   ]
  },
  {
   "cell_type": "code",
   "execution_count": 3,
   "metadata": {},
   "outputs": [
    {
     "name": "stdout",
     "output_type": "stream",
     "text": [
      "Digits dataset structure=  ['DESCR', 'data', 'feature_names', 'frame', 'images', 'target', 'target_names']\n",
      "Data shape=  (1797, 64)\n",
      "Data conatins pixel representation of each image, \n",
      " [[ 0.  0.  5. ...  0.  0.  0.]\n",
      " [ 0.  0.  0. ... 10.  0.  0.]\n",
      " [ 0.  0.  0. ... 16.  9.  0.]\n",
      " ...\n",
      " [ 0.  0.  1. ...  6.  0.  0.]\n",
      " [ 0.  0.  2. ... 12.  0.  0.]\n",
      " [ 0.  0. 10. ... 12.  1.  0.]]\n"
     ]
    }
   ],
   "source": [
    "digits_df = datasets.load_digits()\n",
    "print('Digits dataset structure= ', dir(digits_df))\n",
    "print('Data shape= ', digits_df.data.shape)\n",
    "print('Data conatins pixel representation of each image, \\n', digits_df.data)"
   ]
  },
  {
   "cell_type": "markdown",
   "metadata": {},
   "source": [
    "# Data Understanding\n",
    "Dataset contains 10 classes(0 to 9 digits). There are 180 training example per class and total 1797 training examples. Each training example is 8x8 image i.e. flat array of 64 pixels or matrix of 8x8. Each pixel value is represented by integer from 0 to 16. So our input data is of shape (1797x64) i.e. 1797 rows and 64 columns\n",
    " \n",
    "* digits.DESCR: Description of the dataset\n",
    "* digits.data:  \n",
    "  - ndarray of shape (1797, 64)\n",
    "  - The flattened data matrix of training data.i.e Every 8x8 image data matrix is converted to 64 pixel flat array. \n",
    "  - We are going to use this data for model training\n",
    "* digits.images:  \n",
    "  - ndarray of shape (1797, 8, 8)\n",
    "  - It contains raw image data in the form of 8x8 matrix\n",
    "  - We are going to use this data for plotting the images\n",
    "* digits.target: Contains target value(0 to 9) for each training examples, so it contains 1797, y labels\n",
    "* digits.target_names: Contains name for each target since we have 10 classes it contains 10 names only\n",
    " \n",
    "Here digits.data is our independent/inputs/ X variables\n",
    " \n",
    "And digits.target is our dependent/target/y variable"
   ]
  },
  {
   "cell_type": "markdown",
   "metadata": {},
   "source": [
    "## Data Visualization\n",
    "Let's visualize the images from digits dataset"
   ]
  },
  {
   "cell_type": "code",
   "execution_count": null,
   "metadata": {},
   "outputs": [],
   "source": [
    "# Using subplot to plot the digits from 0 to 4\n",
    "rows = 1\n",
    "columns = 5\n",
    "fig, ax =  plt.subplots(rows, columns, figsize = (15,6))\n",
    "\n",
    "plt.gray()\n",
    "for i in range(columns):\n",
    "  ax[i].matshow(digits_df.images[i]) \n",
    "  ax[i].set_title('Label: %s\\n' % digits_df.target_names[i])\n",
    "\n",
    "plt.show()"
   ]
  },
  {
   "cell_type": "markdown",
   "metadata": {},
   "source": [
    "# Build Machine Learning Model"
   ]
  },
  {
   "cell_type": "markdown",
   "metadata": {},
   "source": [
    "## Create Feature Matrix X and Label Vector y\n",
    "Note for training and testing we are going to use 'digits_df.data' and not 'digits_df.images'"
   ]
  },
  {
   "cell_type": "code",
   "execution_count": null,
   "metadata": {},
   "outputs": [],
   "source": [
    "X = digits_df.data\n",
    "y = digits_df.target"
   ]
  },
  {
   "cell_type": "markdown",
   "metadata": {},
   "source": [
    "## Create Test And Train Dataset\n",
    "* We will split the dataset, so that we can use one set of data for training the model and one set of data for testing the model\n",
    "* We will keep 20% of data for testing and 80% of data for training the model\n",
    "* If you want to learn more about it, please refer [Train Test Split](https://satishgunjal.com/train_test_split/) tutorial"
   ]
  },
  {
   "cell_type": "code",
   "execution_count": null,
   "metadata": {},
   "outputs": [],
   "source": [
    "X_train, X_test, y_train, y_test = model_selection.train_test_split(X, y, test_size= 0.2, random_state = 1)\n",
    "\n",
    "print('X_train dimension= ', X_train.shape)\n",
    "print('X_test dimension= ', X_test.shape)\n",
    "print('y_train dimension= ', y_train.shape)\n",
    "print('y_train dimension= ', y_test.shape)"
   ]
  },
  {
   "cell_type": "markdown",
   "metadata": {},
   "source": [
    "Now lets train the model using OVR algorithm"
   ]
  },
  {
   "cell_type": "markdown",
   "metadata": {},
   "source": [
    "## Multi class Logistic Regression Using OVR\n",
    "* Since we are going to use One Vs Rest algorithm, set >  multi_class='ovr'\n",
    "* Note: since we are using One Vs Rest algorithm we must use 'liblinear' solver with it."
   ]
  },
  {
   "cell_type": "code",
   "execution_count": null,
   "metadata": {},
   "outputs": [],
   "source": [
    "lm = linear_model.LogisticRegression(multi_class='ovr', solver='liblinear')\n",
    "lm.fit(X_train, y_train)"
   ]
  },
  {
   "cell_type": "markdown",
   "metadata": {},
   "source": [
    "# Testing The Model\n",
    "* For testing we are going to use the test data only\n",
    "* **Question: Predict the value of 200 digits from test data**"
   ]
  },
  {
   "cell_type": "code",
   "execution_count": null,
   "metadata": {},
   "outputs": [],
   "source": [
    "print('Predicted value is =', lm.predict([X_test[200]]))\n",
    "\n",
    "print('Actual value from test data is %s and corresponding image is as below' % (y_test[200]) )\n",
    "plt.matshow(digits_df.images[200]) \n",
    "plt.show() "
   ]
  },
  {
   "cell_type": "markdown",
   "metadata": {},
   "source": [
    "## Model Score\n",
    "Check the model score using test data"
   ]
  },
  {
   "cell_type": "code",
   "execution_count": null,
   "metadata": {},
   "outputs": [],
   "source": [
    "lm.score(X_test, y_test)"
   ]
  },
  {
   "cell_type": "markdown",
   "metadata": {},
   "source": [
    "## Confusion Matrix\n",
    "* Confusion matrix helps to visualize the performance of the model\n",
    "* The diagonal elements represent the number of points for which the predicted label is equal to the true label\n",
    "* Off-diagonal elements are those that are mislabeled by the classifier.\n",
    "* The higher the diagonal values of the confusion matrix the better, indicating many correct\n",
    " \n",
    "Let's create confusion matrix using sklearn library and test data"
   ]
  },
  {
   "cell_type": "code",
   "execution_count": null,
   "metadata": {},
   "outputs": [],
   "source": [
    "#Creating matplotlib axes object to assign figuresize and figure title\n",
    "fig, ax = plt.subplots(figsize=(10, 6))\n",
    "ax.set_title('Confusion Matrx')\n",
    "\n",
    "disp =metrics.plot_confusion_matrix(lm, X_test, y_test, display_labels= digits_df.target_names, ax = ax)\n",
    "disp.confusion_matrix"
   ]
  },
  {
   "cell_type": "markdown",
   "metadata": {},
   "source": [
    "## Classification Report\n",
    "Classification report is used to measure the quality of prediction from classification algorithm\n",
    " \n",
    "* Precision: Indicates how many classes are correctly classified\n",
    "* Recall: Indicates what proportions of actual positives was identified correctly\n",
    "* F-Score: It is the harmonic mean between precision & recall\n",
    "* Support: It is the number of occurrence of the given class in our dataset"
   ]
  },
  {
   "cell_type": "code",
   "execution_count": null,
   "metadata": {},
   "outputs": [],
   "source": [
    "print(metrics.classification_report(y_test, lm.predict(X_test)))"
   ]
  }
 ],
 "metadata": {
  "kernelspec": {
   "display_name": "Python 3",
   "language": "python",
   "name": "python3"
  },
  "language_info": {
   "codemirror_mode": {
    "name": "ipython",
    "version": 3
   },
   "file_extension": ".py",
   "mimetype": "text/x-python",
   "name": "python",
   "nbconvert_exporter": "python",
   "pygments_lexer": "ipython3",
   "version": "3.7.3"
  }
 },
 "nbformat": 4,
 "nbformat_minor": 4
}

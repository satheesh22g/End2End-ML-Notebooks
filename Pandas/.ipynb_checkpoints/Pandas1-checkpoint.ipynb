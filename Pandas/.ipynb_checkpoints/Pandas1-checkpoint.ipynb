{
 "cells": [
  {
   "cell_type": "markdown",
   "metadata": {},
   "source": [
    "## Pandas Tutorial\n",
    "\n",
    "Pandas is an open source, BSD-licensed library providing high-performance, easy-to-use data structures and data analysis tools for the Python programming language."
   ]
  },
  {
   "cell_type": "markdown",
   "metadata": {},
   "source": [
    "Agenda\n",
    "\n",
    "- What is Data Frames?\n",
    "- What is Data Series?\n",
    "- Different operation in Pandas"
   ]
  },
  {
   "cell_type": "code",
   "execution_count": 6,
   "metadata": {},
   "outputs": [],
   "source": [
    "## First step is to import pandas\n",
    "\n",
    "import pandas as pd\n",
    "import numpy as np"
   ]
  },
  {
   "cell_type": "code",
   "execution_count": 7,
   "metadata": {},
   "outputs": [],
   "source": [
    "## Playing with Dataframe\n",
    "\n",
    "df=pd.DataFrame(np.arange(0,20).reshape(5,4),index=['Row1','Row2','Row3','Row4','Row5'],columns=[\"Column1\",\"Column2\",\"Column3\",\"Coumn4\"])"
   ]
  },
  {
   "cell_type": "code",
   "execution_count": 8,
   "metadata": {},
   "outputs": [
    {
     "data": {
      "text/html": [
       "<div>\n",
       "<style scoped>\n",
       "    .dataframe tbody tr th:only-of-type {\n",
       "        vertical-align: middle;\n",
       "    }\n",
       "\n",
       "    .dataframe tbody tr th {\n",
       "        vertical-align: top;\n",
       "    }\n",
       "\n",
       "    .dataframe thead th {\n",
       "        text-align: right;\n",
       "    }\n",
       "</style>\n",
       "<table border=\"1\" class=\"dataframe\">\n",
       "  <thead>\n",
       "    <tr style=\"text-align: right;\">\n",
       "      <th></th>\n",
       "      <th>Column1</th>\n",
       "      <th>Column2</th>\n",
       "      <th>Column3</th>\n",
       "      <th>Coumn4</th>\n",
       "    </tr>\n",
       "  </thead>\n",
       "  <tbody>\n",
       "    <tr>\n",
       "      <th>Row1</th>\n",
       "      <td>0</td>\n",
       "      <td>1</td>\n",
       "      <td>2</td>\n",
       "      <td>3</td>\n",
       "    </tr>\n",
       "    <tr>\n",
       "      <th>Row2</th>\n",
       "      <td>4</td>\n",
       "      <td>5</td>\n",
       "      <td>6</td>\n",
       "      <td>7</td>\n",
       "    </tr>\n",
       "    <tr>\n",
       "      <th>Row3</th>\n",
       "      <td>8</td>\n",
       "      <td>9</td>\n",
       "      <td>10</td>\n",
       "      <td>11</td>\n",
       "    </tr>\n",
       "    <tr>\n",
       "      <th>Row4</th>\n",
       "      <td>12</td>\n",
       "      <td>13</td>\n",
       "      <td>14</td>\n",
       "      <td>15</td>\n",
       "    </tr>\n",
       "    <tr>\n",
       "      <th>Row5</th>\n",
       "      <td>16</td>\n",
       "      <td>17</td>\n",
       "      <td>18</td>\n",
       "      <td>19</td>\n",
       "    </tr>\n",
       "  </tbody>\n",
       "</table>\n",
       "</div>"
      ],
      "text/plain": [
       "      Column1  Column2  Column3  Coumn4\n",
       "Row1        0        1        2       3\n",
       "Row2        4        5        6       7\n",
       "Row3        8        9       10      11\n",
       "Row4       12       13       14      15\n",
       "Row5       16       17       18      19"
      ]
     },
     "execution_count": 8,
     "metadata": {},
     "output_type": "execute_result"
    }
   ],
   "source": [
    "df.head()"
   ]
  },
  {
   "cell_type": "code",
   "execution_count": 9,
   "metadata": {},
   "outputs": [
    {
     "data": {
      "text/plain": [
       "Column1    0\n",
       "Column2    1\n",
       "Column3    2\n",
       "Coumn4     3\n",
       "Name: Row1, dtype: int32"
      ]
     },
     "execution_count": 9,
     "metadata": {},
     "output_type": "execute_result"
    }
   ],
   "source": [
    "## Accessing the elements\n",
    "\n",
    "df.loc['Row1']"
   ]
  },
  {
   "cell_type": "code",
   "execution_count": 10,
   "metadata": {},
   "outputs": [
    {
     "data": {
      "text/plain": [
       "pandas.core.series.Series"
      ]
     },
     "execution_count": 10,
     "metadata": {},
     "output_type": "execute_result"
    }
   ],
   "source": [
    "## Check the type\n",
    "\n",
    "type(df.loc['Row1'])"
   ]
  },
  {
   "cell_type": "code",
   "execution_count": 11,
   "metadata": {},
   "outputs": [
    {
     "data": {
      "text/html": [
       "<div>\n",
       "<style scoped>\n",
       "    .dataframe tbody tr th:only-of-type {\n",
       "        vertical-align: middle;\n",
       "    }\n",
       "\n",
       "    .dataframe tbody tr th {\n",
       "        vertical-align: top;\n",
       "    }\n",
       "\n",
       "    .dataframe thead th {\n",
       "        text-align: right;\n",
       "    }\n",
       "</style>\n",
       "<table border=\"1\" class=\"dataframe\">\n",
       "  <thead>\n",
       "    <tr style=\"text-align: right;\">\n",
       "      <th></th>\n",
       "      <th>Column1</th>\n",
       "      <th>Column2</th>\n",
       "      <th>Column3</th>\n",
       "      <th>Coumn4</th>\n",
       "    </tr>\n",
       "  </thead>\n",
       "  <tbody>\n",
       "    <tr>\n",
       "      <th>Row1</th>\n",
       "      <td>0</td>\n",
       "      <td>1</td>\n",
       "      <td>2</td>\n",
       "      <td>3</td>\n",
       "    </tr>\n",
       "    <tr>\n",
       "      <th>Row2</th>\n",
       "      <td>4</td>\n",
       "      <td>5</td>\n",
       "      <td>6</td>\n",
       "      <td>7</td>\n",
       "    </tr>\n",
       "    <tr>\n",
       "      <th>Row3</th>\n",
       "      <td>8</td>\n",
       "      <td>9</td>\n",
       "      <td>10</td>\n",
       "      <td>11</td>\n",
       "    </tr>\n",
       "    <tr>\n",
       "      <th>Row4</th>\n",
       "      <td>12</td>\n",
       "      <td>13</td>\n",
       "      <td>14</td>\n",
       "      <td>15</td>\n",
       "    </tr>\n",
       "    <tr>\n",
       "      <th>Row5</th>\n",
       "      <td>16</td>\n",
       "      <td>17</td>\n",
       "      <td>18</td>\n",
       "      <td>19</td>\n",
       "    </tr>\n",
       "  </tbody>\n",
       "</table>\n",
       "</div>"
      ],
      "text/plain": [
       "      Column1  Column2  Column3  Coumn4\n",
       "Row1        0        1        2       3\n",
       "Row2        4        5        6       7\n",
       "Row3        8        9       10      11\n",
       "Row4       12       13       14      15\n",
       "Row5       16       17       18      19"
      ]
     },
     "execution_count": 11,
     "metadata": {},
     "output_type": "execute_result"
    }
   ],
   "source": [
    "df.iloc[:,:]"
   ]
  },
  {
   "cell_type": "code",
   "execution_count": 12,
   "metadata": {},
   "outputs": [
    {
     "data": {
      "text/html": [
       "<div>\n",
       "<style scoped>\n",
       "    .dataframe tbody tr th:only-of-type {\n",
       "        vertical-align: middle;\n",
       "    }\n",
       "\n",
       "    .dataframe tbody tr th {\n",
       "        vertical-align: top;\n",
       "    }\n",
       "\n",
       "    .dataframe thead th {\n",
       "        text-align: right;\n",
       "    }\n",
       "</style>\n",
       "<table border=\"1\" class=\"dataframe\">\n",
       "  <thead>\n",
       "    <tr style=\"text-align: right;\">\n",
       "      <th></th>\n",
       "      <th>Column2</th>\n",
       "      <th>Column3</th>\n",
       "      <th>Coumn4</th>\n",
       "    </tr>\n",
       "  </thead>\n",
       "  <tbody>\n",
       "    <tr>\n",
       "      <th>Row2</th>\n",
       "      <td>5</td>\n",
       "      <td>6</td>\n",
       "      <td>7</td>\n",
       "    </tr>\n",
       "    <tr>\n",
       "      <th>Row3</th>\n",
       "      <td>9</td>\n",
       "      <td>10</td>\n",
       "      <td>11</td>\n",
       "    </tr>\n",
       "    <tr>\n",
       "      <th>Row4</th>\n",
       "      <td>13</td>\n",
       "      <td>14</td>\n",
       "      <td>15</td>\n",
       "    </tr>\n",
       "    <tr>\n",
       "      <th>Row5</th>\n",
       "      <td>17</td>\n",
       "      <td>18</td>\n",
       "      <td>19</td>\n",
       "    </tr>\n",
       "  </tbody>\n",
       "</table>\n",
       "</div>"
      ],
      "text/plain": [
       "      Column2  Column3  Coumn4\n",
       "Row2        5        6       7\n",
       "Row3        9       10      11\n",
       "Row4       13       14      15\n",
       "Row5       17       18      19"
      ]
     },
     "execution_count": 12,
     "metadata": {},
     "output_type": "execute_result"
    }
   ],
   "source": [
    "## Take the elements from the Column2\n",
    "df.iloc[1:,1:]\n"
   ]
  },
  {
   "cell_type": "code",
   "execution_count": 13,
   "metadata": {},
   "outputs": [
    {
     "data": {
      "text/plain": [
       "array([[ 0,  1,  2,  3],\n",
       "       [ 4,  5,  6,  7],\n",
       "       [ 8,  9, 10, 11],\n",
       "       [12, 13, 14, 15],\n",
       "       [16, 17, 18, 19]])"
      ]
     },
     "execution_count": 13,
     "metadata": {},
     "output_type": "execute_result"
    }
   ],
   "source": [
    "#convert Dataframes into array\n",
    "df.iloc[:].values"
   ]
  },
  {
   "cell_type": "code",
   "execution_count": 14,
   "metadata": {},
   "outputs": [
    {
     "data": {
      "text/plain": [
       "0     1\n",
       "4     1\n",
       "8     1\n",
       "12    1\n",
       "16    1\n",
       "Name: Column1, dtype: int64"
      ]
     },
     "execution_count": 14,
     "metadata": {},
     "output_type": "execute_result"
    }
   ],
   "source": [
    "df['Column1'].value_counts()"
   ]
  },
  {
   "cell_type": "code",
   "execution_count": 74,
   "metadata": {},
   "outputs": [],
   "source": [
    "df=pd.read_csv('gender_submission.csv')"
   ]
  },
  {
   "cell_type": "code",
   "execution_count": 75,
   "metadata": {},
   "outputs": [
    {
     "data": {
      "text/html": [
       "<div>\n",
       "<style scoped>\n",
       "    .dataframe tbody tr th:only-of-type {\n",
       "        vertical-align: middle;\n",
       "    }\n",
       "\n",
       "    .dataframe tbody tr th {\n",
       "        vertical-align: top;\n",
       "    }\n",
       "\n",
       "    .dataframe thead th {\n",
       "        text-align: right;\n",
       "    }\n",
       "</style>\n",
       "<table border=\"1\" class=\"dataframe\">\n",
       "  <thead>\n",
       "    <tr style=\"text-align: right;\">\n",
       "      <th></th>\n",
       "      <th>PassengerId</th>\n",
       "      <th>Survived</th>\n",
       "    </tr>\n",
       "  </thead>\n",
       "  <tbody>\n",
       "    <tr>\n",
       "      <th>0</th>\n",
       "      <td>892</td>\n",
       "      <td>0</td>\n",
       "    </tr>\n",
       "    <tr>\n",
       "      <th>1</th>\n",
       "      <td>893</td>\n",
       "      <td>1</td>\n",
       "    </tr>\n",
       "    <tr>\n",
       "      <th>2</th>\n",
       "      <td>894</td>\n",
       "      <td>0</td>\n",
       "    </tr>\n",
       "    <tr>\n",
       "      <th>3</th>\n",
       "      <td>895</td>\n",
       "      <td>0</td>\n",
       "    </tr>\n",
       "    <tr>\n",
       "      <th>4</th>\n",
       "      <td>896</td>\n",
       "      <td>1</td>\n",
       "    </tr>\n",
       "    <tr>\n",
       "      <th>5</th>\n",
       "      <td>897</td>\n",
       "      <td>0</td>\n",
       "    </tr>\n",
       "    <tr>\n",
       "      <th>6</th>\n",
       "      <td>898</td>\n",
       "      <td>1</td>\n",
       "    </tr>\n",
       "    <tr>\n",
       "      <th>7</th>\n",
       "      <td>899</td>\n",
       "      <td>0</td>\n",
       "    </tr>\n",
       "    <tr>\n",
       "      <th>8</th>\n",
       "      <td>900</td>\n",
       "      <td>1</td>\n",
       "    </tr>\n",
       "    <tr>\n",
       "      <th>9</th>\n",
       "      <td>901</td>\n",
       "      <td>0</td>\n",
       "    </tr>\n",
       "    <tr>\n",
       "      <th>10</th>\n",
       "      <td>902</td>\n",
       "      <td>0</td>\n",
       "    </tr>\n",
       "    <tr>\n",
       "      <th>11</th>\n",
       "      <td>903</td>\n",
       "      <td>0</td>\n",
       "    </tr>\n",
       "    <tr>\n",
       "      <th>12</th>\n",
       "      <td>904</td>\n",
       "      <td>1</td>\n",
       "    </tr>\n",
       "    <tr>\n",
       "      <th>13</th>\n",
       "      <td>905</td>\n",
       "      <td>0</td>\n",
       "    </tr>\n",
       "    <tr>\n",
       "      <th>14</th>\n",
       "      <td>906</td>\n",
       "      <td>1</td>\n",
       "    </tr>\n",
       "    <tr>\n",
       "      <th>15</th>\n",
       "      <td>907</td>\n",
       "      <td>1</td>\n",
       "    </tr>\n",
       "  </tbody>\n",
       "</table>\n",
       "</div>"
      ],
      "text/plain": [
       "    PassengerId  Survived\n",
       "0           892         0\n",
       "1           893         1\n",
       "2           894         0\n",
       "3           895         0\n",
       "4           896         1\n",
       "5           897         0\n",
       "6           898         1\n",
       "7           899         0\n",
       "8           900         1\n",
       "9           901         0\n",
       "10          902         0\n",
       "11          903         0\n",
       "12          904         1\n",
       "13          905         0\n",
       "14          906         1\n",
       "15          907         1"
      ]
     },
     "execution_count": 75,
     "metadata": {},
     "output_type": "execute_result"
    }
   ],
   "source": [
    "df.head(n=16)"
   ]
  },
  {
   "cell_type": "code",
   "execution_count": 76,
   "metadata": {},
   "outputs": [
    {
     "name": "stdout",
     "output_type": "stream",
     "text": [
      "<class 'pandas.core.frame.DataFrame'>\n",
      "RangeIndex: 418 entries, 0 to 417\n",
      "Data columns (total 2 columns):\n",
      " #   Column       Non-Null Count  Dtype\n",
      "---  ------       --------------  -----\n",
      " 0   PassengerId  418 non-null    int64\n",
      " 1   Survived     418 non-null    int64\n",
      "dtypes: int64(2)\n",
      "memory usage: 6.7 KB\n"
     ]
    }
   ],
   "source": [
    "df.info()"
   ]
  },
  {
   "cell_type": "code",
   "execution_count": 77,
   "metadata": {},
   "outputs": [
    {
     "data": {
      "text/html": [
       "<div>\n",
       "<style scoped>\n",
       "    .dataframe tbody tr th:only-of-type {\n",
       "        vertical-align: middle;\n",
       "    }\n",
       "\n",
       "    .dataframe tbody tr th {\n",
       "        vertical-align: top;\n",
       "    }\n",
       "\n",
       "    .dataframe thead th {\n",
       "        text-align: right;\n",
       "    }\n",
       "</style>\n",
       "<table border=\"1\" class=\"dataframe\">\n",
       "  <thead>\n",
       "    <tr style=\"text-align: right;\">\n",
       "      <th></th>\n",
       "      <th>PassengerId</th>\n",
       "      <th>Survived</th>\n",
       "    </tr>\n",
       "  </thead>\n",
       "  <tbody>\n",
       "    <tr>\n",
       "      <th>count</th>\n",
       "      <td>418.000000</td>\n",
       "      <td>418.000000</td>\n",
       "    </tr>\n",
       "    <tr>\n",
       "      <th>mean</th>\n",
       "      <td>1100.500000</td>\n",
       "      <td>0.363636</td>\n",
       "    </tr>\n",
       "    <tr>\n",
       "      <th>std</th>\n",
       "      <td>120.810458</td>\n",
       "      <td>0.481622</td>\n",
       "    </tr>\n",
       "    <tr>\n",
       "      <th>min</th>\n",
       "      <td>892.000000</td>\n",
       "      <td>0.000000</td>\n",
       "    </tr>\n",
       "    <tr>\n",
       "      <th>25%</th>\n",
       "      <td>996.250000</td>\n",
       "      <td>0.000000</td>\n",
       "    </tr>\n",
       "    <tr>\n",
       "      <th>50%</th>\n",
       "      <td>1100.500000</td>\n",
       "      <td>0.000000</td>\n",
       "    </tr>\n",
       "    <tr>\n",
       "      <th>75%</th>\n",
       "      <td>1204.750000</td>\n",
       "      <td>1.000000</td>\n",
       "    </tr>\n",
       "    <tr>\n",
       "      <th>max</th>\n",
       "      <td>1309.000000</td>\n",
       "      <td>1.000000</td>\n",
       "    </tr>\n",
       "  </tbody>\n",
       "</table>\n",
       "</div>"
      ],
      "text/plain": [
       "       PassengerId    Survived\n",
       "count   418.000000  418.000000\n",
       "mean   1100.500000    0.363636\n",
       "std     120.810458    0.481622\n",
       "min     892.000000    0.000000\n",
       "25%     996.250000    0.000000\n",
       "50%    1100.500000    0.000000\n",
       "75%    1204.750000    1.000000\n",
       "max    1309.000000    1.000000"
      ]
     },
     "execution_count": 77,
     "metadata": {},
     "output_type": "execute_result"
    }
   ],
   "source": [
    "#Pandas describe() is used to view some basic statistical details like percentile,\n",
    "#mean, std etc. of a data frame or a series of numeric values.\n",
    "\n",
    "df.describe()"
   ]
  },
  {
   "cell_type": "code",
   "execution_count": 79,
   "metadata": {},
   "outputs": [
    {
     "data": {
      "text/plain": [
       "0    266\n",
       "1    152\n",
       "Name: Survived, dtype: int64"
      ]
     },
     "execution_count": 79,
     "metadata": {},
     "output_type": "execute_result"
    }
   ],
   "source": [
    "#Get the unique category counts\n",
    "df['Survived'].value_counts()"
   ]
  },
  {
   "cell_type": "code",
   "execution_count": 81,
   "metadata": {},
   "outputs": [
    {
     "data": {
      "text/html": [
       "<div>\n",
       "<style scoped>\n",
       "    .dataframe tbody tr th:only-of-type {\n",
       "        vertical-align: middle;\n",
       "    }\n",
       "\n",
       "    .dataframe tbody tr th {\n",
       "        vertical-align: top;\n",
       "    }\n",
       "\n",
       "    .dataframe thead th {\n",
       "        text-align: right;\n",
       "    }\n",
       "</style>\n",
       "<table border=\"1\" class=\"dataframe\">\n",
       "  <thead>\n",
       "    <tr style=\"text-align: right;\">\n",
       "      <th></th>\n",
       "      <th>PassengerId</th>\n",
       "      <th>Survived</th>\n",
       "    </tr>\n",
       "  </thead>\n",
       "  <tbody>\n",
       "    <tr>\n",
       "      <th>409</th>\n",
       "      <td>1301</td>\n",
       "      <td>1</td>\n",
       "    </tr>\n",
       "    <tr>\n",
       "      <th>410</th>\n",
       "      <td>1302</td>\n",
       "      <td>1</td>\n",
       "    </tr>\n",
       "    <tr>\n",
       "      <th>411</th>\n",
       "      <td>1303</td>\n",
       "      <td>1</td>\n",
       "    </tr>\n",
       "    <tr>\n",
       "      <th>412</th>\n",
       "      <td>1304</td>\n",
       "      <td>1</td>\n",
       "    </tr>\n",
       "    <tr>\n",
       "      <th>413</th>\n",
       "      <td>1305</td>\n",
       "      <td>0</td>\n",
       "    </tr>\n",
       "    <tr>\n",
       "      <th>414</th>\n",
       "      <td>1306</td>\n",
       "      <td>1</td>\n",
       "    </tr>\n",
       "    <tr>\n",
       "      <th>415</th>\n",
       "      <td>1307</td>\n",
       "      <td>0</td>\n",
       "    </tr>\n",
       "    <tr>\n",
       "      <th>416</th>\n",
       "      <td>1308</td>\n",
       "      <td>0</td>\n",
       "    </tr>\n",
       "    <tr>\n",
       "      <th>417</th>\n",
       "      <td>1309</td>\n",
       "      <td>0</td>\n",
       "    </tr>\n",
       "  </tbody>\n",
       "</table>\n",
       "</div>"
      ],
      "text/plain": [
       "     PassengerId  Survived\n",
       "409         1301         1\n",
       "410         1302         1\n",
       "411         1303         1\n",
       "412         1304         1\n",
       "413         1305         0\n",
       "414         1306         1\n",
       "415         1307         0\n",
       "416         1308         0\n",
       "417         1309         0"
      ]
     },
     "execution_count": 81,
     "metadata": {},
     "output_type": "execute_result"
    }
   ],
   "source": [
    "df[df['PassengerId']>1300]"
   ]
  },
  {
   "cell_type": "code",
   "execution_count": 82,
   "metadata": {},
   "outputs": [
    {
     "data": {
      "text/html": [
       "<div>\n",
       "<style scoped>\n",
       "    .dataframe tbody tr th:only-of-type {\n",
       "        vertical-align: middle;\n",
       "    }\n",
       "\n",
       "    .dataframe tbody tr th {\n",
       "        vertical-align: top;\n",
       "    }\n",
       "\n",
       "    .dataframe thead th {\n",
       "        text-align: right;\n",
       "    }\n",
       "</style>\n",
       "<table border=\"1\" class=\"dataframe\">\n",
       "  <thead>\n",
       "    <tr style=\"text-align: right;\">\n",
       "      <th></th>\n",
       "      <th>PassengerId</th>\n",
       "      <th>Survived</th>\n",
       "    </tr>\n",
       "  </thead>\n",
       "  <tbody>\n",
       "    <tr>\n",
       "      <th>PassengerId</th>\n",
       "      <td>1.000000</td>\n",
       "      <td>-0.023245</td>\n",
       "    </tr>\n",
       "    <tr>\n",
       "      <th>Survived</th>\n",
       "      <td>-0.023245</td>\n",
       "      <td>1.000000</td>\n",
       "    </tr>\n",
       "  </tbody>\n",
       "</table>\n",
       "</div>"
      ],
      "text/plain": [
       "             PassengerId  Survived\n",
       "PassengerId     1.000000 -0.023245\n",
       "Survived       -0.023245  1.000000"
      ]
     },
     "execution_count": 82,
     "metadata": {},
     "output_type": "execute_result"
    }
   ],
   "source": [
    "df.corr()"
   ]
  },
  {
   "cell_type": "code",
   "execution_count": null,
   "metadata": {},
   "outputs": [],
   "source": []
  },
  {
   "cell_type": "code",
   "execution_count": 84,
   "metadata": {},
   "outputs": [],
   "source": [
    "import numpy as np"
   ]
  },
  {
   "cell_type": "code",
   "execution_count": 85,
   "metadata": {},
   "outputs": [],
   "source": [
    "lst_data=[[1,2,3],[3,4,np.nan],[5,6,np.nan],[np.nan,np.nan,np.nan]]"
   ]
  },
  {
   "cell_type": "code",
   "execution_count": 86,
   "metadata": {},
   "outputs": [],
   "source": [
    "df=pd.DataFrame(lst_data)"
   ]
  },
  {
   "cell_type": "code",
   "execution_count": 87,
   "metadata": {},
   "outputs": [
    {
     "data": {
      "text/html": [
       "<div>\n",
       "<style scoped>\n",
       "    .dataframe tbody tr th:only-of-type {\n",
       "        vertical-align: middle;\n",
       "    }\n",
       "\n",
       "    .dataframe tbody tr th {\n",
       "        vertical-align: top;\n",
       "    }\n",
       "\n",
       "    .dataframe thead th {\n",
       "        text-align: right;\n",
       "    }\n",
       "</style>\n",
       "<table border=\"1\" class=\"dataframe\">\n",
       "  <thead>\n",
       "    <tr style=\"text-align: right;\">\n",
       "      <th></th>\n",
       "      <th>0</th>\n",
       "      <th>1</th>\n",
       "      <th>2</th>\n",
       "    </tr>\n",
       "  </thead>\n",
       "  <tbody>\n",
       "    <tr>\n",
       "      <th>0</th>\n",
       "      <td>1.0</td>\n",
       "      <td>2.0</td>\n",
       "      <td>3.0</td>\n",
       "    </tr>\n",
       "    <tr>\n",
       "      <th>1</th>\n",
       "      <td>3.0</td>\n",
       "      <td>4.0</td>\n",
       "      <td>NaN</td>\n",
       "    </tr>\n",
       "    <tr>\n",
       "      <th>2</th>\n",
       "      <td>5.0</td>\n",
       "      <td>6.0</td>\n",
       "      <td>NaN</td>\n",
       "    </tr>\n",
       "    <tr>\n",
       "      <th>3</th>\n",
       "      <td>NaN</td>\n",
       "      <td>NaN</td>\n",
       "      <td>NaN</td>\n",
       "    </tr>\n",
       "  </tbody>\n",
       "</table>\n",
       "</div>"
      ],
      "text/plain": [
       "     0    1    2\n",
       "0  1.0  2.0  3.0\n",
       "1  3.0  4.0  NaN\n",
       "2  5.0  6.0  NaN\n",
       "3  NaN  NaN  NaN"
      ]
     },
     "execution_count": 87,
     "metadata": {},
     "output_type": "execute_result"
    }
   ],
   "source": [
    "df.head()"
   ]
  },
  {
   "cell_type": "code",
   "execution_count": 88,
   "metadata": {},
   "outputs": [
    {
     "data": {
      "text/html": [
       "<div>\n",
       "<style scoped>\n",
       "    .dataframe tbody tr th:only-of-type {\n",
       "        vertical-align: middle;\n",
       "    }\n",
       "\n",
       "    .dataframe tbody tr th {\n",
       "        vertical-align: top;\n",
       "    }\n",
       "\n",
       "    .dataframe thead th {\n",
       "        text-align: right;\n",
       "    }\n",
       "</style>\n",
       "<table border=\"1\" class=\"dataframe\">\n",
       "  <thead>\n",
       "    <tr style=\"text-align: right;\">\n",
       "      <th></th>\n",
       "      <th>0</th>\n",
       "      <th>1</th>\n",
       "      <th>2</th>\n",
       "    </tr>\n",
       "  </thead>\n",
       "  <tbody>\n",
       "    <tr>\n",
       "      <th>0</th>\n",
       "      <td>1.0</td>\n",
       "      <td>2.0</td>\n",
       "      <td>3.0</td>\n",
       "    </tr>\n",
       "  </tbody>\n",
       "</table>\n",
       "</div>"
      ],
      "text/plain": [
       "     0    1    2\n",
       "0  1.0  2.0  3.0"
      ]
     },
     "execution_count": 88,
     "metadata": {},
     "output_type": "execute_result"
    }
   ],
   "source": [
    "## HAndling Missing Values\n",
    "\n",
    "##Drop nan values\n",
    "\n",
    "df.dropna(axis=0)"
   ]
  },
  {
   "cell_type": "code",
   "execution_count": 89,
   "metadata": {},
   "outputs": [
    {
     "data": {
      "text/html": [
       "<div>\n",
       "<style scoped>\n",
       "    .dataframe tbody tr th:only-of-type {\n",
       "        vertical-align: middle;\n",
       "    }\n",
       "\n",
       "    .dataframe tbody tr th {\n",
       "        vertical-align: top;\n",
       "    }\n",
       "\n",
       "    .dataframe thead th {\n",
       "        text-align: right;\n",
       "    }\n",
       "</style>\n",
       "<table border=\"1\" class=\"dataframe\">\n",
       "  <thead>\n",
       "    <tr style=\"text-align: right;\">\n",
       "      <th></th>\n",
       "    </tr>\n",
       "  </thead>\n",
       "  <tbody>\n",
       "    <tr>\n",
       "      <th>0</th>\n",
       "    </tr>\n",
       "    <tr>\n",
       "      <th>1</th>\n",
       "    </tr>\n",
       "    <tr>\n",
       "      <th>2</th>\n",
       "    </tr>\n",
       "    <tr>\n",
       "      <th>3</th>\n",
       "    </tr>\n",
       "  </tbody>\n",
       "</table>\n",
       "</div>"
      ],
      "text/plain": [
       "Empty DataFrame\n",
       "Columns: []\n",
       "Index: [0, 1, 2, 3]"
      ]
     },
     "execution_count": 89,
     "metadata": {},
     "output_type": "execute_result"
    }
   ],
   "source": [
    "df.dropna(axis=1)"
   ]
  },
  {
   "cell_type": "code",
   "execution_count": null,
   "metadata": {},
   "outputs": [],
   "source": []
  },
  {
   "cell_type": "code",
   "execution_count": 90,
   "metadata": {},
   "outputs": [],
   "source": [
    "df = pd.DataFrame(np.random.randn(5, 3), index=['a', 'c', 'e', 'f', 'h'],\n",
    "                     columns=['one', 'two', 'three'])"
   ]
  },
  {
   "cell_type": "code",
   "execution_count": 91,
   "metadata": {},
   "outputs": [
    {
     "data": {
      "text/html": [
       "<div>\n",
       "<style scoped>\n",
       "    .dataframe tbody tr th:only-of-type {\n",
       "        vertical-align: middle;\n",
       "    }\n",
       "\n",
       "    .dataframe tbody tr th {\n",
       "        vertical-align: top;\n",
       "    }\n",
       "\n",
       "    .dataframe thead th {\n",
       "        text-align: right;\n",
       "    }\n",
       "</style>\n",
       "<table border=\"1\" class=\"dataframe\">\n",
       "  <thead>\n",
       "    <tr style=\"text-align: right;\">\n",
       "      <th></th>\n",
       "      <th>one</th>\n",
       "      <th>two</th>\n",
       "      <th>three</th>\n",
       "    </tr>\n",
       "  </thead>\n",
       "  <tbody>\n",
       "    <tr>\n",
       "      <th>a</th>\n",
       "      <td>-0.896094</td>\n",
       "      <td>-0.951329</td>\n",
       "      <td>-0.224002</td>\n",
       "    </tr>\n",
       "    <tr>\n",
       "      <th>c</th>\n",
       "      <td>-1.611234</td>\n",
       "      <td>0.253644</td>\n",
       "      <td>2.350918</td>\n",
       "    </tr>\n",
       "    <tr>\n",
       "      <th>e</th>\n",
       "      <td>0.626225</td>\n",
       "      <td>1.166054</td>\n",
       "      <td>-0.138200</td>\n",
       "    </tr>\n",
       "    <tr>\n",
       "      <th>f</th>\n",
       "      <td>-0.104770</td>\n",
       "      <td>-0.398680</td>\n",
       "      <td>1.876759</td>\n",
       "    </tr>\n",
       "    <tr>\n",
       "      <th>h</th>\n",
       "      <td>-0.364127</td>\n",
       "      <td>0.020892</td>\n",
       "      <td>-1.830271</td>\n",
       "    </tr>\n",
       "  </tbody>\n",
       "</table>\n",
       "</div>"
      ],
      "text/plain": [
       "        one       two     three\n",
       "a -0.896094 -0.951329 -0.224002\n",
       "c -1.611234  0.253644  2.350918\n",
       "e  0.626225  1.166054 -0.138200\n",
       "f -0.104770 -0.398680  1.876759\n",
       "h -0.364127  0.020892 -1.830271"
      ]
     },
     "execution_count": 91,
     "metadata": {},
     "output_type": "execute_result"
    }
   ],
   "source": [
    "df.head()"
   ]
  },
  {
   "cell_type": "code",
   "execution_count": 92,
   "metadata": {},
   "outputs": [],
   "source": [
    "df2=df.reindex(['a', 'b', 'c', 'd', 'e', 'f', 'g', 'h'])"
   ]
  },
  {
   "cell_type": "code",
   "execution_count": 93,
   "metadata": {},
   "outputs": [
    {
     "data": {
      "text/html": [
       "<div>\n",
       "<style scoped>\n",
       "    .dataframe tbody tr th:only-of-type {\n",
       "        vertical-align: middle;\n",
       "    }\n",
       "\n",
       "    .dataframe tbody tr th {\n",
       "        vertical-align: top;\n",
       "    }\n",
       "\n",
       "    .dataframe thead th {\n",
       "        text-align: right;\n",
       "    }\n",
       "</style>\n",
       "<table border=\"1\" class=\"dataframe\">\n",
       "  <thead>\n",
       "    <tr style=\"text-align: right;\">\n",
       "      <th></th>\n",
       "      <th>one</th>\n",
       "      <th>two</th>\n",
       "      <th>three</th>\n",
       "    </tr>\n",
       "  </thead>\n",
       "  <tbody>\n",
       "    <tr>\n",
       "      <th>a</th>\n",
       "      <td>-0.896094</td>\n",
       "      <td>-0.951329</td>\n",
       "      <td>-0.224002</td>\n",
       "    </tr>\n",
       "    <tr>\n",
       "      <th>b</th>\n",
       "      <td>NaN</td>\n",
       "      <td>NaN</td>\n",
       "      <td>NaN</td>\n",
       "    </tr>\n",
       "    <tr>\n",
       "      <th>c</th>\n",
       "      <td>-1.611234</td>\n",
       "      <td>0.253644</td>\n",
       "      <td>2.350918</td>\n",
       "    </tr>\n",
       "    <tr>\n",
       "      <th>d</th>\n",
       "      <td>NaN</td>\n",
       "      <td>NaN</td>\n",
       "      <td>NaN</td>\n",
       "    </tr>\n",
       "    <tr>\n",
       "      <th>e</th>\n",
       "      <td>0.626225</td>\n",
       "      <td>1.166054</td>\n",
       "      <td>-0.138200</td>\n",
       "    </tr>\n",
       "    <tr>\n",
       "      <th>f</th>\n",
       "      <td>-0.104770</td>\n",
       "      <td>-0.398680</td>\n",
       "      <td>1.876759</td>\n",
       "    </tr>\n",
       "    <tr>\n",
       "      <th>g</th>\n",
       "      <td>NaN</td>\n",
       "      <td>NaN</td>\n",
       "      <td>NaN</td>\n",
       "    </tr>\n",
       "    <tr>\n",
       "      <th>h</th>\n",
       "      <td>-0.364127</td>\n",
       "      <td>0.020892</td>\n",
       "      <td>-1.830271</td>\n",
       "    </tr>\n",
       "  </tbody>\n",
       "</table>\n",
       "</div>"
      ],
      "text/plain": [
       "        one       two     three\n",
       "a -0.896094 -0.951329 -0.224002\n",
       "b       NaN       NaN       NaN\n",
       "c -1.611234  0.253644  2.350918\n",
       "d       NaN       NaN       NaN\n",
       "e  0.626225  1.166054 -0.138200\n",
       "f -0.104770 -0.398680  1.876759\n",
       "g       NaN       NaN       NaN\n",
       "h -0.364127  0.020892 -1.830271"
      ]
     },
     "execution_count": 93,
     "metadata": {},
     "output_type": "execute_result"
    }
   ],
   "source": [
    "df2"
   ]
  },
  {
   "cell_type": "code",
   "execution_count": 94,
   "metadata": {},
   "outputs": [
    {
     "data": {
      "text/html": [
       "<div>\n",
       "<style scoped>\n",
       "    .dataframe tbody tr th:only-of-type {\n",
       "        vertical-align: middle;\n",
       "    }\n",
       "\n",
       "    .dataframe tbody tr th {\n",
       "        vertical-align: top;\n",
       "    }\n",
       "\n",
       "    .dataframe thead th {\n",
       "        text-align: right;\n",
       "    }\n",
       "</style>\n",
       "<table border=\"1\" class=\"dataframe\">\n",
       "  <thead>\n",
       "    <tr style=\"text-align: right;\">\n",
       "      <th></th>\n",
       "      <th>one</th>\n",
       "      <th>two</th>\n",
       "      <th>three</th>\n",
       "    </tr>\n",
       "  </thead>\n",
       "  <tbody>\n",
       "    <tr>\n",
       "      <th>a</th>\n",
       "      <td>-0.896094</td>\n",
       "      <td>-0.951329</td>\n",
       "      <td>-0.224002</td>\n",
       "    </tr>\n",
       "    <tr>\n",
       "      <th>c</th>\n",
       "      <td>-1.611234</td>\n",
       "      <td>0.253644</td>\n",
       "      <td>2.350918</td>\n",
       "    </tr>\n",
       "    <tr>\n",
       "      <th>e</th>\n",
       "      <td>0.626225</td>\n",
       "      <td>1.166054</td>\n",
       "      <td>-0.138200</td>\n",
       "    </tr>\n",
       "    <tr>\n",
       "      <th>f</th>\n",
       "      <td>-0.104770</td>\n",
       "      <td>-0.398680</td>\n",
       "      <td>1.876759</td>\n",
       "    </tr>\n",
       "    <tr>\n",
       "      <th>h</th>\n",
       "      <td>-0.364127</td>\n",
       "      <td>0.020892</td>\n",
       "      <td>-1.830271</td>\n",
       "    </tr>\n",
       "  </tbody>\n",
       "</table>\n",
       "</div>"
      ],
      "text/plain": [
       "        one       two     three\n",
       "a -0.896094 -0.951329 -0.224002\n",
       "c -1.611234  0.253644  2.350918\n",
       "e  0.626225  1.166054 -0.138200\n",
       "f -0.104770 -0.398680  1.876759\n",
       "h -0.364127  0.020892 -1.830271"
      ]
     },
     "execution_count": 94,
     "metadata": {},
     "output_type": "execute_result"
    }
   ],
   "source": [
    "df2.dropna(axis=0)"
   ]
  },
  {
   "cell_type": "code",
   "execution_count": 95,
   "metadata": {},
   "outputs": [
    {
     "data": {
      "text/plain": [
       "a    False\n",
       "b     True\n",
       "c    False\n",
       "d     True\n",
       "e    False\n",
       "f    False\n",
       "g     True\n",
       "h    False\n",
       "Name: one, dtype: bool"
      ]
     },
     "execution_count": 95,
     "metadata": {},
     "output_type": "execute_result"
    }
   ],
   "source": [
    "pd.isna(df2['one'])"
   ]
  },
  {
   "cell_type": "code",
   "execution_count": 96,
   "metadata": {},
   "outputs": [
    {
     "data": {
      "text/plain": [
       "a     True\n",
       "b    False\n",
       "c     True\n",
       "d    False\n",
       "e     True\n",
       "f     True\n",
       "g    False\n",
       "h     True\n",
       "Name: one, dtype: bool"
      ]
     },
     "execution_count": 96,
     "metadata": {},
     "output_type": "execute_result"
    }
   ],
   "source": [
    "df2['one'].notna()"
   ]
  },
  {
   "cell_type": "code",
   "execution_count": 97,
   "metadata": {},
   "outputs": [
    {
     "data": {
      "text/html": [
       "<div>\n",
       "<style scoped>\n",
       "    .dataframe tbody tr th:only-of-type {\n",
       "        vertical-align: middle;\n",
       "    }\n",
       "\n",
       "    .dataframe tbody tr th {\n",
       "        vertical-align: top;\n",
       "    }\n",
       "\n",
       "    .dataframe thead th {\n",
       "        text-align: right;\n",
       "    }\n",
       "</style>\n",
       "<table border=\"1\" class=\"dataframe\">\n",
       "  <thead>\n",
       "    <tr style=\"text-align: right;\">\n",
       "      <th></th>\n",
       "      <th>one</th>\n",
       "      <th>two</th>\n",
       "      <th>three</th>\n",
       "    </tr>\n",
       "  </thead>\n",
       "  <tbody>\n",
       "    <tr>\n",
       "      <th>a</th>\n",
       "      <td>-0.896094</td>\n",
       "      <td>-0.951329</td>\n",
       "      <td>-0.224002</td>\n",
       "    </tr>\n",
       "    <tr>\n",
       "      <th>b</th>\n",
       "      <td>Missing</td>\n",
       "      <td>Missing</td>\n",
       "      <td>Missing</td>\n",
       "    </tr>\n",
       "    <tr>\n",
       "      <th>c</th>\n",
       "      <td>-1.611234</td>\n",
       "      <td>0.253644</td>\n",
       "      <td>2.350918</td>\n",
       "    </tr>\n",
       "    <tr>\n",
       "      <th>d</th>\n",
       "      <td>Missing</td>\n",
       "      <td>Missing</td>\n",
       "      <td>Missing</td>\n",
       "    </tr>\n",
       "    <tr>\n",
       "      <th>e</th>\n",
       "      <td>0.626225</td>\n",
       "      <td>1.166054</td>\n",
       "      <td>-0.1382</td>\n",
       "    </tr>\n",
       "    <tr>\n",
       "      <th>f</th>\n",
       "      <td>-0.10477</td>\n",
       "      <td>-0.39868</td>\n",
       "      <td>1.876759</td>\n",
       "    </tr>\n",
       "    <tr>\n",
       "      <th>g</th>\n",
       "      <td>Missing</td>\n",
       "      <td>Missing</td>\n",
       "      <td>Missing</td>\n",
       "    </tr>\n",
       "    <tr>\n",
       "      <th>h</th>\n",
       "      <td>-0.364127</td>\n",
       "      <td>0.020892</td>\n",
       "      <td>-1.830271</td>\n",
       "    </tr>\n",
       "  </tbody>\n",
       "</table>\n",
       "</div>"
      ],
      "text/plain": [
       "        one       two     three\n",
       "a -0.896094 -0.951329 -0.224002\n",
       "b   Missing   Missing   Missing\n",
       "c -1.611234  0.253644  2.350918\n",
       "d   Missing   Missing   Missing\n",
       "e  0.626225  1.166054   -0.1382\n",
       "f  -0.10477  -0.39868  1.876759\n",
       "g   Missing   Missing   Missing\n",
       "h -0.364127  0.020892 -1.830271"
      ]
     },
     "execution_count": 97,
     "metadata": {},
     "output_type": "execute_result"
    }
   ],
   "source": [
    "df2.fillna('Missing')"
   ]
  },
  {
   "cell_type": "code",
   "execution_count": 98,
   "metadata": {},
   "outputs": [
    {
     "data": {
      "text/plain": [
       "array([-0.89609436,         nan, -1.61123392,         nan,  0.62622454,\n",
       "       -0.10476952,         nan, -0.36412668])"
      ]
     },
     "execution_count": 98,
     "metadata": {},
     "output_type": "execute_result"
    }
   ],
   "source": [
    "df2['one'].values"
   ]
  },
  {
   "cell_type": "code",
   "execution_count": 99,
   "metadata": {},
   "outputs": [],
   "source": [
    "### Reading different data sources with the help of pandas"
   ]
  },
  {
   "cell_type": "markdown",
   "metadata": {},
   "source": [
    "### Read files"
   ]
  },
  {
   "cell_type": "markdown",
   "metadata": {},
   "source": [
    "## CSV"
   ]
  },
  {
   "cell_type": "code",
   "execution_count": 100,
   "metadata": {},
   "outputs": [],
   "source": [
    "from io import StringIO, BytesIO"
   ]
  },
  {
   "cell_type": "code",
   "execution_count": 101,
   "metadata": {},
   "outputs": [],
   "source": [
    "data = ('col1,col2,col3\\n'\n",
    "            'x,y,1\\n'\n",
    "            'a,b,2\\n'\n",
    "            'c,d,3')"
   ]
  },
  {
   "cell_type": "code",
   "execution_count": 102,
   "metadata": {},
   "outputs": [
    {
     "data": {
      "text/plain": [
       "str"
      ]
     },
     "execution_count": 102,
     "metadata": {},
     "output_type": "execute_result"
    }
   ],
   "source": [
    "type(data)"
   ]
  },
  {
   "cell_type": "code",
   "execution_count": 103,
   "metadata": {},
   "outputs": [
    {
     "data": {
      "text/html": [
       "<div>\n",
       "<style scoped>\n",
       "    .dataframe tbody tr th:only-of-type {\n",
       "        vertical-align: middle;\n",
       "    }\n",
       "\n",
       "    .dataframe tbody tr th {\n",
       "        vertical-align: top;\n",
       "    }\n",
       "\n",
       "    .dataframe thead th {\n",
       "        text-align: right;\n",
       "    }\n",
       "</style>\n",
       "<table border=\"1\" class=\"dataframe\">\n",
       "  <thead>\n",
       "    <tr style=\"text-align: right;\">\n",
       "      <th></th>\n",
       "      <th>col1</th>\n",
       "      <th>col2</th>\n",
       "      <th>col3</th>\n",
       "    </tr>\n",
       "  </thead>\n",
       "  <tbody>\n",
       "    <tr>\n",
       "      <th>0</th>\n",
       "      <td>x</td>\n",
       "      <td>y</td>\n",
       "      <td>1</td>\n",
       "    </tr>\n",
       "    <tr>\n",
       "      <th>1</th>\n",
       "      <td>a</td>\n",
       "      <td>b</td>\n",
       "      <td>2</td>\n",
       "    </tr>\n",
       "    <tr>\n",
       "      <th>2</th>\n",
       "      <td>c</td>\n",
       "      <td>d</td>\n",
       "      <td>3</td>\n",
       "    </tr>\n",
       "  </tbody>\n",
       "</table>\n",
       "</div>"
      ],
      "text/plain": [
       "  col1 col2  col3\n",
       "0    x    y     1\n",
       "1    a    b     2\n",
       "2    c    d     3"
      ]
     },
     "execution_count": 103,
     "metadata": {},
     "output_type": "execute_result"
    }
   ],
   "source": [
    "pd.read_csv(StringIO(data))"
   ]
  },
  {
   "cell_type": "code",
   "execution_count": 104,
   "metadata": {},
   "outputs": [
    {
     "data": {
      "text/html": [
       "<div>\n",
       "<style scoped>\n",
       "    .dataframe tbody tr th:only-of-type {\n",
       "        vertical-align: middle;\n",
       "    }\n",
       "\n",
       "    .dataframe tbody tr th {\n",
       "        vertical-align: top;\n",
       "    }\n",
       "\n",
       "    .dataframe thead th {\n",
       "        text-align: right;\n",
       "    }\n",
       "</style>\n",
       "<table border=\"1\" class=\"dataframe\">\n",
       "  <thead>\n",
       "    <tr style=\"text-align: right;\">\n",
       "      <th></th>\n",
       "      <th>col1</th>\n",
       "      <th>col3</th>\n",
       "    </tr>\n",
       "  </thead>\n",
       "  <tbody>\n",
       "    <tr>\n",
       "      <th>0</th>\n",
       "      <td>x</td>\n",
       "      <td>1</td>\n",
       "    </tr>\n",
       "    <tr>\n",
       "      <th>1</th>\n",
       "      <td>a</td>\n",
       "      <td>2</td>\n",
       "    </tr>\n",
       "    <tr>\n",
       "      <th>2</th>\n",
       "      <td>c</td>\n",
       "      <td>3</td>\n",
       "    </tr>\n",
       "  </tbody>\n",
       "</table>\n",
       "</div>"
      ],
      "text/plain": [
       "  col1  col3\n",
       "0    x     1\n",
       "1    a     2\n",
       "2    c     3"
      ]
     },
     "execution_count": 104,
     "metadata": {},
     "output_type": "execute_result"
    }
   ],
   "source": [
    "## Read from specific columns\n",
    "df=pd.read_csv(StringIO(data), usecols=lambda x: x.upper() in ['COL1', 'COL3'])\n",
    "df"
   ]
  },
  {
   "cell_type": "code",
   "execution_count": 105,
   "metadata": {},
   "outputs": [],
   "source": [
    "df.to_csv('Test.csv')"
   ]
  },
  {
   "cell_type": "code",
   "execution_count": 106,
   "metadata": {},
   "outputs": [],
   "source": [
    "## Specifying columns data types\n",
    "\n",
    "data = ('a,b,c,d\\n'\n",
    "            '1,2,3,4\\n'\n",
    "            '5,6,7,8\\n'\n",
    "            '9,10,11')\n"
   ]
  },
  {
   "cell_type": "code",
   "execution_count": 107,
   "metadata": {},
   "outputs": [
    {
     "name": "stdout",
     "output_type": "stream",
     "text": [
      "a,b,c,d\n",
      "1,2,3,4\n",
      "5,6,7,8\n",
      "9,10,11\n"
     ]
    }
   ],
   "source": [
    "print(data)"
   ]
  },
  {
   "cell_type": "code",
   "execution_count": 108,
   "metadata": {},
   "outputs": [],
   "source": [
    "df=pd.read_csv(StringIO(data),dtype=object)"
   ]
  },
  {
   "cell_type": "code",
   "execution_count": 109,
   "metadata": {},
   "outputs": [
    {
     "data": {
      "text/html": [
       "<div>\n",
       "<style scoped>\n",
       "    .dataframe tbody tr th:only-of-type {\n",
       "        vertical-align: middle;\n",
       "    }\n",
       "\n",
       "    .dataframe tbody tr th {\n",
       "        vertical-align: top;\n",
       "    }\n",
       "\n",
       "    .dataframe thead th {\n",
       "        text-align: right;\n",
       "    }\n",
       "</style>\n",
       "<table border=\"1\" class=\"dataframe\">\n",
       "  <thead>\n",
       "    <tr style=\"text-align: right;\">\n",
       "      <th></th>\n",
       "      <th>a</th>\n",
       "      <th>b</th>\n",
       "      <th>c</th>\n",
       "      <th>d</th>\n",
       "    </tr>\n",
       "  </thead>\n",
       "  <tbody>\n",
       "    <tr>\n",
       "      <th>0</th>\n",
       "      <td>1</td>\n",
       "      <td>2</td>\n",
       "      <td>3</td>\n",
       "      <td>4</td>\n",
       "    </tr>\n",
       "    <tr>\n",
       "      <th>1</th>\n",
       "      <td>5</td>\n",
       "      <td>6</td>\n",
       "      <td>7</td>\n",
       "      <td>8</td>\n",
       "    </tr>\n",
       "    <tr>\n",
       "      <th>2</th>\n",
       "      <td>9</td>\n",
       "      <td>10</td>\n",
       "      <td>11</td>\n",
       "      <td>NaN</td>\n",
       "    </tr>\n",
       "  </tbody>\n",
       "</table>\n",
       "</div>"
      ],
      "text/plain": [
       "   a   b   c    d\n",
       "0  1   2   3    4\n",
       "1  5   6   7    8\n",
       "2  9  10  11  NaN"
      ]
     },
     "execution_count": 109,
     "metadata": {},
     "output_type": "execute_result"
    }
   ],
   "source": [
    "df"
   ]
  },
  {
   "cell_type": "code",
   "execution_count": 110,
   "metadata": {},
   "outputs": [
    {
     "data": {
      "text/plain": [
       "0    1\n",
       "1    5\n",
       "2    9\n",
       "Name: a, dtype: object"
      ]
     },
     "execution_count": 110,
     "metadata": {},
     "output_type": "execute_result"
    }
   ],
   "source": [
    "df['a']"
   ]
  },
  {
   "cell_type": "code",
   "execution_count": 111,
   "metadata": {},
   "outputs": [],
   "source": [
    "df=pd.read_csv(StringIO(data),dtype={'b':int,'c':np.float,'a':'Int64'})"
   ]
  },
  {
   "cell_type": "code",
   "execution_count": 112,
   "metadata": {},
   "outputs": [
    {
     "data": {
      "text/html": [
       "<div>\n",
       "<style scoped>\n",
       "    .dataframe tbody tr th:only-of-type {\n",
       "        vertical-align: middle;\n",
       "    }\n",
       "\n",
       "    .dataframe tbody tr th {\n",
       "        vertical-align: top;\n",
       "    }\n",
       "\n",
       "    .dataframe thead th {\n",
       "        text-align: right;\n",
       "    }\n",
       "</style>\n",
       "<table border=\"1\" class=\"dataframe\">\n",
       "  <thead>\n",
       "    <tr style=\"text-align: right;\">\n",
       "      <th></th>\n",
       "      <th>a</th>\n",
       "      <th>b</th>\n",
       "      <th>c</th>\n",
       "      <th>d</th>\n",
       "    </tr>\n",
       "  </thead>\n",
       "  <tbody>\n",
       "    <tr>\n",
       "      <th>0</th>\n",
       "      <td>1</td>\n",
       "      <td>2</td>\n",
       "      <td>3.0</td>\n",
       "      <td>4.0</td>\n",
       "    </tr>\n",
       "    <tr>\n",
       "      <th>1</th>\n",
       "      <td>5</td>\n",
       "      <td>6</td>\n",
       "      <td>7.0</td>\n",
       "      <td>8.0</td>\n",
       "    </tr>\n",
       "    <tr>\n",
       "      <th>2</th>\n",
       "      <td>9</td>\n",
       "      <td>10</td>\n",
       "      <td>11.0</td>\n",
       "      <td>NaN</td>\n",
       "    </tr>\n",
       "  </tbody>\n",
       "</table>\n",
       "</div>"
      ],
      "text/plain": [
       "   a   b     c    d\n",
       "0  1   2   3.0  4.0\n",
       "1  5   6   7.0  8.0\n",
       "2  9  10  11.0  NaN"
      ]
     },
     "execution_count": 112,
     "metadata": {},
     "output_type": "execute_result"
    }
   ],
   "source": [
    "df"
   ]
  },
  {
   "cell_type": "code",
   "execution_count": 113,
   "metadata": {},
   "outputs": [
    {
     "data": {
      "text/plain": [
       "5"
      ]
     },
     "execution_count": 113,
     "metadata": {},
     "output_type": "execute_result"
    }
   ],
   "source": [
    "df['a'][1]"
   ]
  },
  {
   "cell_type": "code",
   "execution_count": 114,
   "metadata": {},
   "outputs": [
    {
     "data": {
      "text/plain": [
       "a      Int64\n",
       "b      int32\n",
       "c    float64\n",
       "d    float64\n",
       "dtype: object"
      ]
     },
     "execution_count": 114,
     "metadata": {},
     "output_type": "execute_result"
    }
   ],
   "source": [
    "## check the datatype\n",
    "df.dtypes"
   ]
  },
  {
   "cell_type": "code",
   "execution_count": null,
   "metadata": {},
   "outputs": [],
   "source": []
  },
  {
   "cell_type": "code",
   "execution_count": 115,
   "metadata": {},
   "outputs": [],
   "source": [
    "## Index columns and training delimiters\n"
   ]
  },
  {
   "cell_type": "code",
   "execution_count": null,
   "metadata": {},
   "outputs": [],
   "source": []
  },
  {
   "cell_type": "code",
   "execution_count": 116,
   "metadata": {},
   "outputs": [],
   "source": [
    "data = ('index,a,b,c\\n'\n",
    "           '4,apple,bat,5.7\\n'\n",
    "            '8,orange,cow,10')"
   ]
  },
  {
   "cell_type": "code",
   "execution_count": 117,
   "metadata": {},
   "outputs": [
    {
     "data": {
      "text/html": [
       "<div>\n",
       "<style scoped>\n",
       "    .dataframe tbody tr th:only-of-type {\n",
       "        vertical-align: middle;\n",
       "    }\n",
       "\n",
       "    .dataframe tbody tr th {\n",
       "        vertical-align: top;\n",
       "    }\n",
       "\n",
       "    .dataframe thead th {\n",
       "        text-align: right;\n",
       "    }\n",
       "</style>\n",
       "<table border=\"1\" class=\"dataframe\">\n",
       "  <thead>\n",
       "    <tr style=\"text-align: right;\">\n",
       "      <th></th>\n",
       "      <th>a</th>\n",
       "      <th>b</th>\n",
       "      <th>c</th>\n",
       "    </tr>\n",
       "    <tr>\n",
       "      <th>index</th>\n",
       "      <th></th>\n",
       "      <th></th>\n",
       "      <th></th>\n",
       "    </tr>\n",
       "  </thead>\n",
       "  <tbody>\n",
       "    <tr>\n",
       "      <th>4</th>\n",
       "      <td>apple</td>\n",
       "      <td>bat</td>\n",
       "      <td>5.7</td>\n",
       "    </tr>\n",
       "    <tr>\n",
       "      <th>8</th>\n",
       "      <td>orange</td>\n",
       "      <td>cow</td>\n",
       "      <td>10.0</td>\n",
       "    </tr>\n",
       "  </tbody>\n",
       "</table>\n",
       "</div>"
      ],
      "text/plain": [
       "            a    b     c\n",
       "index                   \n",
       "4       apple  bat   5.7\n",
       "8      orange  cow  10.0"
      ]
     },
     "execution_count": 117,
     "metadata": {},
     "output_type": "execute_result"
    }
   ],
   "source": [
    "pd.read_csv(StringIO(data),index_col=0)"
   ]
  },
  {
   "cell_type": "code",
   "execution_count": 118,
   "metadata": {},
   "outputs": [],
   "source": [
    " data = ('a,b,c\\n'\n",
    "           '4,apple,bat,\\n'\n",
    "            '8,orange,cow,')"
   ]
  },
  {
   "cell_type": "code",
   "execution_count": 119,
   "metadata": {},
   "outputs": [
    {
     "data": {
      "text/html": [
       "<div>\n",
       "<style scoped>\n",
       "    .dataframe tbody tr th:only-of-type {\n",
       "        vertical-align: middle;\n",
       "    }\n",
       "\n",
       "    .dataframe tbody tr th {\n",
       "        vertical-align: top;\n",
       "    }\n",
       "\n",
       "    .dataframe thead th {\n",
       "        text-align: right;\n",
       "    }\n",
       "</style>\n",
       "<table border=\"1\" class=\"dataframe\">\n",
       "  <thead>\n",
       "    <tr style=\"text-align: right;\">\n",
       "      <th></th>\n",
       "      <th>a</th>\n",
       "      <th>b</th>\n",
       "      <th>c</th>\n",
       "    </tr>\n",
       "  </thead>\n",
       "  <tbody>\n",
       "    <tr>\n",
       "      <th>4</th>\n",
       "      <td>apple</td>\n",
       "      <td>bat</td>\n",
       "      <td>NaN</td>\n",
       "    </tr>\n",
       "    <tr>\n",
       "      <th>8</th>\n",
       "      <td>orange</td>\n",
       "      <td>cow</td>\n",
       "      <td>NaN</td>\n",
       "    </tr>\n",
       "  </tbody>\n",
       "</table>\n",
       "</div>"
      ],
      "text/plain": [
       "        a    b   c\n",
       "4   apple  bat NaN\n",
       "8  orange  cow NaN"
      ]
     },
     "execution_count": 119,
     "metadata": {},
     "output_type": "execute_result"
    }
   ],
   "source": [
    "pd.read_csv(StringIO(data))"
   ]
  },
  {
   "cell_type": "code",
   "execution_count": 120,
   "metadata": {},
   "outputs": [
    {
     "data": {
      "text/html": [
       "<div>\n",
       "<style scoped>\n",
       "    .dataframe tbody tr th:only-of-type {\n",
       "        vertical-align: middle;\n",
       "    }\n",
       "\n",
       "    .dataframe tbody tr th {\n",
       "        vertical-align: top;\n",
       "    }\n",
       "\n",
       "    .dataframe thead th {\n",
       "        text-align: right;\n",
       "    }\n",
       "</style>\n",
       "<table border=\"1\" class=\"dataframe\">\n",
       "  <thead>\n",
       "    <tr style=\"text-align: right;\">\n",
       "      <th></th>\n",
       "      <th>a</th>\n",
       "      <th>b</th>\n",
       "      <th>c</th>\n",
       "    </tr>\n",
       "  </thead>\n",
       "  <tbody>\n",
       "    <tr>\n",
       "      <th>0</th>\n",
       "      <td>4</td>\n",
       "      <td>apple</td>\n",
       "      <td>bat</td>\n",
       "    </tr>\n",
       "    <tr>\n",
       "      <th>1</th>\n",
       "      <td>8</td>\n",
       "      <td>orange</td>\n",
       "      <td>cow</td>\n",
       "    </tr>\n",
       "  </tbody>\n",
       "</table>\n",
       "</div>"
      ],
      "text/plain": [
       "   a       b    c\n",
       "0  4   apple  bat\n",
       "1  8  orange  cow"
      ]
     },
     "execution_count": 120,
     "metadata": {},
     "output_type": "execute_result"
    }
   ],
   "source": [
    "pd.read_csv(StringIO(data),index_col=False)"
   ]
  },
  {
   "cell_type": "code",
   "execution_count": 121,
   "metadata": {},
   "outputs": [],
   "source": [
    "## Combining usecols and index_col\n",
    "data = ('a,b,c\\n'\n",
    "           '4,apple,bat,\\n'\n",
    "            '8,orange,cow,')"
   ]
  },
  {
   "cell_type": "code",
   "execution_count": 122,
   "metadata": {},
   "outputs": [
    {
     "data": {
      "text/html": [
       "<div>\n",
       "<style scoped>\n",
       "    .dataframe tbody tr th:only-of-type {\n",
       "        vertical-align: middle;\n",
       "    }\n",
       "\n",
       "    .dataframe tbody tr th {\n",
       "        vertical-align: top;\n",
       "    }\n",
       "\n",
       "    .dataframe thead th {\n",
       "        text-align: right;\n",
       "    }\n",
       "</style>\n",
       "<table border=\"1\" class=\"dataframe\">\n",
       "  <thead>\n",
       "    <tr style=\"text-align: right;\">\n",
       "      <th></th>\n",
       "      <th>b</th>\n",
       "      <th>c</th>\n",
       "    </tr>\n",
       "  </thead>\n",
       "  <tbody>\n",
       "    <tr>\n",
       "      <th>0</th>\n",
       "      <td>apple</td>\n",
       "      <td>bat</td>\n",
       "    </tr>\n",
       "    <tr>\n",
       "      <th>1</th>\n",
       "      <td>orange</td>\n",
       "      <td>cow</td>\n",
       "    </tr>\n",
       "  </tbody>\n",
       "</table>\n",
       "</div>"
      ],
      "text/plain": [
       "        b    c\n",
       "0   apple  bat\n",
       "1  orange  cow"
      ]
     },
     "execution_count": 122,
     "metadata": {},
     "output_type": "execute_result"
    }
   ],
   "source": [
    "pd.read_csv(StringIO(data), usecols=['b', 'c'],index_col=False)"
   ]
  },
  {
   "cell_type": "code",
   "execution_count": 123,
   "metadata": {},
   "outputs": [],
   "source": [
    "## Quoting and Escape Characters¶. Very useful in NLP\n",
    "\n",
    "data = 'a,b\\n\"hello, \\\\\"Bob\\\\\", nice to see you\",5'"
   ]
  },
  {
   "cell_type": "code",
   "execution_count": 124,
   "metadata": {},
   "outputs": [
    {
     "data": {
      "text/html": [
       "<div>\n",
       "<style scoped>\n",
       "    .dataframe tbody tr th:only-of-type {\n",
       "        vertical-align: middle;\n",
       "    }\n",
       "\n",
       "    .dataframe tbody tr th {\n",
       "        vertical-align: top;\n",
       "    }\n",
       "\n",
       "    .dataframe thead th {\n",
       "        text-align: right;\n",
       "    }\n",
       "</style>\n",
       "<table border=\"1\" class=\"dataframe\">\n",
       "  <thead>\n",
       "    <tr style=\"text-align: right;\">\n",
       "      <th></th>\n",
       "      <th>a</th>\n",
       "      <th>b</th>\n",
       "    </tr>\n",
       "  </thead>\n",
       "  <tbody>\n",
       "    <tr>\n",
       "      <th>0</th>\n",
       "      <td>hello, \"Bob\", nice to see you</td>\n",
       "      <td>5</td>\n",
       "    </tr>\n",
       "  </tbody>\n",
       "</table>\n",
       "</div>"
      ],
      "text/plain": [
       "                               a  b\n",
       "0  hello, \"Bob\", nice to see you  5"
      ]
     },
     "execution_count": 124,
     "metadata": {},
     "output_type": "execute_result"
    }
   ],
   "source": [
    "pd.read_csv(StringIO(data),escapechar='\\\\')"
   ]
  },
  {
   "cell_type": "code",
   "execution_count": 127,
   "metadata": {},
   "outputs": [],
   "source": [
    "## URL to CSV\n",
    "\n",
    "df=pd.read_csv('https://download.bls.gov/pub/time.series/cu/cu.item',sep='\\t')"
   ]
  },
  {
   "cell_type": "code",
   "execution_count": 126,
   "metadata": {},
   "outputs": [
    {
     "data": {
      "text/html": [
       "<div>\n",
       "<style scoped>\n",
       "    .dataframe tbody tr th:only-of-type {\n",
       "        vertical-align: middle;\n",
       "    }\n",
       "\n",
       "    .dataframe tbody tr th {\n",
       "        vertical-align: top;\n",
       "    }\n",
       "\n",
       "    .dataframe thead th {\n",
       "        text-align: right;\n",
       "    }\n",
       "</style>\n",
       "<table border=\"1\" class=\"dataframe\">\n",
       "  <thead>\n",
       "    <tr style=\"text-align: right;\">\n",
       "      <th></th>\n",
       "      <th>a</th>\n",
       "      <th>b</th>\n",
       "      <th>c</th>\n",
       "      <th>d</th>\n",
       "    </tr>\n",
       "  </thead>\n",
       "  <tbody>\n",
       "    <tr>\n",
       "      <th>0</th>\n",
       "      <td>1</td>\n",
       "      <td>2</td>\n",
       "      <td>3.0</td>\n",
       "      <td>4.0</td>\n",
       "    </tr>\n",
       "    <tr>\n",
       "      <th>1</th>\n",
       "      <td>5</td>\n",
       "      <td>6</td>\n",
       "      <td>7.0</td>\n",
       "      <td>8.0</td>\n",
       "    </tr>\n",
       "    <tr>\n",
       "      <th>2</th>\n",
       "      <td>9</td>\n",
       "      <td>10</td>\n",
       "      <td>11.0</td>\n",
       "      <td>NaN</td>\n",
       "    </tr>\n",
       "  </tbody>\n",
       "</table>\n",
       "</div>"
      ],
      "text/plain": [
       "   a   b     c    d\n",
       "0  1   2   3.0  4.0\n",
       "1  5   6   7.0  8.0\n",
       "2  9  10  11.0  NaN"
      ]
     },
     "execution_count": 126,
     "metadata": {},
     "output_type": "execute_result"
    }
   ],
   "source": [
    "df.head()"
   ]
  },
  {
   "cell_type": "code",
   "execution_count": null,
   "metadata": {},
   "outputs": [],
   "source": [
    "## Read Json to CSV"
   ]
  },
  {
   "cell_type": "code",
   "execution_count": 128,
   "metadata": {},
   "outputs": [],
   "source": [
    "Data = '{\"employee_name\": \"James\", \"email\": \"james@gmail.com\", \"job_profile\": [{\"title1\":\"Team Lead\", \"title2\":\"Sr. Developer\"}]}'\n",
    "df1=pd.read_json(Data)"
   ]
  },
  {
   "cell_type": "code",
   "execution_count": 129,
   "metadata": {},
   "outputs": [
    {
     "data": {
      "text/html": [
       "<div>\n",
       "<style scoped>\n",
       "    .dataframe tbody tr th:only-of-type {\n",
       "        vertical-align: middle;\n",
       "    }\n",
       "\n",
       "    .dataframe tbody tr th {\n",
       "        vertical-align: top;\n",
       "    }\n",
       "\n",
       "    .dataframe thead th {\n",
       "        text-align: right;\n",
       "    }\n",
       "</style>\n",
       "<table border=\"1\" class=\"dataframe\">\n",
       "  <thead>\n",
       "    <tr style=\"text-align: right;\">\n",
       "      <th></th>\n",
       "      <th>employee_name</th>\n",
       "      <th>email</th>\n",
       "      <th>job_profile</th>\n",
       "    </tr>\n",
       "  </thead>\n",
       "  <tbody>\n",
       "    <tr>\n",
       "      <th>0</th>\n",
       "      <td>James</td>\n",
       "      <td>james@gmail.com</td>\n",
       "      <td>{'title1': 'Team Lead', 'title2': 'Sr. Develop...</td>\n",
       "    </tr>\n",
       "  </tbody>\n",
       "</table>\n",
       "</div>"
      ],
      "text/plain": [
       "  employee_name            email  \\\n",
       "0         James  james@gmail.com   \n",
       "\n",
       "                                         job_profile  \n",
       "0  {'title1': 'Team Lead', 'title2': 'Sr. Develop...  "
      ]
     },
     "execution_count": 129,
     "metadata": {},
     "output_type": "execute_result"
    }
   ],
   "source": [
    "df1"
   ]
  },
  {
   "cell_type": "code",
   "execution_count": 130,
   "metadata": {},
   "outputs": [
    {
     "data": {
      "text/plain": [
       "'{\"employee_name\":{\"0\":\"James\"},\"email\":{\"0\":\"james@gmail.com\"},\"job_profile\":{\"0\":{\"title1\":\"Team Lead\",\"title2\":\"Sr. Developer\"}}}'"
      ]
     },
     "execution_count": 130,
     "metadata": {},
     "output_type": "execute_result"
    }
   ],
   "source": [
    "df1.to_json()"
   ]
  },
  {
   "cell_type": "code",
   "execution_count": 131,
   "metadata": {},
   "outputs": [],
   "source": [
    "df = pd.read_csv('https://archive.ics.uci.edu/ml/machine-learning-databases/wine/wine.data', header=None)"
   ]
  },
  {
   "cell_type": "code",
   "execution_count": 132,
   "metadata": {},
   "outputs": [],
   "source": [
    "df = df.head()"
   ]
  },
  {
   "cell_type": "code",
   "execution_count": 133,
   "metadata": {},
   "outputs": [],
   "source": [
    "# convert Json to csv"
   ]
  },
  {
   "cell_type": "code",
   "execution_count": 134,
   "metadata": {},
   "outputs": [],
   "source": [
    "df.to_csv('wine.csv')"
   ]
  },
  {
   "cell_type": "code",
   "execution_count": null,
   "metadata": {},
   "outputs": [],
   "source": []
  },
  {
   "cell_type": "code",
   "execution_count": 135,
   "metadata": {},
   "outputs": [
    {
     "data": {
      "text/plain": [
       "'[[1,14.23,1.71,2.43,15.6,127,2.8,3.06,0.28,2.29,5.64,1.04,3.92,1065],[1,13.2,1.78,2.14,11.2,100,2.65,2.76,0.26,1.28,4.38,1.05,3.4,1050],[1,13.16,2.36,2.67,18.6,101,2.8,3.24,0.3,2.81,5.68,1.03,3.17,1185],[1,14.37,1.95,2.5,16.8,113,3.85,3.49,0.24,2.18,7.8,0.86,3.45,1480],[1,13.24,2.59,2.87,21.0,118,2.8,2.69,0.39,1.82,4.32,1.04,2.93,735]]'"
      ]
     },
     "execution_count": 135,
     "metadata": {},
     "output_type": "execute_result"
    }
   ],
   "source": [
    "# convert Json to different json formats\n",
    "\n",
    "df.to_json(orient=\"values\")"
   ]
  },
  {
   "cell_type": "code",
   "execution_count": 136,
   "metadata": {},
   "outputs": [
    {
     "data": {
      "text/plain": [
       "'[{\"0\":1,\"1\":14.23,\"2\":1.71,\"3\":2.43,\"4\":15.6,\"5\":127,\"6\":2.8,\"7\":3.06,\"8\":0.28,\"9\":2.29,\"10\":5.64,\"11\":1.04,\"12\":3.92,\"13\":1065},{\"0\":1,\"1\":13.2,\"2\":1.78,\"3\":2.14,\"4\":11.2,\"5\":100,\"6\":2.65,\"7\":2.76,\"8\":0.26,\"9\":1.28,\"10\":4.38,\"11\":1.05,\"12\":3.4,\"13\":1050},{\"0\":1,\"1\":13.16,\"2\":2.36,\"3\":2.67,\"4\":18.6,\"5\":101,\"6\":2.8,\"7\":3.24,\"8\":0.3,\"9\":2.81,\"10\":5.68,\"11\":1.03,\"12\":3.17,\"13\":1185},{\"0\":1,\"1\":14.37,\"2\":1.95,\"3\":2.5,\"4\":16.8,\"5\":113,\"6\":3.85,\"7\":3.49,\"8\":0.24,\"9\":2.18,\"10\":7.8,\"11\":0.86,\"12\":3.45,\"13\":1480},{\"0\":1,\"1\":13.24,\"2\":2.59,\"3\":2.87,\"4\":21.0,\"5\":118,\"6\":2.8,\"7\":2.69,\"8\":0.39,\"9\":1.82,\"10\":4.32,\"11\":1.04,\"12\":2.93,\"13\":735}]'"
      ]
     },
     "execution_count": 136,
     "metadata": {},
     "output_type": "execute_result"
    }
   ],
   "source": [
    "\n",
    "df.to_json(orient=\"records\")"
   ]
  },
  {
   "cell_type": "markdown",
   "metadata": {},
   "source": [
    "## Reading HTML content "
   ]
  },
  {
   "cell_type": "code",
   "execution_count": 137,
   "metadata": {},
   "outputs": [],
   "source": [
    "html_table = \"\"\" \n",
    "<table> \n",
    "  <thead> \n",
    "    <tr> \n",
    "      <th>ID</th> \n",
    "      <th>Name</th> \n",
    "      <th>Branch</th> \n",
    "      <th>Result</th> \n",
    "    </tr> \n",
    "  </thead> \n",
    "  <tbody> \n",
    "    <tr> \n",
    "      <td>5</td> \n",
    "      <td>Patrick</td> \n",
    "      <td>Civil</td> \n",
    "      <td>Pass</td> \n",
    "    </tr> \n",
    "    <tr> \n",
    "      <td>1</td> \n",
    "      <td>Maverick</td> \n",
    "      <td>Mechanical</td> \n",
    "      <td>Fail</td> \n",
    "    </tr> \n",
    "    <tr> \n",
    "      <td>4</td> \n",
    "      <td>Peter</td> \n",
    "      <td>Computer Science</td> \n",
    "      <td>Pass</td> \n",
    "    </tr> \n",
    "    <tr> \n",
    "      <td>8</td> \n",
    "      <td>Parker</td> \n",
    "      <td>Chemical</td> \n",
    "      <td>Fail</td> \n",
    "    </tr> \n",
    "  </tbody> \n",
    "</table> \n",
    "\"\"\"  \n",
    "\n",
    "dfs = pd.read_html(html_table)"
   ]
  },
  {
   "cell_type": "code",
   "execution_count": 138,
   "metadata": {},
   "outputs": [
    {
     "data": {
      "text/html": [
       "<div>\n",
       "<style scoped>\n",
       "    .dataframe tbody tr th:only-of-type {\n",
       "        vertical-align: middle;\n",
       "    }\n",
       "\n",
       "    .dataframe tbody tr th {\n",
       "        vertical-align: top;\n",
       "    }\n",
       "\n",
       "    .dataframe thead th {\n",
       "        text-align: right;\n",
       "    }\n",
       "</style>\n",
       "<table border=\"1\" class=\"dataframe\">\n",
       "  <thead>\n",
       "    <tr style=\"text-align: right;\">\n",
       "      <th></th>\n",
       "      <th>ID</th>\n",
       "      <th>Name</th>\n",
       "      <th>Branch</th>\n",
       "      <th>Result</th>\n",
       "    </tr>\n",
       "  </thead>\n",
       "  <tbody>\n",
       "    <tr>\n",
       "      <th>0</th>\n",
       "      <td>5</td>\n",
       "      <td>Patrick</td>\n",
       "      <td>Civil</td>\n",
       "      <td>Pass</td>\n",
       "    </tr>\n",
       "    <tr>\n",
       "      <th>1</th>\n",
       "      <td>1</td>\n",
       "      <td>Maverick</td>\n",
       "      <td>Mechanical</td>\n",
       "      <td>Fail</td>\n",
       "    </tr>\n",
       "    <tr>\n",
       "      <th>2</th>\n",
       "      <td>4</td>\n",
       "      <td>Peter</td>\n",
       "      <td>Computer Science</td>\n",
       "      <td>Pass</td>\n",
       "    </tr>\n",
       "    <tr>\n",
       "      <th>3</th>\n",
       "      <td>8</td>\n",
       "      <td>Parker</td>\n",
       "      <td>Chemical</td>\n",
       "      <td>Fail</td>\n",
       "    </tr>\n",
       "  </tbody>\n",
       "</table>\n",
       "</div>"
      ],
      "text/plain": [
       "   ID      Name            Branch Result\n",
       "0   5   Patrick             Civil   Pass\n",
       "1   1  Maverick        Mechanical   Fail\n",
       "2   4     Peter  Computer Science   Pass\n",
       "3   8    Parker          Chemical   Fail"
      ]
     },
     "execution_count": 138,
     "metadata": {},
     "output_type": "execute_result"
    }
   ],
   "source": [
    "dfs[0]"
   ]
  },
  {
   "cell_type": "code",
   "execution_count": 139,
   "metadata": {},
   "outputs": [],
   "source": [
    "url_mcc = 'https://en.wikipedia.org/wiki/Mobile_country_code'\n",
    "dfs = pd.read_html(url_mcc, match='Country', header=0)"
   ]
  },
  {
   "cell_type": "code",
   "execution_count": 140,
   "metadata": {},
   "outputs": [
    {
     "data": {
      "text/html": [
       "<div>\n",
       "<style scoped>\n",
       "    .dataframe tbody tr th:only-of-type {\n",
       "        vertical-align: middle;\n",
       "    }\n",
       "\n",
       "    .dataframe tbody tr th {\n",
       "        vertical-align: top;\n",
       "    }\n",
       "\n",
       "    .dataframe thead th {\n",
       "        text-align: right;\n",
       "    }\n",
       "</style>\n",
       "<table border=\"1\" class=\"dataframe\">\n",
       "  <thead>\n",
       "    <tr style=\"text-align: right;\">\n",
       "      <th></th>\n",
       "      <th>Mobile country code</th>\n",
       "      <th>Country</th>\n",
       "      <th>ISO 3166</th>\n",
       "      <th>Mobile network codes</th>\n",
       "      <th>National MNC authority</th>\n",
       "      <th>Remarks</th>\n",
       "    </tr>\n",
       "  </thead>\n",
       "  <tbody>\n",
       "    <tr>\n",
       "      <th>0</th>\n",
       "      <td>289</td>\n",
       "      <td>A Abkhazia</td>\n",
       "      <td>GE-AB</td>\n",
       "      <td>List of mobile network codes in Abkhazia</td>\n",
       "      <td>NaN</td>\n",
       "      <td>MCC is not listed by ITU</td>\n",
       "    </tr>\n",
       "    <tr>\n",
       "      <th>1</th>\n",
       "      <td>412</td>\n",
       "      <td>Afghanistan</td>\n",
       "      <td>AF</td>\n",
       "      <td>List of mobile network codes in Afghanistan</td>\n",
       "      <td>NaN</td>\n",
       "      <td>NaN</td>\n",
       "    </tr>\n",
       "    <tr>\n",
       "      <th>2</th>\n",
       "      <td>276</td>\n",
       "      <td>Albania</td>\n",
       "      <td>AL</td>\n",
       "      <td>List of mobile network codes in Albania</td>\n",
       "      <td>NaN</td>\n",
       "      <td>NaN</td>\n",
       "    </tr>\n",
       "    <tr>\n",
       "      <th>3</th>\n",
       "      <td>603</td>\n",
       "      <td>Algeria</td>\n",
       "      <td>DZ</td>\n",
       "      <td>List of mobile network codes in Algeria</td>\n",
       "      <td>NaN</td>\n",
       "      <td>NaN</td>\n",
       "    </tr>\n",
       "    <tr>\n",
       "      <th>4</th>\n",
       "      <td>544</td>\n",
       "      <td>American Samoa (United States of America)</td>\n",
       "      <td>AS</td>\n",
       "      <td>List of mobile network codes in American Samoa</td>\n",
       "      <td>NaN</td>\n",
       "      <td>NaN</td>\n",
       "    </tr>\n",
       "    <tr>\n",
       "      <th>...</th>\n",
       "      <td>...</td>\n",
       "      <td>...</td>\n",
       "      <td>...</td>\n",
       "      <td>...</td>\n",
       "      <td>...</td>\n",
       "      <td>...</td>\n",
       "    </tr>\n",
       "    <tr>\n",
       "      <th>247</th>\n",
       "      <td>452</td>\n",
       "      <td>Vietnam</td>\n",
       "      <td>VN</td>\n",
       "      <td>List of mobile network codes in the Vietnam</td>\n",
       "      <td>NaN</td>\n",
       "      <td>NaN</td>\n",
       "    </tr>\n",
       "    <tr>\n",
       "      <th>248</th>\n",
       "      <td>543</td>\n",
       "      <td>W Wallis and Futuna</td>\n",
       "      <td>WF</td>\n",
       "      <td>List of mobile network codes in Wallis and Futuna</td>\n",
       "      <td>NaN</td>\n",
       "      <td>NaN</td>\n",
       "    </tr>\n",
       "    <tr>\n",
       "      <th>249</th>\n",
       "      <td>421</td>\n",
       "      <td>Y Yemen</td>\n",
       "      <td>YE</td>\n",
       "      <td>List of mobile network codes in the Yemen</td>\n",
       "      <td>NaN</td>\n",
       "      <td>NaN</td>\n",
       "    </tr>\n",
       "    <tr>\n",
       "      <th>250</th>\n",
       "      <td>645</td>\n",
       "      <td>Z Zambia</td>\n",
       "      <td>ZM</td>\n",
       "      <td>List of mobile network codes in Zambia</td>\n",
       "      <td>NaN</td>\n",
       "      <td>NaN</td>\n",
       "    </tr>\n",
       "    <tr>\n",
       "      <th>251</th>\n",
       "      <td>648</td>\n",
       "      <td>Zimbabwe</td>\n",
       "      <td>ZW</td>\n",
       "      <td>List of mobile network codes in Zimbabwe</td>\n",
       "      <td>NaN</td>\n",
       "      <td>NaN</td>\n",
       "    </tr>\n",
       "  </tbody>\n",
       "</table>\n",
       "<p>252 rows × 6 columns</p>\n",
       "</div>"
      ],
      "text/plain": [
       "     Mobile country code                                    Country ISO 3166  \\\n",
       "0                    289                                 A Abkhazia    GE-AB   \n",
       "1                    412                                Afghanistan       AF   \n",
       "2                    276                                    Albania       AL   \n",
       "3                    603                                    Algeria       DZ   \n",
       "4                    544  American Samoa (United States of America)       AS   \n",
       "..                   ...                                        ...      ...   \n",
       "247                  452                                    Vietnam       VN   \n",
       "248                  543                        W Wallis and Futuna       WF   \n",
       "249                  421                                    Y Yemen       YE   \n",
       "250                  645                                   Z Zambia       ZM   \n",
       "251                  648                                   Zimbabwe       ZW   \n",
       "\n",
       "                                  Mobile network codes National MNC authority  \\\n",
       "0             List of mobile network codes in Abkhazia                    NaN   \n",
       "1          List of mobile network codes in Afghanistan                    NaN   \n",
       "2              List of mobile network codes in Albania                    NaN   \n",
       "3              List of mobile network codes in Algeria                    NaN   \n",
       "4       List of mobile network codes in American Samoa                    NaN   \n",
       "..                                                 ...                    ...   \n",
       "247        List of mobile network codes in the Vietnam                    NaN   \n",
       "248  List of mobile network codes in Wallis and Futuna                    NaN   \n",
       "249          List of mobile network codes in the Yemen                    NaN   \n",
       "250             List of mobile network codes in Zambia                    NaN   \n",
       "251           List of mobile network codes in Zimbabwe                    NaN   \n",
       "\n",
       "                      Remarks  \n",
       "0    MCC is not listed by ITU  \n",
       "1                         NaN  \n",
       "2                         NaN  \n",
       "3                         NaN  \n",
       "4                         NaN  \n",
       "..                        ...  \n",
       "247                       NaN  \n",
       "248                       NaN  \n",
       "249                       NaN  \n",
       "250                       NaN  \n",
       "251                       NaN  \n",
       "\n",
       "[252 rows x 6 columns]"
      ]
     },
     "execution_count": 140,
     "metadata": {},
     "output_type": "execute_result"
    }
   ],
   "source": [
    "dfs[0]"
   ]
  },
  {
   "cell_type": "markdown",
   "metadata": {},
   "source": [
    "## Reading EXcel Files"
   ]
  },
  {
   "cell_type": "code",
   "execution_count": 144,
   "metadata": {},
   "outputs": [],
   "source": [
    "df_excel=pd.read_excel('sheet.xlsx')"
   ]
  },
  {
   "cell_type": "markdown",
   "metadata": {},
   "source": [
    "sometimes this code gives an error for xlsx files as: XLRDError:Excel xlsx file; not supported instead , you can use openpyxl engine to read excel file."
   ]
  },
  {
   "cell_type": "code",
   "execution_count": 145,
   "metadata": {},
   "outputs": [],
   "source": [
    "df_excel = pd.read_excel(r'sheet.xlsx', engine='openpyxl')"
   ]
  },
  {
   "cell_type": "code",
   "execution_count": 146,
   "metadata": {},
   "outputs": [
    {
     "data": {
      "text/html": [
       "<div>\n",
       "<style scoped>\n",
       "    .dataframe tbody tr th:only-of-type {\n",
       "        vertical-align: middle;\n",
       "    }\n",
       "\n",
       "    .dataframe tbody tr th {\n",
       "        vertical-align: top;\n",
       "    }\n",
       "\n",
       "    .dataframe thead th {\n",
       "        text-align: right;\n",
       "    }\n",
       "</style>\n",
       "<table border=\"1\" class=\"dataframe\">\n",
       "  <thead>\n",
       "    <tr style=\"text-align: right;\">\n",
       "      <th></th>\n",
       "      <th>Unnamed: 0</th>\n",
       "      <th>PART</th>\n",
       "      <th>PART_DESC</th>\n",
       "      <th>PROGRAM</th>\n",
       "      <th>VENDOR_ID</th>\n",
       "      <th>VENDOR_NAME</th>\n",
       "      <th>SITE</th>\n",
       "      <th>P_CODE</th>\n",
       "      <th>GSM_COMMODITY</th>\n",
       "      <th>COMMODITY_SUBGROUP</th>\n",
       "      <th>...</th>\n",
       "      <th>SITE_FLAG</th>\n",
       "      <th>PROGRAM_FLAG</th>\n",
       "      <th>P_CODE_FLAG</th>\n",
       "      <th>BUY_SELL_FLAG</th>\n",
       "      <th>PUBLISH_CHK_FLAG</th>\n",
       "      <th>DW_CREATE_TS</th>\n",
       "      <th>DW_CREATE_USER</th>\n",
       "      <th>DW_UPDATE_TS</th>\n",
       "      <th>DW_UPDATE_USER</th>\n",
       "      <th>SUPPLIER_ALLOCATION</th>\n",
       "    </tr>\n",
       "  </thead>\n",
       "  <tbody>\n",
       "    <tr>\n",
       "      <th>0</th>\n",
       "      <td>0.0</td>\n",
       "      <td>452-04418</td>\n",
       "      <td>SCREW,M1.6X0.35,FEED,X1920</td>\n",
       "      <td>J160</td>\n",
       "      <td>000049M</td>\n",
       "      <td>AMPHENOL</td>\n",
       "      <td>ALL_SITES</td>\n",
       "      <td>NaN</td>\n",
       "      <td>Enclosure - Mac</td>\n",
       "      <td>Uncategorized</td>\n",
       "      <td>...</td>\n",
       "      <td>0.0</td>\n",
       "      <td>0.0</td>\n",
       "      <td>2.0</td>\n",
       "      <td>0.0</td>\n",
       "      <td>N</td>\n",
       "      <td>2021-05-22</td>\n",
       "      <td>1.0</td>\n",
       "      <td>2021-12-14 04:02:53</td>\n",
       "      <td>1.000000e+00</td>\n",
       "      <td>0.0</td>\n",
       "    </tr>\n",
       "    <tr>\n",
       "      <th>1</th>\n",
       "      <td>1.0</td>\n",
       "      <td>452-04418</td>\n",
       "      <td>SCREW,M1.6X0.35,FEED,X1920</td>\n",
       "      <td>J170</td>\n",
       "      <td>000049M</td>\n",
       "      <td>AMPHENOL</td>\n",
       "      <td>ALL_SITES</td>\n",
       "      <td>NaN</td>\n",
       "      <td>Enclosure - Mac</td>\n",
       "      <td>Uncategorized</td>\n",
       "      <td>...</td>\n",
       "      <td>0.0</td>\n",
       "      <td>0.0</td>\n",
       "      <td>2.0</td>\n",
       "      <td>0.0</td>\n",
       "      <td>N</td>\n",
       "      <td>2021-05-22</td>\n",
       "      <td>1.0</td>\n",
       "      <td>2021-12-14 04:02:53</td>\n",
       "      <td>1.000000e+00</td>\n",
       "      <td>0.0</td>\n",
       "    </tr>\n",
       "    <tr>\n",
       "      <th>2</th>\n",
       "      <td>2.0</td>\n",
       "      <td>514-00091</td>\n",
       "      <td>CONN,RCPT,RJ45,X667</td>\n",
       "      <td>J137</td>\n",
       "      <td>000049M</td>\n",
       "      <td>AMPHENOL</td>\n",
       "      <td>QSMC_GRP</td>\n",
       "      <td>NaN</td>\n",
       "      <td>Connector</td>\n",
       "      <td>Connector</td>\n",
       "      <td>...</td>\n",
       "      <td>0.0</td>\n",
       "      <td>2.0</td>\n",
       "      <td>2.0</td>\n",
       "      <td>0.0</td>\n",
       "      <td>N</td>\n",
       "      <td>2020-12-06</td>\n",
       "      <td>1.0</td>\n",
       "      <td>2022-02-28 23:03:01</td>\n",
       "      <td>2.700846e+09</td>\n",
       "      <td>80.0</td>\n",
       "    </tr>\n",
       "    <tr>\n",
       "      <th>3</th>\n",
       "      <td>3.0</td>\n",
       "      <td>514-00167</td>\n",
       "      <td>CONN,RCPT,MPM,X1982</td>\n",
       "      <td>J314</td>\n",
       "      <td>000049M</td>\n",
       "      <td>AMPHENOL</td>\n",
       "      <td>ALL_SITES</td>\n",
       "      <td>NaN</td>\n",
       "      <td>Connector</td>\n",
       "      <td>Connector</td>\n",
       "      <td>...</td>\n",
       "      <td>0.0</td>\n",
       "      <td>1.0</td>\n",
       "      <td>2.0</td>\n",
       "      <td>0.0</td>\n",
       "      <td>N</td>\n",
       "      <td>2021-03-27</td>\n",
       "      <td>1.0</td>\n",
       "      <td>2021-11-11 21:53:52</td>\n",
       "      <td>2.700846e+09</td>\n",
       "      <td>45.0</td>\n",
       "    </tr>\n",
       "    <tr>\n",
       "      <th>4</th>\n",
       "      <td>4.0</td>\n",
       "      <td>514-00167</td>\n",
       "      <td>CONN,RCPT,MPM,X1982</td>\n",
       "      <td>J316</td>\n",
       "      <td>000049M</td>\n",
       "      <td>AMPHENOL</td>\n",
       "      <td>ALL_SITES</td>\n",
       "      <td>NaN</td>\n",
       "      <td>Connector</td>\n",
       "      <td>Connector</td>\n",
       "      <td>...</td>\n",
       "      <td>0.0</td>\n",
       "      <td>1.0</td>\n",
       "      <td>2.0</td>\n",
       "      <td>0.0</td>\n",
       "      <td>N</td>\n",
       "      <td>2021-03-27</td>\n",
       "      <td>1.0</td>\n",
       "      <td>2021-11-11 21:53:52</td>\n",
       "      <td>2.700846e+09</td>\n",
       "      <td>45.0</td>\n",
       "    </tr>\n",
       "  </tbody>\n",
       "</table>\n",
       "<p>5 rows × 27 columns</p>\n",
       "</div>"
      ],
      "text/plain": [
       "   Unnamed: 0       PART                   PART_DESC PROGRAM VENDOR_ID  \\\n",
       "0         0.0  452-04418  SCREW,M1.6X0.35,FEED,X1920    J160   000049M   \n",
       "1         1.0  452-04418  SCREW,M1.6X0.35,FEED,X1920    J170   000049M   \n",
       "2         2.0  514-00091         CONN,RCPT,RJ45,X667    J137   000049M   \n",
       "3         3.0  514-00167         CONN,RCPT,MPM,X1982    J314   000049M   \n",
       "4         4.0  514-00167         CONN,RCPT,MPM,X1982    J316   000049M   \n",
       "\n",
       "  VENDOR_NAME       SITE  P_CODE    GSM_COMMODITY COMMODITY_SUBGROUP  ...  \\\n",
       "0    AMPHENOL  ALL_SITES     NaN  Enclosure - Mac      Uncategorized  ...   \n",
       "1    AMPHENOL  ALL_SITES     NaN  Enclosure - Mac      Uncategorized  ...   \n",
       "2    AMPHENOL   QSMC_GRP     NaN        Connector          Connector  ...   \n",
       "3    AMPHENOL  ALL_SITES     NaN        Connector          Connector  ...   \n",
       "4    AMPHENOL  ALL_SITES     NaN        Connector          Connector  ...   \n",
       "\n",
       "  SITE_FLAG PROGRAM_FLAG  P_CODE_FLAG  BUY_SELL_FLAG  PUBLISH_CHK_FLAG  \\\n",
       "0       0.0          0.0          2.0            0.0                 N   \n",
       "1       0.0          0.0          2.0            0.0                 N   \n",
       "2       0.0          2.0          2.0            0.0                 N   \n",
       "3       0.0          1.0          2.0            0.0                 N   \n",
       "4       0.0          1.0          2.0            0.0                 N   \n",
       "\n",
       "   DW_CREATE_TS  DW_CREATE_USER        DW_UPDATE_TS  DW_UPDATE_USER  \\\n",
       "0    2021-05-22             1.0 2021-12-14 04:02:53    1.000000e+00   \n",
       "1    2021-05-22             1.0 2021-12-14 04:02:53    1.000000e+00   \n",
       "2    2020-12-06             1.0 2022-02-28 23:03:01    2.700846e+09   \n",
       "3    2021-03-27             1.0 2021-11-11 21:53:52    2.700846e+09   \n",
       "4    2021-03-27             1.0 2021-11-11 21:53:52    2.700846e+09   \n",
       "\n",
       "   SUPPLIER_ALLOCATION  \n",
       "0                  0.0  \n",
       "1                  0.0  \n",
       "2                 80.0  \n",
       "3                 45.0  \n",
       "4                 45.0  \n",
       "\n",
       "[5 rows x 27 columns]"
      ]
     },
     "execution_count": 146,
     "metadata": {},
     "output_type": "execute_result"
    }
   ],
   "source": [
    "df_excel.head()"
   ]
  },
  {
   "cell_type": "markdown",
   "metadata": {},
   "source": [
    "## Pickling\n",
    "All pandas objects are equipped with to_pickle methods which use Python’s cPickle module to save data structures to disk using the pickle format."
   ]
  },
  {
   "cell_type": "code",
   "execution_count": 147,
   "metadata": {},
   "outputs": [],
   "source": [
    "df_excel.to_pickle('df_excel')"
   ]
  },
  {
   "cell_type": "code",
   "execution_count": 148,
   "metadata": {},
   "outputs": [],
   "source": [
    "df=pd.read_pickle('df_excel')"
   ]
  },
  {
   "cell_type": "code",
   "execution_count": 149,
   "metadata": {},
   "outputs": [
    {
     "data": {
      "text/html": [
       "<div>\n",
       "<style scoped>\n",
       "    .dataframe tbody tr th:only-of-type {\n",
       "        vertical-align: middle;\n",
       "    }\n",
       "\n",
       "    .dataframe tbody tr th {\n",
       "        vertical-align: top;\n",
       "    }\n",
       "\n",
       "    .dataframe thead th {\n",
       "        text-align: right;\n",
       "    }\n",
       "</style>\n",
       "<table border=\"1\" class=\"dataframe\">\n",
       "  <thead>\n",
       "    <tr style=\"text-align: right;\">\n",
       "      <th></th>\n",
       "      <th>Unnamed: 0</th>\n",
       "      <th>PART</th>\n",
       "      <th>PART_DESC</th>\n",
       "      <th>PROGRAM</th>\n",
       "      <th>VENDOR_ID</th>\n",
       "      <th>VENDOR_NAME</th>\n",
       "      <th>SITE</th>\n",
       "      <th>P_CODE</th>\n",
       "      <th>GSM_COMMODITY</th>\n",
       "      <th>COMMODITY_SUBGROUP</th>\n",
       "      <th>...</th>\n",
       "      <th>SITE_FLAG</th>\n",
       "      <th>PROGRAM_FLAG</th>\n",
       "      <th>P_CODE_FLAG</th>\n",
       "      <th>BUY_SELL_FLAG</th>\n",
       "      <th>PUBLISH_CHK_FLAG</th>\n",
       "      <th>DW_CREATE_TS</th>\n",
       "      <th>DW_CREATE_USER</th>\n",
       "      <th>DW_UPDATE_TS</th>\n",
       "      <th>DW_UPDATE_USER</th>\n",
       "      <th>SUPPLIER_ALLOCATION</th>\n",
       "    </tr>\n",
       "  </thead>\n",
       "  <tbody>\n",
       "    <tr>\n",
       "      <th>0</th>\n",
       "      <td>0.0</td>\n",
       "      <td>452-04418</td>\n",
       "      <td>SCREW,M1.6X0.35,FEED,X1920</td>\n",
       "      <td>J160</td>\n",
       "      <td>000049M</td>\n",
       "      <td>AMPHENOL</td>\n",
       "      <td>ALL_SITES</td>\n",
       "      <td>NaN</td>\n",
       "      <td>Enclosure - Mac</td>\n",
       "      <td>Uncategorized</td>\n",
       "      <td>...</td>\n",
       "      <td>0.0</td>\n",
       "      <td>0.0</td>\n",
       "      <td>2.0</td>\n",
       "      <td>0.0</td>\n",
       "      <td>N</td>\n",
       "      <td>2021-05-22</td>\n",
       "      <td>1.0</td>\n",
       "      <td>2021-12-14 04:02:53</td>\n",
       "      <td>1.000000e+00</td>\n",
       "      <td>0.0</td>\n",
       "    </tr>\n",
       "    <tr>\n",
       "      <th>1</th>\n",
       "      <td>1.0</td>\n",
       "      <td>452-04418</td>\n",
       "      <td>SCREW,M1.6X0.35,FEED,X1920</td>\n",
       "      <td>J170</td>\n",
       "      <td>000049M</td>\n",
       "      <td>AMPHENOL</td>\n",
       "      <td>ALL_SITES</td>\n",
       "      <td>NaN</td>\n",
       "      <td>Enclosure - Mac</td>\n",
       "      <td>Uncategorized</td>\n",
       "      <td>...</td>\n",
       "      <td>0.0</td>\n",
       "      <td>0.0</td>\n",
       "      <td>2.0</td>\n",
       "      <td>0.0</td>\n",
       "      <td>N</td>\n",
       "      <td>2021-05-22</td>\n",
       "      <td>1.0</td>\n",
       "      <td>2021-12-14 04:02:53</td>\n",
       "      <td>1.000000e+00</td>\n",
       "      <td>0.0</td>\n",
       "    </tr>\n",
       "    <tr>\n",
       "      <th>2</th>\n",
       "      <td>2.0</td>\n",
       "      <td>514-00091</td>\n",
       "      <td>CONN,RCPT,RJ45,X667</td>\n",
       "      <td>J137</td>\n",
       "      <td>000049M</td>\n",
       "      <td>AMPHENOL</td>\n",
       "      <td>QSMC_GRP</td>\n",
       "      <td>NaN</td>\n",
       "      <td>Connector</td>\n",
       "      <td>Connector</td>\n",
       "      <td>...</td>\n",
       "      <td>0.0</td>\n",
       "      <td>2.0</td>\n",
       "      <td>2.0</td>\n",
       "      <td>0.0</td>\n",
       "      <td>N</td>\n",
       "      <td>2020-12-06</td>\n",
       "      <td>1.0</td>\n",
       "      <td>2022-02-28 23:03:01</td>\n",
       "      <td>2.700846e+09</td>\n",
       "      <td>80.0</td>\n",
       "    </tr>\n",
       "    <tr>\n",
       "      <th>3</th>\n",
       "      <td>3.0</td>\n",
       "      <td>514-00167</td>\n",
       "      <td>CONN,RCPT,MPM,X1982</td>\n",
       "      <td>J314</td>\n",
       "      <td>000049M</td>\n",
       "      <td>AMPHENOL</td>\n",
       "      <td>ALL_SITES</td>\n",
       "      <td>NaN</td>\n",
       "      <td>Connector</td>\n",
       "      <td>Connector</td>\n",
       "      <td>...</td>\n",
       "      <td>0.0</td>\n",
       "      <td>1.0</td>\n",
       "      <td>2.0</td>\n",
       "      <td>0.0</td>\n",
       "      <td>N</td>\n",
       "      <td>2021-03-27</td>\n",
       "      <td>1.0</td>\n",
       "      <td>2021-11-11 21:53:52</td>\n",
       "      <td>2.700846e+09</td>\n",
       "      <td>45.0</td>\n",
       "    </tr>\n",
       "    <tr>\n",
       "      <th>4</th>\n",
       "      <td>4.0</td>\n",
       "      <td>514-00167</td>\n",
       "      <td>CONN,RCPT,MPM,X1982</td>\n",
       "      <td>J316</td>\n",
       "      <td>000049M</td>\n",
       "      <td>AMPHENOL</td>\n",
       "      <td>ALL_SITES</td>\n",
       "      <td>NaN</td>\n",
       "      <td>Connector</td>\n",
       "      <td>Connector</td>\n",
       "      <td>...</td>\n",
       "      <td>0.0</td>\n",
       "      <td>1.0</td>\n",
       "      <td>2.0</td>\n",
       "      <td>0.0</td>\n",
       "      <td>N</td>\n",
       "      <td>2021-03-27</td>\n",
       "      <td>1.0</td>\n",
       "      <td>2021-11-11 21:53:52</td>\n",
       "      <td>2.700846e+09</td>\n",
       "      <td>45.0</td>\n",
       "    </tr>\n",
       "  </tbody>\n",
       "</table>\n",
       "<p>5 rows × 27 columns</p>\n",
       "</div>"
      ],
      "text/plain": [
       "   Unnamed: 0       PART                   PART_DESC PROGRAM VENDOR_ID  \\\n",
       "0         0.0  452-04418  SCREW,M1.6X0.35,FEED,X1920    J160   000049M   \n",
       "1         1.0  452-04418  SCREW,M1.6X0.35,FEED,X1920    J170   000049M   \n",
       "2         2.0  514-00091         CONN,RCPT,RJ45,X667    J137   000049M   \n",
       "3         3.0  514-00167         CONN,RCPT,MPM,X1982    J314   000049M   \n",
       "4         4.0  514-00167         CONN,RCPT,MPM,X1982    J316   000049M   \n",
       "\n",
       "  VENDOR_NAME       SITE  P_CODE    GSM_COMMODITY COMMODITY_SUBGROUP  ...  \\\n",
       "0    AMPHENOL  ALL_SITES     NaN  Enclosure - Mac      Uncategorized  ...   \n",
       "1    AMPHENOL  ALL_SITES     NaN  Enclosure - Mac      Uncategorized  ...   \n",
       "2    AMPHENOL   QSMC_GRP     NaN        Connector          Connector  ...   \n",
       "3    AMPHENOL  ALL_SITES     NaN        Connector          Connector  ...   \n",
       "4    AMPHENOL  ALL_SITES     NaN        Connector          Connector  ...   \n",
       "\n",
       "  SITE_FLAG PROGRAM_FLAG  P_CODE_FLAG  BUY_SELL_FLAG  PUBLISH_CHK_FLAG  \\\n",
       "0       0.0          0.0          2.0            0.0                 N   \n",
       "1       0.0          0.0          2.0            0.0                 N   \n",
       "2       0.0          2.0          2.0            0.0                 N   \n",
       "3       0.0          1.0          2.0            0.0                 N   \n",
       "4       0.0          1.0          2.0            0.0                 N   \n",
       "\n",
       "   DW_CREATE_TS  DW_CREATE_USER        DW_UPDATE_TS  DW_UPDATE_USER  \\\n",
       "0    2021-05-22             1.0 2021-12-14 04:02:53    1.000000e+00   \n",
       "1    2021-05-22             1.0 2021-12-14 04:02:53    1.000000e+00   \n",
       "2    2020-12-06             1.0 2022-02-28 23:03:01    2.700846e+09   \n",
       "3    2021-03-27             1.0 2021-11-11 21:53:52    2.700846e+09   \n",
       "4    2021-03-27             1.0 2021-11-11 21:53:52    2.700846e+09   \n",
       "\n",
       "   SUPPLIER_ALLOCATION  \n",
       "0                  0.0  \n",
       "1                  0.0  \n",
       "2                 80.0  \n",
       "3                 45.0  \n",
       "4                 45.0  \n",
       "\n",
       "[5 rows x 27 columns]"
      ]
     },
     "execution_count": 149,
     "metadata": {},
     "output_type": "execute_result"
    }
   ],
   "source": [
    "df.head()"
   ]
  },
  {
   "cell_type": "code",
   "execution_count": null,
   "metadata": {},
   "outputs": [],
   "source": []
  },
  {
   "cell_type": "code",
   "execution_count": null,
   "metadata": {},
   "outputs": [],
   "source": []
  },
  {
   "cell_type": "markdown",
   "metadata": {},
   "source": [
    "# 25 Pandas Functions You Didn't Know Existed | P(Guarantee) = 0.8\n",
    "## ExcelWriter, factorize, explode, squeeze, T, mask, idxmax, clip, ...\n"
   ]
  },
  {
   "cell_type": "markdown",
   "metadata": {
    "_kg_hide-input": true
   },
   "source": [
    "## Setup"
   ]
  },
  {
   "cell_type": "code",
   "execution_count": 1,
   "metadata": {
    "_kg_hide-input": true,
    "execution": {
     "iopub.execute_input": "2021-08-03T11:59:16.138013Z",
     "iopub.status.busy": "2021-08-03T11:59:16.137637Z",
     "iopub.status.idle": "2021-08-03T11:59:16.143536Z",
     "shell.execute_reply": "2021-08-03T11:59:16.142304Z",
     "shell.execute_reply.started": "2021-08-03T11:59:16.137983Z"
    }
   },
   "outputs": [],
   "source": [
    "import warnings\n",
    "\n",
    "import matplotlib.pyplot as plt\n",
    "import numpy as np\n",
    "import pandas as pd\n",
    "import seaborn as sns\n",
    "\n",
    "pd.options.display.max_rows = None\n",
    "warnings.filterwarnings(\"ignore\")"
   ]
  },
  {
   "cell_type": "markdown",
   "metadata": {},
   "source": [
    "## Introduction"
   ]
  },
  {
   "cell_type": "markdown",
   "metadata": {},
   "source": [
    "\"I wish I could do this operation in Pandas….\"\n",
    "\n",
    "Well, chances are, you can!\n",
    "\n",
    "Pandas is so vast and deep that it enables you to execute virtually any tabular manipulation you can think of. However, this vastness sometimes comes at a disadvantage.\n",
    "\n",
    "Many elegant features that solve rare edge-cases, unique scenarios are lost in the documentation, shadowed by the more frequently used functions.\n",
    "\n",
    "This kernel aims to rediscover those features and show you that Pandas is more capable than you ever knew."
   ]
  },
  {
   "cell_type": "markdown",
   "metadata": {},
   "source": [
    "## 1. `ExcelWriter`"
   ]
  },
  {
   "cell_type": "markdown",
   "metadata": {},
   "source": [
    "`ExcelWriter` is a generic class for creating excel files (with sheets!) and writing DataFrames to them. Let's say we have these 2:"
   ]
  },
  {
   "cell_type": "code",
   "execution_count": 2,
   "metadata": {
    "execution": {
     "iopub.execute_input": "2021-08-03T11:59:16.148272Z",
     "iopub.status.busy": "2021-08-03T11:59:16.147951Z",
     "iopub.status.idle": "2021-08-03T11:59:16.258364Z",
     "shell.execute_reply": "2021-08-03T11:59:16.257363Z",
     "shell.execute_reply.started": "2021-08-03T11:59:16.148244Z"
    }
   },
   "outputs": [],
   "source": [
    "# Load two datasets\n",
    "diamonds = sns.load_dataset(\"diamonds\")\n",
    "tips = sns.load_dataset(\"tips\")"
   ]
  },
  {
   "cell_type": "code",
   "execution_count": null,
   "metadata": {},
   "outputs": [],
   "source": [
    "# Write to the same excel file\n",
    "with pd.ExcelWriter(\"data.xlsx\") as writer:\n",
    "\n",
    "    diamonds.to_excel(writer, sheet_name=\"diamonds\")\n",
    "    tips.to_excel(writer, sheet_name=\"tips\")\n"
   ]
  },
  {
   "cell_type": "markdown",
   "metadata": {},
   "source": [
    "It has additional attributes to specify the DateTime format to be used, whether you want to create a new excel file or modify an existing one, what happens when a sheet exists, etc. Check out the details from the [documentation](https://pandas.pydata.org/pandas-docs/stable/reference/api/pandas.ExcelWriter.html)."
   ]
  },
  {
   "cell_type": "markdown",
   "metadata": {},
   "source": [
    "## 2. `pipe`"
   ]
  },
  {
   "cell_type": "markdown",
   "metadata": {},
   "source": [
    "`pipe` is one of the best functions for doing data cleaning in a concise, compact manner in Pandas. It allows you to chain multiple custom functions into a single operation.\n",
    "\n",
    "For example, let's say you have functions to `drop_duplicates`, `remove_outliers`, `encode_categoricals` that accept their own arguments. Here is how you apply all three in a single operation:"
   ]
  },
  {
   "cell_type": "markdown",
   "metadata": {},
   "source": [
    "```python\n",
    "df_preprocessed = (diamonds.pipe(drop_duplicates).\n",
    "                            pipe(remove_outliers, ['price', 'carat', 'depth']).\n",
    "                            pipe(encode_categoricals, ['cut', 'color', 'clarity'])\n",
    "                  )\n",
    "```"
   ]
  },
  {
   "cell_type": "markdown",
   "metadata": {},
   "source": [
    "I like how this function resembles [Sklearn pipelines](https://towardsdatascience.com/how-to-use-sklearn-pipelines-for-ridiculously-neat-code-a61ab66ca90d). There is more you can do with it, so check out the [documentation](https://pandas.pydata.org/docs/reference/api/pandas.DataFrame.pipe.html) or this [helpful article](https://towardsdatascience.com/a-better-way-for-data-preprocessing-pandas-pipe-a08336a012bc)."
   ]
  },
  {
   "cell_type": "markdown",
   "metadata": {},
   "source": [
    "## 3. `factorize`"
   ]
  },
  {
   "cell_type": "markdown",
   "metadata": {},
   "source": [
    "This function is a pandas alternative to Sklearn's `LabelEncoder`:"
   ]
  },
  {
   "cell_type": "code",
   "execution_count": null,
   "metadata": {
    "execution": {
     "iopub.execute_input": "2021-08-03T11:59:16.261175Z",
     "iopub.status.busy": "2021-08-03T11:59:16.260734Z",
     "iopub.status.idle": "2021-08-03T11:59:16.272627Z",
     "shell.execute_reply": "2021-08-03T11:59:16.271548Z",
     "shell.execute_reply.started": "2021-08-03T11:59:16.261129Z"
    }
   },
   "outputs": [],
   "source": [
    "# Mind the [0] at the end\n",
    "diamonds[\"cut_enc\"] = pd.factorize(diamonds[\"cut\"])[0]\n",
    "\n",
    "diamonds[\"cut_enc\"].sample(5)"
   ]
  },
  {
   "cell_type": "markdown",
   "metadata": {},
   "source": [
    "Unlike `LabelEncoder`, `factorize` returns a tuple of two values: the encoded column and a list of the unique categories:"
   ]
  },
  {
   "cell_type": "code",
   "execution_count": null,
   "metadata": {
    "execution": {
     "iopub.execute_input": "2021-08-03T11:59:16.27441Z",
     "iopub.status.busy": "2021-08-03T11:59:16.27401Z",
     "iopub.status.idle": "2021-08-03T11:59:16.282782Z",
     "shell.execute_reply": "2021-08-03T11:59:16.28166Z",
     "shell.execute_reply.started": "2021-08-03T11:59:16.274381Z"
    }
   },
   "outputs": [],
   "source": [
    "codes, unique = pd.factorize(diamonds[\"cut\"], sort=True)\n",
    "\n",
    "codes[:10]"
   ]
  },
  {
   "cell_type": "code",
   "execution_count": null,
   "metadata": {
    "execution": {
     "iopub.execute_input": "2021-08-03T11:59:16.284488Z",
     "iopub.status.busy": "2021-08-03T11:59:16.284158Z",
     "iopub.status.idle": "2021-08-03T11:59:16.292938Z",
     "shell.execute_reply": "2021-08-03T11:59:16.292167Z",
     "shell.execute_reply.started": "2021-08-03T11:59:16.284457Z"
    }
   },
   "outputs": [],
   "source": [
    "unique"
   ]
  },
  {
   "cell_type": "markdown",
   "metadata": {},
   "source": [
    "## 4. `explode` - 🤯🤯"
   ]
  },
  {
   "cell_type": "markdown",
   "metadata": {},
   "source": [
    "![](https://images.unsplash.com/photo-1567446042109-8a62d37fea07?ixid=MnwxMjA3fDB8MHxwaG90by1wYWdlfHx8fGVufDB8fHx8&ixlib=rb-1.2.1&auto=format&fit=crop&w=750&q=80)\n",
    "<figcaption style=\"text-align: center;\">\n",
    "    <strong>\n",
    "        Photo by \n",
    "        <a href='https://unsplash.com/@joshuas?utm_source=unsplash&utm_medium=referral&utm_content=creditCopyText'>Joshua Sukoff</a>\n",
    "        on \n",
    "        <a href='https://unsplash.com/s/photos/explode?utm_source=unsplash&utm_medium=referral&utm_content=creditCopyText'>Unsplash</a>\n",
    "    </strong>\n",
    "</figcaption>"
   ]
  },
  {
   "cell_type": "markdown",
   "metadata": {},
   "source": [
    "A function with an interesting name is `explode`. Let's see an example first and then, explain:"
   ]
  },
  {
   "cell_type": "code",
   "execution_count": null,
   "metadata": {
    "execution": {
     "iopub.execute_input": "2021-08-03T11:59:16.294796Z",
     "iopub.status.busy": "2021-08-03T11:59:16.294211Z",
     "iopub.status.idle": "2021-08-03T11:59:16.313106Z",
     "shell.execute_reply": "2021-08-03T11:59:16.312202Z",
     "shell.execute_reply.started": "2021-08-03T11:59:16.294752Z"
    }
   },
   "outputs": [],
   "source": [
    "data = pd.Series([1, 6, 7, [46, 56, 49], 45, [15, 10, 12]]).to_frame(\"dirty\")\n",
    "data"
   ]
  },
  {
   "cell_type": "markdown",
   "metadata": {},
   "source": [
    "The `dirty` column has two rows where values are recorded as actual lists. You may often see this type of data in surveys as some questions accept multiple answers."
   ]
  },
  {
   "cell_type": "code",
   "execution_count": null,
   "metadata": {
    "execution": {
     "iopub.execute_input": "2021-08-03T11:59:16.314899Z",
     "iopub.status.busy": "2021-08-03T11:59:16.314315Z",
     "iopub.status.idle": "2021-08-03T11:59:16.33494Z",
     "shell.execute_reply": "2021-08-03T11:59:16.334111Z",
     "shell.execute_reply.started": "2021-08-03T11:59:16.314858Z"
    }
   },
   "outputs": [],
   "source": [
    "data.explode(\"dirty\", ignore_index=True)"
   ]
  },
  {
   "cell_type": "markdown",
   "metadata": {},
   "source": [
    "`explode` takes a cell with an array-like value and explodes it into multiple rows. Set `ignore_index` to True to keep the ordering of a numeric index."
   ]
  },
  {
   "cell_type": "markdown",
   "metadata": {},
   "source": [
    "## 5. `squeeze`"
   ]
  },
  {
   "cell_type": "markdown",
   "metadata": {},
   "source": [
    "![](https://images.pexels.com/photos/5875701/pexels-photo-5875701.jpeg?auto=compress&cs=tinysrgb&dpr=2&h=650&w=940)\n",
    "<figcaption style=\"text-align: center;\">\n",
    "    <strong>\n",
    "        Photo by \n",
    "        <a href='https://www.pexels.com/@cottonbro?utm_content=attributionCopyText&utm_medium=referral&utm_source=pexels'>cottonbro</a>\n",
    "        on \n",
    "        <a href='https://www.pexels.com/photo/close-up-photo-of-sausage-5875701/?utm_content=attributionCopyText&utm_medium=referral&utm_source=pexels'>Pexels.</a>\n",
    "    </strong>\n",
    "</figcaption>"
   ]
  },
  {
   "cell_type": "markdown",
   "metadata": {},
   "source": [
    "Another function with a funky name is `squeeze` and is used in very rare but annoying edge cases.\n",
    "\n",
    "One of these cases is when a single value is returned from a condition used to subset a DataFrame. Consider this example:"
   ]
  },
  {
   "cell_type": "code",
   "execution_count": null,
   "metadata": {
    "execution": {
     "iopub.execute_input": "2021-08-03T11:59:16.336903Z",
     "iopub.status.busy": "2021-08-03T11:59:16.336512Z",
     "iopub.status.idle": "2021-08-03T11:59:16.355926Z",
     "shell.execute_reply": "2021-08-03T11:59:16.354683Z",
     "shell.execute_reply.started": "2021-08-03T11:59:16.336875Z"
    }
   },
   "outputs": [],
   "source": [
    "subset = diamonds.loc[diamonds.index < 1, [\"price\"]]\n",
    "subset"
   ]
  },
  {
   "cell_type": "markdown",
   "metadata": {},
   "source": [
    "Even though there is just one cell, it is returned as a DataFrame. This can be annoying since you now have to use `.loc` again with both the column name and index to access the price.\n",
    "\n",
    "But, if you know `squeeze`, you don't have to. The function enables you to remove an axis from a single-cell DataFrame or Series. For example:"
   ]
  },
  {
   "cell_type": "code",
   "execution_count": null,
   "metadata": {
    "execution": {
     "iopub.execute_input": "2021-08-03T11:59:16.358681Z",
     "iopub.status.busy": "2021-08-03T11:59:16.358204Z",
     "iopub.status.idle": "2021-08-03T11:59:16.365754Z",
     "shell.execute_reply": "2021-08-03T11:59:16.364719Z",
     "shell.execute_reply.started": "2021-08-03T11:59:16.358626Z"
    }
   },
   "outputs": [],
   "source": [
    "subset.squeeze()"
   ]
  },
  {
   "cell_type": "markdown",
   "metadata": {},
   "source": [
    "Now, only the scalar is returned. It is also possible to specify the axis to remove:"
   ]
  },
  {
   "cell_type": "code",
   "execution_count": null,
   "metadata": {
    "execution": {
     "iopub.execute_input": "2021-08-03T11:59:16.367355Z",
     "iopub.status.busy": "2021-08-03T11:59:16.36705Z",
     "iopub.status.idle": "2021-08-03T11:59:16.379728Z",
     "shell.execute_reply": "2021-08-03T11:59:16.378627Z",
     "shell.execute_reply.started": "2021-08-03T11:59:16.367317Z"
    }
   },
   "outputs": [],
   "source": [
    "subset.squeeze(\"columns\")  # or \"rows\""
   ]
  },
  {
   "cell_type": "markdown",
   "metadata": {},
   "source": [
    "Note that `squeeze` only works for DataFrames or Series with single values."
   ]
  },
  {
   "cell_type": "markdown",
   "metadata": {},
   "source": [
    "## 6. between"
   ]
  },
  {
   "cell_type": "markdown",
   "metadata": {},
   "source": [
    "![](https://images.unsplash.com/photo-1596806082495-fb05004cfe49?ixid=MnwxMjA3fDB8MHxwaG90by1wYWdlfHx8fGVufDB8fHx8&ixlib=rb-1.2.1&auto=format&fit=crop&w=769&q=80)\n",
    "<figcaption style=\"text-align: center;\">\n",
    "    <strong>\n",
    "        Photo by \n",
    "        <a href='https://unsplash.com/@jujudreaminx?utm_source=unsplash&utm_medium=referral&utm_content=creditCopyText'>Justin Dream</a>\n",
    "        on \n",
    "        <a href='https://unsplash.com/s/photos/between?utm_source=unsplash&utm_medium=referral&utm_content=creditCopyText'>Pexels</a>\n",
    "    </strong>\n",
    "</figcaption>"
   ]
  },
  {
   "cell_type": "markdown",
   "metadata": {},
   "source": [
    "A rather nifty function for boolean indexing numeric features within a range:"
   ]
  },
  {
   "cell_type": "code",
   "execution_count": null,
   "metadata": {
    "execution": {
     "iopub.execute_input": "2021-08-03T11:59:16.382192Z",
     "iopub.status.busy": "2021-08-03T11:59:16.381663Z",
     "iopub.status.idle": "2021-08-03T11:59:16.412036Z",
     "shell.execute_reply": "2021-08-03T11:59:16.41092Z",
     "shell.execute_reply.started": "2021-08-03T11:59:16.382146Z"
    }
   },
   "outputs": [],
   "source": [
    "# Get diamonds that are priced between 3500 and 3700 dollars\n",
    "diamonds[diamonds[\"price\"].between(3500, 3700, inclusive=\"neither\")].sample(5)"
   ]
  },
  {
   "cell_type": "markdown",
   "metadata": {},
   "source": [
    "## 7. `T`"
   ]
  },
  {
   "cell_type": "markdown",
   "metadata": {},
   "source": [
    "![](https://images.pexels.com/photos/258083/pexels-photo-258083.jpeg?auto=compress&cs=tinysrgb&dpr=2&h=650&w=940)\n",
    "<figcaption style=\"text-align: center;\">\n",
    "    <strong>\n",
    "        Photo by \n",
    "        <a href='https://www.pexels.com/@pixabay?utm_content=attributionCopyText&utm_medium=referral&utm_source=pexels'>Pixabay</a>\n",
    "        on \n",
    "        <a href='https://www.pexels.com/photo/close-up-of-illuminated-text-against-black-background-258083/?utm_content=attributionCopyText&utm_medium=referral&utm_source=pexels'>Pexels</a>\n",
    "    </strong>\n",
    "</figcaption>"
   ]
  },
  {
   "cell_type": "markdown",
   "metadata": {},
   "source": [
    "All DataFrames have a simple `T` attribute, which stands for transpose. You may not use it often, but I find it quite useful when displaying DataFrames of the `describe` method:"
   ]
  },
  {
   "cell_type": "code",
   "execution_count": null,
   "metadata": {
    "_kg_hide-input": true,
    "execution": {
     "iopub.execute_input": "2021-08-03T11:59:16.41501Z",
     "iopub.status.busy": "2021-08-03T11:59:16.414555Z",
     "iopub.status.idle": "2021-08-03T11:59:16.43176Z",
     "shell.execute_reply": "2021-08-03T11:59:16.430825Z",
     "shell.execute_reply.started": "2021-08-03T11:59:16.414965Z"
    }
   },
   "outputs": [],
   "source": [
    "## HIDE\n",
    "from sklearn.datasets import load_boston\n",
    "\n",
    "bunch = load_boston()\n",
    "boston = pd.DataFrame(bunch[\"data\"], columns=bunch[\"feature_names\"])"
   ]
  },
  {
   "cell_type": "code",
   "execution_count": null,
   "metadata": {
    "execution": {
     "iopub.execute_input": "2021-08-03T11:59:16.433931Z",
     "iopub.status.busy": "2021-08-03T11:59:16.433323Z",
     "iopub.status.idle": "2021-08-03T11:59:16.484095Z",
     "shell.execute_reply": "2021-08-03T11:59:16.483145Z",
     "shell.execute_reply.started": "2021-08-03T11:59:16.433886Z"
    }
   },
   "outputs": [],
   "source": [
    "boston.describe().T.head(10)"
   ]
  },
  {
   "cell_type": "markdown",
   "metadata": {},
   "source": [
    "The Boston housing dataset has 30 numeric columns. If you call `describe` as-is, the DataFrame will stretch horizontally, making it hard to compare the statistics. Taking the transpose will switch the axes so that summary statistics are given in columns."
   ]
  },
  {
   "cell_type": "markdown",
   "metadata": {},
   "source": [
    "## 8. Pandas Styler"
   ]
  },
  {
   "cell_type": "markdown",
   "metadata": {},
   "source": [
    "Did you know that Pandas allows you to style DataFrames?\n",
    "\n",
    "They have a `style` attribute which opens doors to customizations and styles only limited by your HTML and CSS knowledge. I won't discuss the full details of what you can do with `style` but only show you my favorite functions:"
   ]
  },
  {
   "cell_type": "code",
   "execution_count": null,
   "metadata": {
    "_kg_hide-input": true,
    "execution": {
     "iopub.execute_input": "2021-08-03T11:59:16.485778Z",
     "iopub.status.busy": "2021-08-03T11:59:16.485415Z",
     "iopub.status.idle": "2021-08-03T11:59:16.615198Z",
     "shell.execute_reply": "2021-08-03T11:59:16.614186Z",
     "shell.execute_reply.started": "2021-08-03T11:59:16.485745Z"
    }
   },
   "outputs": [],
   "source": [
    "## HIDE\n",
    "diabetes = pd.read_csv(\"https://raw.githubusercontent.com/BexTuychiev/medium_stories/master/2021/august/1_pandas_funcs/data/diabetes.csv\")"
   ]
  },
  {
   "cell_type": "code",
   "execution_count": null,
   "metadata": {
    "execution": {
     "iopub.execute_input": "2021-08-03T11:59:16.616742Z",
     "iopub.status.busy": "2021-08-03T11:59:16.616413Z",
     "iopub.status.idle": "2021-08-03T11:59:16.664083Z",
     "shell.execute_reply": "2021-08-03T11:59:16.663226Z",
     "shell.execute_reply.started": "2021-08-03T11:59:16.616712Z"
    }
   },
   "outputs": [],
   "source": [
    "diabetes.describe().T.drop(\"count\", axis=1).style.highlight_max(color=\"darkred\")"
   ]
  },
  {
   "cell_type": "markdown",
   "metadata": {},
   "source": [
    "Above, we are highlighting cells that hold the maximum value of a column. Another cool styler is `background_gradient` which can give columns a gradient background color based on their values:"
   ]
  },
  {
   "cell_type": "code",
   "execution_count": null,
   "metadata": {
    "execution": {
     "iopub.execute_input": "2021-08-03T11:59:16.665663Z",
     "iopub.status.busy": "2021-08-03T11:59:16.665196Z",
     "iopub.status.idle": "2021-08-03T11:59:16.705767Z",
     "shell.execute_reply": "2021-08-03T11:59:16.704987Z",
     "shell.execute_reply.started": "2021-08-03T11:59:16.665598Z"
    }
   },
   "outputs": [],
   "source": [
    "diabetes.describe().T.drop(\"count\", axis=1).style.background_gradient(\n",
    "    subset=[\"mean\", \"50%\"], cmap=\"Reds\"\n",
    ")"
   ]
  },
  {
   "cell_type": "markdown",
   "metadata": {},
   "source": [
    "This feature comes especially handy when you are using `describe` on a table with many columns and want to compare summary statistics. Check out the documentation of the styler [here](https://pandas.pydata.org/docs/reference/style.html)."
   ]
  },
  {
   "cell_type": "markdown",
   "metadata": {},
   "source": [
    "## 9. Pandas options"
   ]
  },
  {
   "cell_type": "markdown",
   "metadata": {},
   "source": [
    "Like Matplotlib, pandas has global settings that you can tweak to change the default behaviors:"
   ]
  },
  {
   "cell_type": "code",
   "execution_count": null,
   "metadata": {
    "execution": {
     "iopub.execute_input": "2021-08-03T11:59:16.708192Z",
     "iopub.status.busy": "2021-08-03T11:59:16.707771Z",
     "iopub.status.idle": "2021-08-03T11:59:16.713746Z",
     "shell.execute_reply": "2021-08-03T11:59:16.71269Z",
     "shell.execute_reply.started": "2021-08-03T11:59:16.708148Z"
    }
   },
   "outputs": [],
   "source": [
    "dir(pd.options)"
   ]
  },
  {
   "cell_type": "markdown",
   "metadata": {},
   "source": [
    "These settings are divided into 5 modules. Let's see what settings are there under `display`:"
   ]
  },
  {
   "cell_type": "code",
   "execution_count": null,
   "metadata": {
    "execution": {
     "iopub.execute_input": "2021-08-03T11:59:16.716121Z",
     "iopub.status.busy": "2021-08-03T11:59:16.715776Z",
     "iopub.status.idle": "2021-08-03T11:59:16.730707Z",
     "shell.execute_reply": "2021-08-03T11:59:16.729625Z",
     "shell.execute_reply.started": "2021-08-03T11:59:16.716093Z"
    }
   },
   "outputs": [],
   "source": [
    "dir(pd.options.display)"
   ]
  },
  {
   "cell_type": "markdown",
   "metadata": {},
   "source": [
    "There are options under `display` but I mostly use `max_columns` and `precision`:"
   ]
  },
  {
   "cell_type": "code",
   "execution_count": null,
   "metadata": {
    "execution": {
     "iopub.execute_input": "2021-08-03T11:59:16.732464Z",
     "iopub.status.busy": "2021-08-03T11:59:16.732148Z",
     "iopub.status.idle": "2021-08-03T11:59:16.744672Z",
     "shell.execute_reply": "2021-08-03T11:59:16.743533Z",
     "shell.execute_reply.started": "2021-08-03T11:59:16.732405Z"
    }
   },
   "outputs": [],
   "source": [
    "# Remove the limit to display the number of cols\n",
    "pd.options.display.max_columns = None\n",
    "\n",
    "# Only show 5 numbers after the decimal\n",
    "pd.options.display.precision = 5  # gets rid of scientific notation"
   ]
  },
  {
   "cell_type": "markdown",
   "metadata": {},
   "source": [
    "You can check out the [documentation](https://pandas.pydata.org/pandas-docs/stable/user_guide/options.html) to dig deeper into this wonderful feature."
   ]
  },
  {
   "cell_type": "markdown",
   "metadata": {},
   "source": [
    "## 10. `convert_dtypes`"
   ]
  },
  {
   "cell_type": "markdown",
   "metadata": {},
   "source": [
    "We all know that pandas has an annoying tendency to mark some columns as `object` data type. Instead of manually specifying their types, you can use `convert_dtypes` method which tries to infer the best data type:"
   ]
  },
  {
   "cell_type": "code",
   "execution_count": null,
   "metadata": {
    "execution": {
     "iopub.execute_input": "2021-08-03T11:59:16.746367Z",
     "iopub.status.busy": "2021-08-03T11:59:16.746042Z",
     "iopub.status.idle": "2021-08-03T11:59:17.075975Z",
     "shell.execute_reply": "2021-08-03T11:59:17.075304Z",
     "shell.execute_reply.started": "2021-08-03T11:59:16.746328Z"
    }
   },
   "outputs": [],
   "source": [
    "sample = pd.read_csv(\n",
    "    \"https://raw.githubusercontent.com/BexTuychiev/medium_stories/master/2021/august/1_pandas_funcs/data/station_day.csv\",\n",
    "    usecols=[\"StationId\", \"CO\", \"O3\", \"AQI_Bucket\"],\n",
    ")\n",
    "sample.dtypes"
   ]
  },
  {
   "cell_type": "code",
   "execution_count": null,
   "metadata": {
    "execution": {
     "iopub.execute_input": "2021-08-03T11:59:17.077507Z",
     "iopub.status.busy": "2021-08-03T11:59:17.077067Z",
     "iopub.status.idle": "2021-08-03T11:59:17.122189Z",
     "shell.execute_reply": "2021-08-03T11:59:17.121291Z",
     "shell.execute_reply.started": "2021-08-03T11:59:17.077471Z"
    }
   },
   "outputs": [],
   "source": [
    "sample.convert_dtypes().dtypes"
   ]
  },
  {
   "cell_type": "markdown",
   "metadata": {},
   "source": [
    "Unfortunately, it can't pares dates due to the caveats of different date time formats."
   ]
  },
  {
   "cell_type": "markdown",
   "metadata": {},
   "source": [
    "## 11. `select_dtypes`"
   ]
  },
  {
   "cell_type": "markdown",
   "metadata": {},
   "source": [
    "A function I use all the time is `select_dtypes`. I think it is obvious what the function does from its name. It has `include` and `exclude` parameters that you can use to select columns including or excluding certain data types.\n",
    "\n",
    "For example, choose only numeric columns with `np.number`:"
   ]
  },
  {
   "cell_type": "code",
   "execution_count": null,
   "metadata": {
    "execution": {
     "iopub.execute_input": "2021-08-03T11:59:17.123731Z",
     "iopub.status.busy": "2021-08-03T11:59:17.123448Z",
     "iopub.status.idle": "2021-08-03T11:59:17.147313Z",
     "shell.execute_reply": "2021-08-03T11:59:17.146405Z",
     "shell.execute_reply.started": "2021-08-03T11:59:17.123704Z"
    }
   },
   "outputs": [],
   "source": [
    "# Choose only numerical columns\n",
    "diamonds.select_dtypes(include=np.number).head()"
   ]
  },
  {
   "cell_type": "markdown",
   "metadata": {},
   "source": [
    "Or `exclude` them:"
   ]
  },
  {
   "cell_type": "code",
   "execution_count": null,
   "metadata": {
    "execution": {
     "iopub.execute_input": "2021-08-03T11:59:17.148845Z",
     "iopub.status.busy": "2021-08-03T11:59:17.148572Z",
     "iopub.status.idle": "2021-08-03T11:59:17.164779Z",
     "shell.execute_reply": "2021-08-03T11:59:17.163614Z",
     "shell.execute_reply.started": "2021-08-03T11:59:17.148818Z"
    }
   },
   "outputs": [],
   "source": [
    "# Exclude numerical columns\n",
    "diamonds.select_dtypes(exclude=np.number).head()"
   ]
  },
  {
   "cell_type": "markdown",
   "metadata": {},
   "source": [
    "## 12. `mask`"
   ]
  },
  {
   "cell_type": "markdown",
   "metadata": {},
   "source": [
    "![](https://images.pexels.com/photos/38275/anonymous-studio-figure-photography-facial-mask-38275.jpeg?auto=compress&cs=tinysrgb&dpr=2&h=650&w=940)\n",
    "<figcaption style=\"text-align: center;\">\n",
    "    <strong>\n",
    "        Photo by \n",
    "        <a href='https://www.pexels.com/@pixabay?utm_content=attributionCopyText&utm_medium=referral&utm_source=pexels'>Pixabay</a>\n",
    "        on \n",
    "        <a href='https://www.pexels.com/photo/photo-of-guy-fawkes-mask-with-red-flower-on-top-on-hand-38275/?utm_content=attributionCopyText&utm_medium=referral&utm_source=pexels'>Pexels.</a>\n",
    "    </strong>\n",
    "</figcaption>"
   ]
  },
  {
   "cell_type": "markdown",
   "metadata": {},
   "source": [
    "`mask` allows you to quickly replace cell values where a custom condition is true. \n",
    "\n",
    "For example, let's say we have a survey data collected from people aged 50-60."
   ]
  },
  {
   "cell_type": "code",
   "execution_count": null,
   "metadata": {
    "execution": {
     "iopub.execute_input": "2021-08-03T11:59:17.166533Z",
     "iopub.status.busy": "2021-08-03T11:59:17.166169Z",
     "iopub.status.idle": "2021-08-03T11:59:17.178284Z",
     "shell.execute_reply": "2021-08-03T11:59:17.177285Z",
     "shell.execute_reply.started": "2021-08-03T11:59:17.166503Z"
    }
   },
   "outputs": [],
   "source": [
    "# Create sample data\n",
    "ages = pd.Series([55, 52, 50, 66, 57, 59, 49, 60]).to_frame(\"ages\")\n",
    "\n",
    "ages"
   ]
  },
  {
   "cell_type": "markdown",
   "metadata": {},
   "source": [
    "We will treat ages that are outside 50-60 range (there are two, 49 and 66) as data entry mistakes and replace them with NaNs."
   ]
  },
  {
   "cell_type": "code",
   "execution_count": null,
   "metadata": {
    "execution": {
     "iopub.execute_input": "2021-08-03T11:59:17.179997Z",
     "iopub.status.busy": "2021-08-03T11:59:17.179668Z",
     "iopub.status.idle": "2021-08-03T11:59:17.201771Z",
     "shell.execute_reply": "2021-08-03T11:59:17.200776Z",
     "shell.execute_reply.started": "2021-08-03T11:59:17.179968Z"
    }
   },
   "outputs": [],
   "source": [
    "ages.mask(cond=~ages[\"ages\"].between(50, 60), other=np.nan)"
   ]
  },
  {
   "cell_type": "markdown",
   "metadata": {},
   "source": [
    "So, `mask` replaces values that don't meet `cond` with `other`."
   ]
  },
  {
   "cell_type": "markdown",
   "metadata": {},
   "source": [
    "## 13. `min` and `max` along the columns axis"
   ]
  },
  {
   "cell_type": "markdown",
   "metadata": {},
   "source": [
    "Even though `min` and `max` functions are well-known, they have another useful property for some edge-cases. Consider this dataset:"
   ]
  },
  {
   "cell_type": "code",
   "execution_count": null,
   "metadata": {
    "execution": {
     "iopub.execute_input": "2021-08-03T11:59:17.204015Z",
     "iopub.status.busy": "2021-08-03T11:59:17.203491Z",
     "iopub.status.idle": "2021-08-03T11:59:17.223235Z",
     "shell.execute_reply": "2021-08-03T11:59:17.222315Z",
     "shell.execute_reply.started": "2021-08-03T11:59:17.203971Z"
    },
    "tags": []
   },
   "outputs": [],
   "source": [
    "index = [\"Diamonds\", \"Titanic\", \"Iris\", \"Heart Disease\", \"Loan Default\"]\n",
    "libraries = [\"XGBoost\", \"CatBoost\", \"LightGBM\", \"Sklearn GB\"]\n",
    "df = pd.DataFrame(\n",
    "    {lib: np.random.uniform(90, 100, 5) for lib in libraries}, index=index\n",
    ")\n",
    "\n",
    "df"
   ]
  },
  {
   "cell_type": "markdown",
   "metadata": {},
   "source": [
    "The above fake DataFrame is a point-performance of 4 different gradient boosting libraries on 5 datasets. We want to find the library that performed best at each dataset. Here is how you do it elegantly with `max`:"
   ]
  },
  {
   "cell_type": "code",
   "execution_count": null,
   "metadata": {
    "execution": {
     "iopub.execute_input": "2021-08-03T11:59:17.225667Z",
     "iopub.status.busy": "2021-08-03T11:59:17.224984Z",
     "iopub.status.idle": "2021-08-03T11:59:17.239609Z",
     "shell.execute_reply": "2021-08-03T11:59:17.238568Z",
     "shell.execute_reply.started": "2021-08-03T11:59:17.225602Z"
    }
   },
   "outputs": [],
   "source": [
    "df.max(axis=1)"
   ]
  },
  {
   "cell_type": "markdown",
   "metadata": {},
   "source": [
    "Just change the axis to 1 and you get a row-wise max/min. "
   ]
  },
  {
   "cell_type": "markdown",
   "metadata": {},
   "source": [
    "## 14. `nlargest` and `nsmallest`"
   ]
  },
  {
   "cell_type": "markdown",
   "metadata": {},
   "source": [
    "Sometimes you don't just want the min/max of a column. You want to see the top N or ~(top N) values of a variable. This is where `nlargest` and `nsmallest` comes in handy.\n",
    "\n",
    "Let's see the top 5 most expensive and cheapest diamonds:"
   ]
  },
  {
   "cell_type": "code",
   "execution_count": null,
   "metadata": {
    "execution": {
     "iopub.execute_input": "2021-08-03T11:59:17.241974Z",
     "iopub.status.busy": "2021-08-03T11:59:17.241114Z",
     "iopub.status.idle": "2021-08-03T11:59:17.270834Z",
     "shell.execute_reply": "2021-08-03T11:59:17.269851Z",
     "shell.execute_reply.started": "2021-08-03T11:59:17.241931Z"
    }
   },
   "outputs": [],
   "source": [
    "diamonds.nlargest(5, \"price\")"
   ]
  },
  {
   "cell_type": "code",
   "execution_count": null,
   "metadata": {
    "execution": {
     "iopub.execute_input": "2021-08-03T11:59:17.272826Z",
     "iopub.status.busy": "2021-08-03T11:59:17.272237Z",
     "iopub.status.idle": "2021-08-03T11:59:17.298461Z",
     "shell.execute_reply": "2021-08-03T11:59:17.297328Z",
     "shell.execute_reply.started": "2021-08-03T11:59:17.272779Z"
    }
   },
   "outputs": [],
   "source": [
    "diamonds.nsmallest(5, \"price\")"
   ]
  },
  {
   "cell_type": "markdown",
   "metadata": {},
   "source": [
    "## 15. `idxmax` and `idxmin`"
   ]
  },
  {
   "cell_type": "markdown",
   "metadata": {},
   "source": [
    "When you call `max` or `min` on a column, pandas returns the value that is largest/smallest. However, sometimes you want the *position* of the min/max, which is not possible with these functions.\n",
    "\n",
    "Instead, you should use `idxmax`/`idxmin`:"
   ]
  },
  {
   "cell_type": "code",
   "execution_count": null,
   "metadata": {
    "execution": {
     "iopub.execute_input": "2021-08-03T11:59:17.300234Z",
     "iopub.status.busy": "2021-08-03T11:59:17.299862Z",
     "iopub.status.idle": "2021-08-03T11:59:17.307143Z",
     "shell.execute_reply": "2021-08-03T11:59:17.306073Z",
     "shell.execute_reply.started": "2021-08-03T11:59:17.300202Z"
    }
   },
   "outputs": [],
   "source": [
    "diamonds.price.idxmax()"
   ]
  },
  {
   "cell_type": "code",
   "execution_count": null,
   "metadata": {
    "execution": {
     "iopub.execute_input": "2021-08-03T11:59:17.312325Z",
     "iopub.status.busy": "2021-08-03T11:59:17.311978Z",
     "iopub.status.idle": "2021-08-03T11:59:17.323406Z",
     "shell.execute_reply": "2021-08-03T11:59:17.322502Z",
     "shell.execute_reply.started": "2021-08-03T11:59:17.312297Z"
    }
   },
   "outputs": [],
   "source": [
    "diamonds.carat.idxmin()"
   ]
  },
  {
   "cell_type": "markdown",
   "metadata": {},
   "source": [
    "You can also specify the `columns` axis, in which case the functions return the index number of the column."
   ]
  },
  {
   "cell_type": "markdown",
   "metadata": {},
   "source": [
    "## 16. `value_counts` with `dropna=False`"
   ]
  },
  {
   "cell_type": "markdown",
   "metadata": {},
   "source": [
    "A common operation to find the percentage of missing values in a column is to chain `isnull` and `sum` and divide by the length of the array. \n",
    "\n",
    "But, you can do the same thing with `value_counts` with relevant arguments:"
   ]
  },
  {
   "cell_type": "code",
   "execution_count": null,
   "metadata": {
    "execution": {
     "iopub.execute_input": "2021-08-03T11:59:17.325765Z",
     "iopub.status.busy": "2021-08-03T11:59:17.325348Z",
     "iopub.status.idle": "2021-08-03T11:59:17.380141Z",
     "shell.execute_reply": "2021-08-03T11:59:17.379372Z",
     "shell.execute_reply.started": "2021-08-03T11:59:17.325735Z"
    }
   },
   "outputs": [],
   "source": [
    "ames_housing = pd.read_csv(\"../input/house-prices-advanced-regression-techniques/train.csv\")\n",
    "\n",
    "ames_housing[\"FireplaceQu\"].value_counts(dropna=False, normalize=True)"
   ]
  },
  {
   "cell_type": "markdown",
   "metadata": {},
   "source": [
    "Fireplace quality of Ames housing dataset consists of 47% nulls."
   ]
  },
  {
   "cell_type": "markdown",
   "metadata": {},
   "source": [
    "## 17. `clip`"
   ]
  },
  {
   "cell_type": "markdown",
   "metadata": {},
   "source": [
    "![](https://images.pexels.com/photos/2448452/pexels-photo-2448452.jpeg?auto=compress&cs=tinysrgb&dpr=2&h=650&w=940)\n",
    "<figcaption style=\"text-align: center;\">\n",
    "    <strong>\n",
    "        Photo by \n",
    "        <a href='https://www.pexels.com/@ann-h-45017?utm_content=attributionCopyText&utm_medium=referral&utm_source=pexels'>Ann H</a>\n",
    "        on \n",
    "        <a href='https://www.pexels.com/photo/a-lot-of-paper-clips-2448452/?utm_content=attributionCopyText&utm_medium=referral&utm_source=pexels'>Pexels</a></strong>\n",
    "</figcaption>"
   ]
  },
  {
   "cell_type": "markdown",
   "metadata": {},
   "source": [
    "Outlier detection and removal is common in data analysis. \n",
    "\n",
    "`clip` function makes it really easy to find outliers outside a range and replacing them with the hard limits. \n",
    "\n",
    "Let's go back to the ages example:"
   ]
  },
  {
   "cell_type": "code",
   "execution_count": null,
   "metadata": {
    "execution": {
     "iopub.execute_input": "2021-08-03T11:59:17.381559Z",
     "iopub.status.busy": "2021-08-03T11:59:17.381142Z",
     "iopub.status.idle": "2021-08-03T11:59:17.389633Z",
     "shell.execute_reply": "2021-08-03T11:59:17.388864Z",
     "shell.execute_reply.started": "2021-08-03T11:59:17.381529Z"
    }
   },
   "outputs": [],
   "source": [
    "ages"
   ]
  },
  {
   "cell_type": "markdown",
   "metadata": {},
   "source": [
    "This time, we will replace the out-of-range ages with the hard limits of 50 and 60:"
   ]
  },
  {
   "cell_type": "code",
   "execution_count": null,
   "metadata": {
    "execution": {
     "iopub.execute_input": "2021-08-03T11:59:17.391188Z",
     "iopub.status.busy": "2021-08-03T11:59:17.390753Z",
     "iopub.status.idle": "2021-08-03T11:59:17.412086Z",
     "shell.execute_reply": "2021-08-03T11:59:17.410962Z",
     "shell.execute_reply.started": "2021-08-03T11:59:17.391158Z"
    }
   },
   "outputs": [],
   "source": [
    "ages.clip(50, 60)"
   ]
  },
  {
   "cell_type": "markdown",
   "metadata": {},
   "source": [
    "Fast and efficient!"
   ]
  },
  {
   "cell_type": "markdown",
   "metadata": {},
   "source": [
    "## 18. `at_time` and `between_time`"
   ]
  },
  {
   "cell_type": "markdown",
   "metadata": {},
   "source": [
    "These two can be useful when working with time-series that have high granularity. \n",
    "\n",
    "`at_time` allows you to subset values at a specific date or time. Consider this time series:"
   ]
  },
  {
   "cell_type": "code",
   "execution_count": null,
   "metadata": {
    "execution": {
     "iopub.execute_input": "2021-08-03T11:59:17.414159Z",
     "iopub.status.busy": "2021-08-03T11:59:17.413521Z",
     "iopub.status.idle": "2021-08-03T11:59:17.434168Z",
     "shell.execute_reply": "2021-08-03T11:59:17.43288Z",
     "shell.execute_reply.started": "2021-08-03T11:59:17.414113Z"
    }
   },
   "outputs": [],
   "source": [
    "index = pd.date_range(\"2021-08-01\", periods=100, freq=\"H\")\n",
    "data = pd.DataFrame({\"col\": list(range(100))}, index=index)\n",
    "\n",
    "data.head()"
   ]
  },
  {
   "cell_type": "markdown",
   "metadata": {},
   "source": [
    "Let's select all rows at 3 PM:"
   ]
  },
  {
   "cell_type": "code",
   "execution_count": null,
   "metadata": {
    "execution": {
     "iopub.execute_input": "2021-08-03T11:59:17.436046Z",
     "iopub.status.busy": "2021-08-03T11:59:17.43574Z",
     "iopub.status.idle": "2021-08-03T11:59:17.454199Z",
     "shell.execute_reply": "2021-08-03T11:59:17.453036Z",
     "shell.execute_reply.started": "2021-08-03T11:59:17.436019Z"
    }
   },
   "outputs": [],
   "source": [
    "data.at_time(\"15:00\")"
   ]
  },
  {
   "cell_type": "markdown",
   "metadata": {},
   "source": [
    "Cool, huh? Now, let's use `between_time` to select rows within a custom interval:"
   ]
  },
  {
   "cell_type": "code",
   "execution_count": null,
   "metadata": {
    "execution": {
     "iopub.execute_input": "2021-08-03T11:59:17.456185Z",
     "iopub.status.busy": "2021-08-03T11:59:17.455788Z",
     "iopub.status.idle": "2021-08-03T11:59:17.467511Z",
     "shell.execute_reply": "2021-08-03T11:59:17.466672Z",
     "shell.execute_reply.started": "2021-08-03T11:59:17.456142Z"
    }
   },
   "outputs": [],
   "source": [
    "from datetime import datetime\n",
    "\n",
    "data.between_time(\"09:45\", \"12:00\")"
   ]
  },
  {
   "cell_type": "markdown",
   "metadata": {},
   "source": [
    "Note that both functions require a DateTimeIndex and they only work with times (as in *o'clock*). If you want to subset within a DateTime interval, use `between`."
   ]
  },
  {
   "cell_type": "markdown",
   "metadata": {},
   "source": [
    "## 19. `bdate_range`"
   ]
  },
  {
   "cell_type": "markdown",
   "metadata": {},
   "source": [
    "`bdate_range` is a short-hand function to create TimeSeries indices with business-day frequency:"
   ]
  },
  {
   "cell_type": "code",
   "execution_count": null,
   "metadata": {
    "execution": {
     "iopub.execute_input": "2021-08-03T11:59:17.469495Z",
     "iopub.status.busy": "2021-08-03T11:59:17.468832Z",
     "iopub.status.idle": "2021-08-03T11:59:17.4847Z",
     "shell.execute_reply": "2021-08-03T11:59:17.483566Z",
     "shell.execute_reply.started": "2021-08-03T11:59:17.469454Z"
    }
   },
   "outputs": [],
   "source": [
    "series = pd.bdate_range(\"2021-01-01\", \"2021-01-31\")  # A period of one month\n",
    "len(series)"
   ]
  },
  {
   "cell_type": "markdown",
   "metadata": {},
   "source": [
    "Business-day frequencies are common in the financial world. So, this function may come in handy when reindexing existing time-series with `reindex` function."
   ]
  },
  {
   "cell_type": "markdown",
   "metadata": {},
   "source": [
    "## 20. `autocorr`"
   ]
  },
  {
   "cell_type": "markdown",
   "metadata": {},
   "source": [
    "One of the critical components in time-series analysis is examining the autocorrelation of a variable. \n",
    "\n",
    "Autocorrelation is the plain-old correlation coefficient but it is calculated with the lagging version of a time series. \n",
    "\n",
    "In more detail, autocorrelation of a time series at `lag=k` is calculated as follows:\n",
    "\n",
    "1. The time-series is shifted till `k` periods:"
   ]
  },
  {
   "cell_type": "code",
   "execution_count": null,
   "metadata": {
    "_kg_hide-input": true,
    "execution": {
     "iopub.execute_input": "2021-08-03T11:59:17.486681Z",
     "iopub.status.busy": "2021-08-03T11:59:17.486337Z",
     "iopub.status.idle": "2021-08-03T11:59:17.499567Z",
     "shell.execute_reply": "2021-08-03T11:59:17.49855Z",
     "shell.execute_reply.started": "2021-08-03T11:59:17.486649Z"
    }
   },
   "outputs": [],
   "source": [
    "## HIDE\n",
    "# Prep the data for an example\n",
    "dt = pd.date_range(\"2021-01-01\", periods=len(tips))\n",
    "tips.index = dt\n",
    "\n",
    "time_series = tips[[\"tip\"]]"
   ]
  },
  {
   "cell_type": "code",
   "execution_count": null,
   "metadata": {
    "execution": {
     "iopub.execute_input": "2021-08-03T11:59:17.501607Z",
     "iopub.status.busy": "2021-08-03T11:59:17.501103Z",
     "iopub.status.idle": "2021-08-03T11:59:17.532703Z",
     "shell.execute_reply": "2021-08-03T11:59:17.531767Z",
     "shell.execute_reply.started": "2021-08-03T11:59:17.501549Z"
    }
   },
   "outputs": [],
   "source": [
    "time_series[\"lag_1\"] = time_series[\"tip\"].shift(1)\n",
    "time_series[\"lag_2\"] = time_series[\"tip\"].shift(2)\n",
    "time_series[\"lag_3\"] = time_series[\"tip\"].shift(3)\n",
    "time_series[\"lag_4\"] = time_series[\"tip\"].shift(4)\n",
    "# time_series['lag_k'] = time_series['tip'].shift(k)\n",
    "\n",
    "time_series.head()"
   ]
  },
  {
   "cell_type": "markdown",
   "metadata": {},
   "source": [
    "2. Correlation is calculated between the original `tip` and each `lag_*`. \n",
    "\n",
    "Instead of doing all this manually, you can use the `autocorr` function of Pandas:"
   ]
  },
  {
   "cell_type": "code",
   "execution_count": null,
   "metadata": {
    "execution": {
     "iopub.execute_input": "2021-08-03T11:59:17.534274Z",
     "iopub.status.busy": "2021-08-03T11:59:17.53398Z",
     "iopub.status.idle": "2021-08-03T11:59:17.561055Z",
     "shell.execute_reply": "2021-08-03T11:59:17.560316Z",
     "shell.execute_reply.started": "2021-08-03T11:59:17.534247Z"
    }
   },
   "outputs": [],
   "source": [
    "# Autocorrelation of tip at lag_10\n",
    "time_series[\"tip\"].autocorr(lag=8)"
   ]
  },
  {
   "cell_type": "markdown",
   "metadata": {},
   "source": [
    "You can read more about the importance of autocorrelation in time-series analysis from this [post](https://towardsdatascience.com/advanced-time-series-analysis-in-python-decomposition-autocorrelation-115aa64f475e)."
   ]
  },
  {
   "cell_type": "markdown",
   "metadata": {},
   "source": [
    "## 21. `hasnans`"
   ]
  },
  {
   "cell_type": "markdown",
   "metadata": {},
   "source": [
    "Pandas offers a quick method to check if a given series contains any nulls with `hasnans` attribute:"
   ]
  },
  {
   "cell_type": "code",
   "execution_count": null,
   "metadata": {
    "execution": {
     "iopub.execute_input": "2021-08-03T11:59:17.562396Z",
     "iopub.status.busy": "2021-08-03T11:59:17.562031Z",
     "iopub.status.idle": "2021-08-03T11:59:17.568261Z",
     "shell.execute_reply": "2021-08-03T11:59:17.567562Z",
     "shell.execute_reply.started": "2021-08-03T11:59:17.562368Z"
    }
   },
   "outputs": [],
   "source": [
    "series = pd.Series([2, 4, 6, \"sadf\", np.nan])\n",
    "series.hasnans"
   ]
  },
  {
   "cell_type": "markdown",
   "metadata": {},
   "source": [
    "According to its [documentation](https://pandas.pydata.org/pandas-docs/stable/reference/api/pandas.Series.hasnans.html), it enables various performance increases. Note that the attribute works only on `pd.Series`."
   ]
  },
  {
   "cell_type": "markdown",
   "metadata": {},
   "source": [
    "## 22. `at` and `iat`"
   ]
  },
  {
   "cell_type": "markdown",
   "metadata": {},
   "source": [
    "These two accessors are much faster alternatives to `loc` and `iloc` with a disadvantage. They only allow selecting or replacing a single value at a time:"
   ]
  },
  {
   "cell_type": "code",
   "execution_count": null,
   "metadata": {
    "execution": {
     "iopub.execute_input": "2021-08-03T11:59:17.569587Z",
     "iopub.status.busy": "2021-08-03T11:59:17.569194Z",
     "iopub.status.idle": "2021-08-03T11:59:17.583958Z",
     "shell.execute_reply": "2021-08-03T11:59:17.583286Z",
     "shell.execute_reply.started": "2021-08-03T11:59:17.569558Z"
    }
   },
   "outputs": [],
   "source": [
    "# [index, label]\n",
    "diamonds.at[234, \"cut\"]"
   ]
  },
  {
   "cell_type": "code",
   "execution_count": null,
   "metadata": {
    "execution": {
     "iopub.execute_input": "2021-08-03T11:59:17.585407Z",
     "iopub.status.busy": "2021-08-03T11:59:17.58513Z",
     "iopub.status.idle": "2021-08-03T11:59:17.595782Z",
     "shell.execute_reply": "2021-08-03T11:59:17.594797Z",
     "shell.execute_reply.started": "2021-08-03T11:59:17.585381Z"
    }
   },
   "outputs": [],
   "source": [
    "# [index, index]\n",
    "diamonds.iat[1564, 4]"
   ]
  },
  {
   "cell_type": "code",
   "execution_count": null,
   "metadata": {
    "execution": {
     "iopub.execute_input": "2021-08-03T11:59:17.597342Z",
     "iopub.status.busy": "2021-08-03T11:59:17.597077Z",
     "iopub.status.idle": "2021-08-03T11:59:17.607368Z",
     "shell.execute_reply": "2021-08-03T11:59:17.606511Z",
     "shell.execute_reply.started": "2021-08-03T11:59:17.597317Z"
    }
   },
   "outputs": [],
   "source": [
    "# Replace 16541th row of the price column\n",
    "diamonds.at[16541, \"price\"] = 10000"
   ]
  },
  {
   "cell_type": "markdown",
   "metadata": {},
   "source": [
    "## 23. `argsort`"
   ]
  },
  {
   "cell_type": "markdown",
   "metadata": {},
   "source": [
    "You should use this function when you want to extract the indices that would sort an array:"
   ]
  },
  {
   "cell_type": "code",
   "execution_count": null,
   "metadata": {
    "execution": {
     "iopub.execute_input": "2021-08-03T11:59:17.609563Z",
     "iopub.status.busy": "2021-08-03T11:59:17.609122Z",
     "iopub.status.idle": "2021-08-03T11:59:17.635215Z",
     "shell.execute_reply": "2021-08-03T11:59:17.634275Z",
     "shell.execute_reply.started": "2021-08-03T11:59:17.609532Z"
    }
   },
   "outputs": [],
   "source": [
    "tips.reset_index(inplace=True, drop=True)\n",
    "\n",
    "sort_idx = tips[\"total_bill\"].argsort(kind=\"mergesort\")\n",
    "\n",
    "# Now, sort `tips` based on total_bill\n",
    "tips.iloc[sort_idx].head()"
   ]
  },
  {
   "cell_type": "markdown",
   "metadata": {},
   "source": [
    "## 24. `cat` accessor"
   ]
  },
  {
   "cell_type": "markdown",
   "metadata": {},
   "source": [
    "It is common knowledge that Pandas enables to use built-in Python functions on dates and strings using accessors like `dt` or `str`. \n",
    "\n",
    "Pandas also has a special `category` data type for categorical variables as can be seen below:"
   ]
  },
  {
   "cell_type": "code",
   "execution_count": null,
   "metadata": {
    "execution": {
     "iopub.execute_input": "2021-08-03T11:59:17.636682Z",
     "iopub.status.busy": "2021-08-03T11:59:17.636366Z",
     "iopub.status.idle": "2021-08-03T11:59:17.644399Z",
     "shell.execute_reply": "2021-08-03T11:59:17.643245Z",
     "shell.execute_reply.started": "2021-08-03T11:59:17.636653Z"
    }
   },
   "outputs": [],
   "source": [
    "diamonds.dtypes"
   ]
  },
  {
   "cell_type": "markdown",
   "metadata": {},
   "source": [
    "When a column is `category`, you can use several special functions using the `cat` accessor. For example, let's see the unique categories of diamond cuts:"
   ]
  },
  {
   "cell_type": "code",
   "execution_count": null,
   "metadata": {
    "execution": {
     "iopub.execute_input": "2021-08-03T11:59:17.646655Z",
     "iopub.status.busy": "2021-08-03T11:59:17.646155Z",
     "iopub.status.idle": "2021-08-03T11:59:17.658988Z",
     "shell.execute_reply": "2021-08-03T11:59:17.658074Z",
     "shell.execute_reply.started": "2021-08-03T11:59:17.64661Z"
    }
   },
   "outputs": [],
   "source": [
    "diamonds[\"cut\"].cat.categories"
   ]
  },
  {
   "cell_type": "markdown",
   "metadata": {},
   "source": [
    "There are also functions like `remove_categories` or `rename_categories`, etc.:"
   ]
  },
  {
   "cell_type": "code",
   "execution_count": null,
   "metadata": {
    "execution": {
     "iopub.execute_input": "2021-08-03T11:59:17.661266Z",
     "iopub.status.busy": "2021-08-03T11:59:17.660535Z",
     "iopub.status.idle": "2021-08-03T11:59:17.673693Z",
     "shell.execute_reply": "2021-08-03T11:59:17.672667Z",
     "shell.execute_reply.started": "2021-08-03T11:59:17.661221Z"
    }
   },
   "outputs": [],
   "source": [
    "diamonds[\"new_cuts\"] = diamonds[\"cut\"].cat.rename_categories(list(\"ABCDE\"))\n",
    "diamonds[\"new_cuts\"].cat.categories"
   ]
  },
  {
   "cell_type": "markdown",
   "metadata": {},
   "source": [
    "You can see the full list of functions under the `cat` accessor [here](https://pandas.pydata.org/pandas-docs/stable/reference/series.html#categorical-accessor)."
   ]
  },
  {
   "cell_type": "markdown",
   "metadata": {},
   "source": [
    "## 25. `GroupBy.nth`"
   ]
  },
  {
   "cell_type": "markdown",
   "metadata": {},
   "source": [
    "This function only works with `GroupBy` objects. Specifically, after grouping, `nth` returns the nth row from each group:"
   ]
  },
  {
   "cell_type": "code",
   "execution_count": null,
   "metadata": {
    "execution": {
     "iopub.execute_input": "2021-08-03T11:59:17.676104Z",
     "iopub.status.busy": "2021-08-03T11:59:17.675371Z",
     "iopub.status.idle": "2021-08-03T11:59:17.711978Z",
     "shell.execute_reply": "2021-08-03T11:59:17.710952Z",
     "shell.execute_reply.started": "2021-08-03T11:59:17.67605Z"
    }
   },
   "outputs": [],
   "source": [
    "diamonds.groupby(\"cut\").nth(5)"
   ]
  },
  {
   "cell_type": "markdown",
   "metadata": {},
   "source": [
    "## Summary"
   ]
  },
  {
   "cell_type": "markdown",
   "metadata": {},
   "source": [
    "Even though libraries like Dask and datatable are slowly winning over Pandas with their shiny new features for handling massive datasets, Pandas still remains the most widely-used data manipulation tool in Python data science ecosystem.\n",
    "\n",
    "The library still remains as a role-model for other packages to imitate and improve upon, as it integrates into the modern SciPy stack so well. Thank you for reading!"
   ]
  },
  {
   "cell_type": "markdown",
   "metadata": {},
   "source": [
    "## You might also be interested...\n",
    "- [My 6-part Powerful EDA Template](https://www.kaggle.com/bextuychiev/my-6-part-powerful-eda-template)\n",
    "- [\n",
    "Lasso regression with Pipelines (Tutorial)](https://www.kaggle.com/bextuychiev/lasso-regression-with-pipelines-tutorial)\n",
    "- [Awesome EDA + XGBoost CV Baseline](https://www.kaggle.com/bextuychiev/relevant-eda-xgboost-cv-baseline)"
   ]
  },
  {
   "cell_type": "markdown",
   "metadata": {},
   "source": [
    "# 25 Pandas Functions You Didn't Know Existed | P(Guarantee) = 0.8\n",
    "## ExcelWriter, factorize, explode, squeeze, T, mask, idxmax, clip, ...\n",
    "![](https://images.pexels.com/photos/5199661/pexels-photo-5199661.jpeg?auto=compress&cs=tinysrgb&dpr=2&h=650&w=940)\n",
    "<figcaption style=\"text-align: center;\">\n",
    "    <strong>\n",
    "        Photo by \n",
    "        <a href='https://www.pexels.com/@introspectivedsgn?utm_content=attributionCopyText&utm_medium=referral&utm_source=pexels'>Erik Mclean</a>\n",
    "        on \n",
    "        <a href='https://www.pexels.com/photo/unrecognizable-man-in-panda-head-sitting-near-car-5199661/?utm_content=attributionCopyText&utm_medium=referral&utm_source=pexels'>Pexels.</a> All images are by the author unless specified otherwise.\n",
    "    </strong>\n",
    "</figcaption>"
   ]
  },
  {
   "cell_type": "markdown",
   "metadata": {
    "_kg_hide-input": true
   },
   "source": [
    "## Setup"
   ]
  },
  {
   "cell_type": "code",
   "execution_count": null,
   "metadata": {
    "_kg_hide-input": true,
    "execution": {
     "iopub.execute_input": "2021-08-03T11:59:16.138013Z",
     "iopub.status.busy": "2021-08-03T11:59:16.137637Z",
     "iopub.status.idle": "2021-08-03T11:59:16.143536Z",
     "shell.execute_reply": "2021-08-03T11:59:16.142304Z",
     "shell.execute_reply.started": "2021-08-03T11:59:16.137983Z"
    }
   },
   "outputs": [],
   "source": [
    "import warnings\n",
    "\n",
    "import matplotlib.pyplot as plt\n",
    "import numpy as np\n",
    "import pandas as pd\n",
    "import seaborn as sns\n",
    "\n",
    "pd.options.display.max_rows = None\n",
    "warnings.filterwarnings(\"ignore\")"
   ]
  },
  {
   "cell_type": "markdown",
   "metadata": {},
   "source": [
    "## Introduction"
   ]
  },
  {
   "cell_type": "markdown",
   "metadata": {},
   "source": [
    "\"I wish I could do this operation in Pandas….\"\n",
    "\n",
    "Well, chances are, you can!\n",
    "\n",
    "Pandas is so vast and deep that it enables you to execute virtually any tabular manipulation you can think of. However, this vastness sometimes comes at a disadvantage.\n",
    "\n",
    "Many elegant features that solve rare edge-cases, unique scenarios are lost in the documentation, shadowed by the more frequently used functions.\n",
    "\n",
    "This kernel aims to rediscover those features and show you that Pandas is more capable than you ever knew."
   ]
  },
  {
   "cell_type": "markdown",
   "metadata": {},
   "source": [
    "## 1. `ExcelWriter`"
   ]
  },
  {
   "cell_type": "markdown",
   "metadata": {},
   "source": [
    "`ExcelWriter` is a generic class for creating excel files (with sheets!) and writing DataFrames to them. Let's say we have these 2:"
   ]
  },
  {
   "cell_type": "code",
   "execution_count": null,
   "metadata": {
    "execution": {
     "iopub.execute_input": "2021-08-03T11:59:16.148272Z",
     "iopub.status.busy": "2021-08-03T11:59:16.147951Z",
     "iopub.status.idle": "2021-08-03T11:59:16.258364Z",
     "shell.execute_reply": "2021-08-03T11:59:16.257363Z",
     "shell.execute_reply.started": "2021-08-03T11:59:16.148244Z"
    }
   },
   "outputs": [],
   "source": [
    "# Load two datasets\n",
    "diamonds = sns.load_dataset(\"diamonds\")\n",
    "tips = sns.load_dataset(\"tips\")"
   ]
  },
  {
   "cell_type": "markdown",
   "metadata": {},
   "source": [
    "```python\n",
    "# Write to the same excel file\n",
    "with pd.ExcelWriter(\"data.xlsx\") as writer:\n",
    "\n",
    "    diamonds.to_excel(writer, sheet_name=\"diamonds\")\n",
    "    tips.to_excel(writer, sheet_name=\"tips\")\n",
    "```"
   ]
  },
  {
   "cell_type": "markdown",
   "metadata": {},
   "source": [
    "It has additional attributes to specify the DateTime format to be used, whether you want to create a new excel file or modify an existing one, what happens when a sheet exists, etc. Check out the details from the [documentation](https://pandas.pydata.org/pandas-docs/stable/reference/api/pandas.ExcelWriter.html)."
   ]
  },
  {
   "cell_type": "markdown",
   "metadata": {},
   "source": [
    "## 2. `pipe`"
   ]
  },
  {
   "cell_type": "markdown",
   "metadata": {},
   "source": [
    "![](https://images.pexels.com/photos/192473/pexels-photo-192473.jpeg?auto=compress&cs=tinysrgb&dpr=2&h=650&w=940)\n",
    "<figcaption style=\"text-align: center;\">\n",
    "    <strong>\n",
    "        Photo by \n",
    "        <a href='https://www.pexels.com/@leah-kelley-50725?utm_content=attributionCopyText&utm_medium=referral&utm_source=pexels'>Leah Kelley</a>\n",
    "        on \n",
    "        <a href='https://www.pexels.com/photo/grayscale-photo-of-man-holding-tobacco-pipe-192473/?utm_content=attributionCopyText&utm_medium=referral&utm_source=pexels'>Pexels</a>\n",
    "    </strong>\n",
    "</figcaption>"
   ]
  },
  {
   "cell_type": "markdown",
   "metadata": {},
   "source": [
    "`pipe` is one of the best functions for doing data cleaning in a concise, compact manner in Pandas. It allows you to chain multiple custom functions into a single operation.\n",
    "\n",
    "For example, let's say you have functions to `drop_duplicates`, `remove_outliers`, `encode_categoricals` that accept their own arguments. Here is how you apply all three in a single operation:"
   ]
  },
  {
   "cell_type": "markdown",
   "metadata": {},
   "source": [
    "```python\n",
    "df_preprocessed = (diamonds.pipe(drop_duplicates).\n",
    "                            pipe(remove_outliers, ['price', 'carat', 'depth']).\n",
    "                            pipe(encode_categoricals, ['cut', 'color', 'clarity'])\n",
    "                  )\n",
    "```"
   ]
  },
  {
   "cell_type": "markdown",
   "metadata": {},
   "source": [
    "I like how this function resembles [Sklearn pipelines](https://towardsdatascience.com/how-to-use-sklearn-pipelines-for-ridiculously-neat-code-a61ab66ca90d). There is more you can do with it, so check out the [documentation](https://pandas.pydata.org/docs/reference/api/pandas.DataFrame.pipe.html) or this [helpful article](https://towardsdatascience.com/a-better-way-for-data-preprocessing-pandas-pipe-a08336a012bc)."
   ]
  },
  {
   "cell_type": "markdown",
   "metadata": {},
   "source": [
    "## 3. `factorize`"
   ]
  },
  {
   "cell_type": "markdown",
   "metadata": {},
   "source": [
    "This function is a pandas alternative to Sklearn's `LabelEncoder`:"
   ]
  },
  {
   "cell_type": "code",
   "execution_count": null,
   "metadata": {
    "execution": {
     "iopub.execute_input": "2021-08-03T11:59:16.261175Z",
     "iopub.status.busy": "2021-08-03T11:59:16.260734Z",
     "iopub.status.idle": "2021-08-03T11:59:16.272627Z",
     "shell.execute_reply": "2021-08-03T11:59:16.271548Z",
     "shell.execute_reply.started": "2021-08-03T11:59:16.261129Z"
    }
   },
   "outputs": [],
   "source": [
    "# Mind the [0] at the end\n",
    "diamonds[\"cut_enc\"] = pd.factorize(diamonds[\"cut\"])[0]\n",
    "\n",
    "diamonds[\"cut_enc\"].sample(5)"
   ]
  },
  {
   "cell_type": "markdown",
   "metadata": {},
   "source": [
    "Unlike `LabelEncoder`, `factorize` returns a tuple of two values: the encoded column and a list of the unique categories:"
   ]
  },
  {
   "cell_type": "code",
   "execution_count": null,
   "metadata": {
    "execution": {
     "iopub.execute_input": "2021-08-03T11:59:16.27441Z",
     "iopub.status.busy": "2021-08-03T11:59:16.27401Z",
     "iopub.status.idle": "2021-08-03T11:59:16.282782Z",
     "shell.execute_reply": "2021-08-03T11:59:16.28166Z",
     "shell.execute_reply.started": "2021-08-03T11:59:16.274381Z"
    }
   },
   "outputs": [],
   "source": [
    "codes, unique = pd.factorize(diamonds[\"cut\"], sort=True)\n",
    "\n",
    "codes[:10]"
   ]
  },
  {
   "cell_type": "code",
   "execution_count": null,
   "metadata": {
    "execution": {
     "iopub.execute_input": "2021-08-03T11:59:16.284488Z",
     "iopub.status.busy": "2021-08-03T11:59:16.284158Z",
     "iopub.status.idle": "2021-08-03T11:59:16.292938Z",
     "shell.execute_reply": "2021-08-03T11:59:16.292167Z",
     "shell.execute_reply.started": "2021-08-03T11:59:16.284457Z"
    }
   },
   "outputs": [],
   "source": [
    "unique"
   ]
  },
  {
   "cell_type": "markdown",
   "metadata": {},
   "source": [
    "## 4. `explode` - 🤯🤯"
   ]
  },
  {
   "cell_type": "markdown",
   "metadata": {},
   "source": [
    "![](https://images.unsplash.com/photo-1567446042109-8a62d37fea07?ixid=MnwxMjA3fDB8MHxwaG90by1wYWdlfHx8fGVufDB8fHx8&ixlib=rb-1.2.1&auto=format&fit=crop&w=750&q=80)\n",
    "<figcaption style=\"text-align: center;\">\n",
    "    <strong>\n",
    "        Photo by \n",
    "        <a href='https://unsplash.com/@joshuas?utm_source=unsplash&utm_medium=referral&utm_content=creditCopyText'>Joshua Sukoff</a>\n",
    "        on \n",
    "        <a href='https://unsplash.com/s/photos/explode?utm_source=unsplash&utm_medium=referral&utm_content=creditCopyText'>Unsplash</a>\n",
    "    </strong>\n",
    "</figcaption>"
   ]
  },
  {
   "cell_type": "markdown",
   "metadata": {},
   "source": [
    "A function with an interesting name is `explode`. Let's see an example first and then, explain:"
   ]
  },
  {
   "cell_type": "code",
   "execution_count": null,
   "metadata": {
    "execution": {
     "iopub.execute_input": "2021-08-03T11:59:16.294796Z",
     "iopub.status.busy": "2021-08-03T11:59:16.294211Z",
     "iopub.status.idle": "2021-08-03T11:59:16.313106Z",
     "shell.execute_reply": "2021-08-03T11:59:16.312202Z",
     "shell.execute_reply.started": "2021-08-03T11:59:16.294752Z"
    }
   },
   "outputs": [],
   "source": [
    "data = pd.Series([1, 6, 7, [46, 56, 49], 45, [15, 10, 12]]).to_frame(\"dirty\")\n",
    "data"
   ]
  },
  {
   "cell_type": "markdown",
   "metadata": {},
   "source": [
    "The `dirty` column has two rows where values are recorded as actual lists. You may often see this type of data in surveys as some questions accept multiple answers."
   ]
  },
  {
   "cell_type": "code",
   "execution_count": null,
   "metadata": {
    "execution": {
     "iopub.execute_input": "2021-08-03T11:59:16.314899Z",
     "iopub.status.busy": "2021-08-03T11:59:16.314315Z",
     "iopub.status.idle": "2021-08-03T11:59:16.33494Z",
     "shell.execute_reply": "2021-08-03T11:59:16.334111Z",
     "shell.execute_reply.started": "2021-08-03T11:59:16.314858Z"
    }
   },
   "outputs": [],
   "source": [
    "data.explode(\"dirty\", ignore_index=True)"
   ]
  },
  {
   "cell_type": "markdown",
   "metadata": {},
   "source": [
    "`explode` takes a cell with an array-like value and explodes it into multiple rows. Set `ignore_index` to True to keep the ordering of a numeric index."
   ]
  },
  {
   "cell_type": "markdown",
   "metadata": {},
   "source": [
    "## 5. `squeeze`"
   ]
  },
  {
   "cell_type": "markdown",
   "metadata": {},
   "source": [
    "![](https://images.pexels.com/photos/5875701/pexels-photo-5875701.jpeg?auto=compress&cs=tinysrgb&dpr=2&h=650&w=940)\n",
    "<figcaption style=\"text-align: center;\">\n",
    "    <strong>\n",
    "        Photo by \n",
    "        <a href='https://www.pexels.com/@cottonbro?utm_content=attributionCopyText&utm_medium=referral&utm_source=pexels'>cottonbro</a>\n",
    "        on \n",
    "        <a href='https://www.pexels.com/photo/close-up-photo-of-sausage-5875701/?utm_content=attributionCopyText&utm_medium=referral&utm_source=pexels'>Pexels.</a>\n",
    "    </strong>\n",
    "</figcaption>"
   ]
  },
  {
   "cell_type": "markdown",
   "metadata": {},
   "source": [
    "Another function with a funky name is `squeeze` and is used in very rare but annoying edge cases.\n",
    "\n",
    "One of these cases is when a single value is returned from a condition used to subset a DataFrame. Consider this example:"
   ]
  },
  {
   "cell_type": "code",
   "execution_count": null,
   "metadata": {
    "execution": {
     "iopub.execute_input": "2021-08-03T11:59:16.336903Z",
     "iopub.status.busy": "2021-08-03T11:59:16.336512Z",
     "iopub.status.idle": "2021-08-03T11:59:16.355926Z",
     "shell.execute_reply": "2021-08-03T11:59:16.354683Z",
     "shell.execute_reply.started": "2021-08-03T11:59:16.336875Z"
    }
   },
   "outputs": [],
   "source": [
    "subset = diamonds.loc[diamonds.index < 1, [\"price\"]]\n",
    "subset"
   ]
  },
  {
   "cell_type": "markdown",
   "metadata": {},
   "source": [
    "Even though there is just one cell, it is returned as a DataFrame. This can be annoying since you now have to use `.loc` again with both the column name and index to access the price.\n",
    "\n",
    "But, if you know `squeeze`, you don't have to. The function enables you to remove an axis from a single-cell DataFrame or Series. For example:"
   ]
  },
  {
   "cell_type": "code",
   "execution_count": null,
   "metadata": {
    "execution": {
     "iopub.execute_input": "2021-08-03T11:59:16.358681Z",
     "iopub.status.busy": "2021-08-03T11:59:16.358204Z",
     "iopub.status.idle": "2021-08-03T11:59:16.365754Z",
     "shell.execute_reply": "2021-08-03T11:59:16.364719Z",
     "shell.execute_reply.started": "2021-08-03T11:59:16.358626Z"
    }
   },
   "outputs": [],
   "source": [
    "subset.squeeze()"
   ]
  },
  {
   "cell_type": "markdown",
   "metadata": {},
   "source": [
    "Now, only the scalar is returned. It is also possible to specify the axis to remove:"
   ]
  },
  {
   "cell_type": "code",
   "execution_count": null,
   "metadata": {
    "execution": {
     "iopub.execute_input": "2021-08-03T11:59:16.367355Z",
     "iopub.status.busy": "2021-08-03T11:59:16.36705Z",
     "iopub.status.idle": "2021-08-03T11:59:16.379728Z",
     "shell.execute_reply": "2021-08-03T11:59:16.378627Z",
     "shell.execute_reply.started": "2021-08-03T11:59:16.367317Z"
    }
   },
   "outputs": [],
   "source": [
    "subset.squeeze(\"columns\")  # or \"rows\""
   ]
  },
  {
   "cell_type": "markdown",
   "metadata": {},
   "source": [
    "Note that `squeeze` only works for DataFrames or Series with single values."
   ]
  },
  {
   "cell_type": "markdown",
   "metadata": {},
   "source": [
    "## 6. between"
   ]
  },
  {
   "cell_type": "markdown",
   "metadata": {},
   "source": [
    "![](https://images.unsplash.com/photo-1596806082495-fb05004cfe49?ixid=MnwxMjA3fDB8MHxwaG90by1wYWdlfHx8fGVufDB8fHx8&ixlib=rb-1.2.1&auto=format&fit=crop&w=769&q=80)\n",
    "<figcaption style=\"text-align: center;\">\n",
    "    <strong>\n",
    "        Photo by \n",
    "        <a href='https://unsplash.com/@jujudreaminx?utm_source=unsplash&utm_medium=referral&utm_content=creditCopyText'>Justin Dream</a>\n",
    "        on \n",
    "        <a href='https://unsplash.com/s/photos/between?utm_source=unsplash&utm_medium=referral&utm_content=creditCopyText'>Pexels</a>\n",
    "    </strong>\n",
    "</figcaption>"
   ]
  },
  {
   "cell_type": "markdown",
   "metadata": {},
   "source": [
    "A rather nifty function for boolean indexing numeric features within a range:"
   ]
  },
  {
   "cell_type": "code",
   "execution_count": null,
   "metadata": {
    "execution": {
     "iopub.execute_input": "2021-08-03T11:59:16.382192Z",
     "iopub.status.busy": "2021-08-03T11:59:16.381663Z",
     "iopub.status.idle": "2021-08-03T11:59:16.412036Z",
     "shell.execute_reply": "2021-08-03T11:59:16.41092Z",
     "shell.execute_reply.started": "2021-08-03T11:59:16.382146Z"
    }
   },
   "outputs": [],
   "source": [
    "# Get diamonds that are priced between 3500 and 3700 dollars\n",
    "diamonds[diamonds[\"price\"].between(3500, 3700, inclusive=\"neither\")].sample(5)"
   ]
  },
  {
   "cell_type": "markdown",
   "metadata": {},
   "source": [
    "## 7. `T`"
   ]
  },
  {
   "cell_type": "markdown",
   "metadata": {},
   "source": [
    "![](https://images.pexels.com/photos/258083/pexels-photo-258083.jpeg?auto=compress&cs=tinysrgb&dpr=2&h=650&w=940)\n",
    "<figcaption style=\"text-align: center;\">\n",
    "    <strong>\n",
    "        Photo by \n",
    "        <a href='https://www.pexels.com/@pixabay?utm_content=attributionCopyText&utm_medium=referral&utm_source=pexels'>Pixabay</a>\n",
    "        on \n",
    "        <a href='https://www.pexels.com/photo/close-up-of-illuminated-text-against-black-background-258083/?utm_content=attributionCopyText&utm_medium=referral&utm_source=pexels'>Pexels</a>\n",
    "    </strong>\n",
    "</figcaption>"
   ]
  },
  {
   "cell_type": "markdown",
   "metadata": {},
   "source": [
    "All DataFrames have a simple `T` attribute, which stands for transpose. You may not use it often, but I find it quite useful when displaying DataFrames of the `describe` method:"
   ]
  },
  {
   "cell_type": "code",
   "execution_count": null,
   "metadata": {
    "_kg_hide-input": true,
    "execution": {
     "iopub.execute_input": "2021-08-03T11:59:16.41501Z",
     "iopub.status.busy": "2021-08-03T11:59:16.414555Z",
     "iopub.status.idle": "2021-08-03T11:59:16.43176Z",
     "shell.execute_reply": "2021-08-03T11:59:16.430825Z",
     "shell.execute_reply.started": "2021-08-03T11:59:16.414965Z"
    }
   },
   "outputs": [],
   "source": [
    "## HIDE\n",
    "from sklearn.datasets import load_boston\n",
    "\n",
    "bunch = load_boston()\n",
    "boston = pd.DataFrame(bunch[\"data\"], columns=bunch[\"feature_names\"])"
   ]
  },
  {
   "cell_type": "code",
   "execution_count": null,
   "metadata": {
    "execution": {
     "iopub.execute_input": "2021-08-03T11:59:16.433931Z",
     "iopub.status.busy": "2021-08-03T11:59:16.433323Z",
     "iopub.status.idle": "2021-08-03T11:59:16.484095Z",
     "shell.execute_reply": "2021-08-03T11:59:16.483145Z",
     "shell.execute_reply.started": "2021-08-03T11:59:16.433886Z"
    }
   },
   "outputs": [],
   "source": [
    "boston.describe().T.head(10)"
   ]
  },
  {
   "cell_type": "markdown",
   "metadata": {},
   "source": [
    "The Boston housing dataset has 30 numeric columns. If you call `describe` as-is, the DataFrame will stretch horizontally, making it hard to compare the statistics. Taking the transpose will switch the axes so that summary statistics are given in columns."
   ]
  },
  {
   "cell_type": "markdown",
   "metadata": {},
   "source": [
    "## 8. Pandas Styler"
   ]
  },
  {
   "cell_type": "markdown",
   "metadata": {},
   "source": [
    "Did you know that Pandas allows you to style DataFrames?\n",
    "\n",
    "They have a `style` attribute which opens doors to customizations and styles only limited by your HTML and CSS knowledge. I won't discuss the full details of what you can do with `style` but only show you my favorite functions:"
   ]
  },
  {
   "cell_type": "code",
   "execution_count": null,
   "metadata": {
    "_kg_hide-input": true,
    "execution": {
     "iopub.execute_input": "2021-08-03T11:59:16.485778Z",
     "iopub.status.busy": "2021-08-03T11:59:16.485415Z",
     "iopub.status.idle": "2021-08-03T11:59:16.615198Z",
     "shell.execute_reply": "2021-08-03T11:59:16.614186Z",
     "shell.execute_reply.started": "2021-08-03T11:59:16.485745Z"
    }
   },
   "outputs": [],
   "source": [
    "## HIDE\n",
    "diabetes = pd.read_csv(\"https://raw.githubusercontent.com/BexTuychiev/medium_stories/master/2021/august/1_pandas_funcs/data/diabetes.csv\")"
   ]
  },
  {
   "cell_type": "code",
   "execution_count": null,
   "metadata": {
    "execution": {
     "iopub.execute_input": "2021-08-03T11:59:16.616742Z",
     "iopub.status.busy": "2021-08-03T11:59:16.616413Z",
     "iopub.status.idle": "2021-08-03T11:59:16.664083Z",
     "shell.execute_reply": "2021-08-03T11:59:16.663226Z",
     "shell.execute_reply.started": "2021-08-03T11:59:16.616712Z"
    }
   },
   "outputs": [],
   "source": [
    "diabetes.describe().T.drop(\"count\", axis=1).style.highlight_max(color=\"darkred\")"
   ]
  },
  {
   "cell_type": "markdown",
   "metadata": {},
   "source": [
    "Above, we are highlighting cells that hold the maximum value of a column. Another cool styler is `background_gradient` which can give columns a gradient background color based on their values:"
   ]
  },
  {
   "cell_type": "code",
   "execution_count": null,
   "metadata": {
    "execution": {
     "iopub.execute_input": "2021-08-03T11:59:16.665663Z",
     "iopub.status.busy": "2021-08-03T11:59:16.665196Z",
     "iopub.status.idle": "2021-08-03T11:59:16.705767Z",
     "shell.execute_reply": "2021-08-03T11:59:16.704987Z",
     "shell.execute_reply.started": "2021-08-03T11:59:16.665598Z"
    }
   },
   "outputs": [],
   "source": [
    "diabetes.describe().T.drop(\"count\", axis=1).style.background_gradient(\n",
    "    subset=[\"mean\", \"50%\"], cmap=\"Reds\"\n",
    ")"
   ]
  },
  {
   "cell_type": "markdown",
   "metadata": {},
   "source": [
    "This feature comes especially handy when you are using `describe` on a table with many columns and want to compare summary statistics. Check out the documentation of the styler [here](https://pandas.pydata.org/docs/reference/style.html)."
   ]
  },
  {
   "cell_type": "markdown",
   "metadata": {},
   "source": [
    "## 9. Pandas options"
   ]
  },
  {
   "cell_type": "markdown",
   "metadata": {},
   "source": [
    "Like Matplotlib, pandas has global settings that you can tweak to change the default behaviors:"
   ]
  },
  {
   "cell_type": "code",
   "execution_count": null,
   "metadata": {
    "execution": {
     "iopub.execute_input": "2021-08-03T11:59:16.708192Z",
     "iopub.status.busy": "2021-08-03T11:59:16.707771Z",
     "iopub.status.idle": "2021-08-03T11:59:16.713746Z",
     "shell.execute_reply": "2021-08-03T11:59:16.71269Z",
     "shell.execute_reply.started": "2021-08-03T11:59:16.708148Z"
    }
   },
   "outputs": [],
   "source": [
    "dir(pd.options)"
   ]
  },
  {
   "cell_type": "markdown",
   "metadata": {},
   "source": [
    "These settings are divided into 5 modules. Let's see what settings are there under `display`:"
   ]
  },
  {
   "cell_type": "code",
   "execution_count": null,
   "metadata": {
    "execution": {
     "iopub.execute_input": "2021-08-03T11:59:16.716121Z",
     "iopub.status.busy": "2021-08-03T11:59:16.715776Z",
     "iopub.status.idle": "2021-08-03T11:59:16.730707Z",
     "shell.execute_reply": "2021-08-03T11:59:16.729625Z",
     "shell.execute_reply.started": "2021-08-03T11:59:16.716093Z"
    }
   },
   "outputs": [],
   "source": [
    "dir(pd.options.display)"
   ]
  },
  {
   "cell_type": "markdown",
   "metadata": {},
   "source": [
    "There are options under `display` but I mostly use `max_columns` and `precision`:"
   ]
  },
  {
   "cell_type": "code",
   "execution_count": null,
   "metadata": {
    "execution": {
     "iopub.execute_input": "2021-08-03T11:59:16.732464Z",
     "iopub.status.busy": "2021-08-03T11:59:16.732148Z",
     "iopub.status.idle": "2021-08-03T11:59:16.744672Z",
     "shell.execute_reply": "2021-08-03T11:59:16.743533Z",
     "shell.execute_reply.started": "2021-08-03T11:59:16.732405Z"
    }
   },
   "outputs": [],
   "source": [
    "# Remove the limit to display the number of cols\n",
    "pd.options.display.max_columns = None\n",
    "\n",
    "# Only show 5 numbers after the decimal\n",
    "pd.options.display.precision = 5  # gets rid of scientific notation"
   ]
  },
  {
   "cell_type": "markdown",
   "metadata": {},
   "source": [
    "You can check out the [documentation](https://pandas.pydata.org/pandas-docs/stable/user_guide/options.html) to dig deeper into this wonderful feature."
   ]
  },
  {
   "cell_type": "markdown",
   "metadata": {},
   "source": [
    "## 10. `convert_dtypes`"
   ]
  },
  {
   "cell_type": "markdown",
   "metadata": {},
   "source": [
    "We all know that pandas has an annoying tendency to mark some columns as `object` data type. Instead of manually specifying their types, you can use `convert_dtypes` method which tries to infer the best data type:"
   ]
  },
  {
   "cell_type": "code",
   "execution_count": null,
   "metadata": {
    "execution": {
     "iopub.execute_input": "2021-08-03T11:59:16.746367Z",
     "iopub.status.busy": "2021-08-03T11:59:16.746042Z",
     "iopub.status.idle": "2021-08-03T11:59:17.075975Z",
     "shell.execute_reply": "2021-08-03T11:59:17.075304Z",
     "shell.execute_reply.started": "2021-08-03T11:59:16.746328Z"
    }
   },
   "outputs": [],
   "source": [
    "sample = pd.read_csv(\n",
    "    \"https://raw.githubusercontent.com/BexTuychiev/medium_stories/master/2021/august/1_pandas_funcs/data/station_day.csv\",\n",
    "    usecols=[\"StationId\", \"CO\", \"O3\", \"AQI_Bucket\"],\n",
    ")\n",
    "sample.dtypes"
   ]
  },
  {
   "cell_type": "code",
   "execution_count": null,
   "metadata": {
    "execution": {
     "iopub.execute_input": "2021-08-03T11:59:17.077507Z",
     "iopub.status.busy": "2021-08-03T11:59:17.077067Z",
     "iopub.status.idle": "2021-08-03T11:59:17.122189Z",
     "shell.execute_reply": "2021-08-03T11:59:17.121291Z",
     "shell.execute_reply.started": "2021-08-03T11:59:17.077471Z"
    }
   },
   "outputs": [],
   "source": [
    "sample.convert_dtypes().dtypes"
   ]
  },
  {
   "cell_type": "markdown",
   "metadata": {},
   "source": [
    "Unfortunately, it can't pares dates due to the caveats of different date time formats."
   ]
  },
  {
   "cell_type": "markdown",
   "metadata": {},
   "source": [
    "## 11. `select_dtypes`"
   ]
  },
  {
   "cell_type": "markdown",
   "metadata": {},
   "source": [
    "A function I use all the time is `select_dtypes`. I think it is obvious what the function does from its name. It has `include` and `exclude` parameters that you can use to select columns including or excluding certain data types.\n",
    "\n",
    "For example, choose only numeric columns with `np.number`:"
   ]
  },
  {
   "cell_type": "code",
   "execution_count": null,
   "metadata": {
    "execution": {
     "iopub.execute_input": "2021-08-03T11:59:17.123731Z",
     "iopub.status.busy": "2021-08-03T11:59:17.123448Z",
     "iopub.status.idle": "2021-08-03T11:59:17.147313Z",
     "shell.execute_reply": "2021-08-03T11:59:17.146405Z",
     "shell.execute_reply.started": "2021-08-03T11:59:17.123704Z"
    }
   },
   "outputs": [],
   "source": [
    "# Choose only numerical columns\n",
    "diamonds.select_dtypes(include=np.number).head()"
   ]
  },
  {
   "cell_type": "markdown",
   "metadata": {},
   "source": [
    "Or `exclude` them:"
   ]
  },
  {
   "cell_type": "code",
   "execution_count": null,
   "metadata": {
    "execution": {
     "iopub.execute_input": "2021-08-03T11:59:17.148845Z",
     "iopub.status.busy": "2021-08-03T11:59:17.148572Z",
     "iopub.status.idle": "2021-08-03T11:59:17.164779Z",
     "shell.execute_reply": "2021-08-03T11:59:17.163614Z",
     "shell.execute_reply.started": "2021-08-03T11:59:17.148818Z"
    }
   },
   "outputs": [],
   "source": [
    "# Exclude numerical columns\n",
    "diamonds.select_dtypes(exclude=np.number).head()"
   ]
  },
  {
   "cell_type": "markdown",
   "metadata": {},
   "source": [
    "## 12. `mask`"
   ]
  },
  {
   "cell_type": "markdown",
   "metadata": {},
   "source": [
    "![](https://images.pexels.com/photos/38275/anonymous-studio-figure-photography-facial-mask-38275.jpeg?auto=compress&cs=tinysrgb&dpr=2&h=650&w=940)\n",
    "<figcaption style=\"text-align: center;\">\n",
    "    <strong>\n",
    "        Photo by \n",
    "        <a href='https://www.pexels.com/@pixabay?utm_content=attributionCopyText&utm_medium=referral&utm_source=pexels'>Pixabay</a>\n",
    "        on \n",
    "        <a href='https://www.pexels.com/photo/photo-of-guy-fawkes-mask-with-red-flower-on-top-on-hand-38275/?utm_content=attributionCopyText&utm_medium=referral&utm_source=pexels'>Pexels.</a>\n",
    "    </strong>\n",
    "</figcaption>"
   ]
  },
  {
   "cell_type": "markdown",
   "metadata": {},
   "source": [
    "`mask` allows you to quickly replace cell values where a custom condition is true. \n",
    "\n",
    "For example, let's say we have a survey data collected from people aged 50-60."
   ]
  },
  {
   "cell_type": "code",
   "execution_count": null,
   "metadata": {
    "execution": {
     "iopub.execute_input": "2021-08-03T11:59:17.166533Z",
     "iopub.status.busy": "2021-08-03T11:59:17.166169Z",
     "iopub.status.idle": "2021-08-03T11:59:17.178284Z",
     "shell.execute_reply": "2021-08-03T11:59:17.177285Z",
     "shell.execute_reply.started": "2021-08-03T11:59:17.166503Z"
    }
   },
   "outputs": [],
   "source": [
    "# Create sample data\n",
    "ages = pd.Series([55, 52, 50, 66, 57, 59, 49, 60]).to_frame(\"ages\")\n",
    "\n",
    "ages"
   ]
  },
  {
   "cell_type": "markdown",
   "metadata": {},
   "source": [
    "We will treat ages that are outside 50-60 range (there are two, 49 and 66) as data entry mistakes and replace them with NaNs."
   ]
  },
  {
   "cell_type": "code",
   "execution_count": null,
   "metadata": {
    "execution": {
     "iopub.execute_input": "2021-08-03T11:59:17.179997Z",
     "iopub.status.busy": "2021-08-03T11:59:17.179668Z",
     "iopub.status.idle": "2021-08-03T11:59:17.201771Z",
     "shell.execute_reply": "2021-08-03T11:59:17.200776Z",
     "shell.execute_reply.started": "2021-08-03T11:59:17.179968Z"
    }
   },
   "outputs": [],
   "source": [
    "ages.mask(cond=~ages[\"ages\"].between(50, 60), other=np.nan)"
   ]
  },
  {
   "cell_type": "markdown",
   "metadata": {},
   "source": [
    "So, `mask` replaces values that don't meet `cond` with `other`."
   ]
  },
  {
   "cell_type": "markdown",
   "metadata": {},
   "source": [
    "## 13. `min` and `max` along the columns axis"
   ]
  },
  {
   "cell_type": "markdown",
   "metadata": {},
   "source": [
    "Even though `min` and `max` functions are well-known, they have another useful property for some edge-cases. Consider this dataset:"
   ]
  },
  {
   "cell_type": "code",
   "execution_count": null,
   "metadata": {
    "execution": {
     "iopub.execute_input": "2021-08-03T11:59:17.204015Z",
     "iopub.status.busy": "2021-08-03T11:59:17.203491Z",
     "iopub.status.idle": "2021-08-03T11:59:17.223235Z",
     "shell.execute_reply": "2021-08-03T11:59:17.222315Z",
     "shell.execute_reply.started": "2021-08-03T11:59:17.203971Z"
    },
    "tags": []
   },
   "outputs": [],
   "source": [
    "index = [\"Diamonds\", \"Titanic\", \"Iris\", \"Heart Disease\", \"Loan Default\"]\n",
    "libraries = [\"XGBoost\", \"CatBoost\", \"LightGBM\", \"Sklearn GB\"]\n",
    "df = pd.DataFrame(\n",
    "    {lib: np.random.uniform(90, 100, 5) for lib in libraries}, index=index\n",
    ")\n",
    "\n",
    "df"
   ]
  },
  {
   "cell_type": "markdown",
   "metadata": {},
   "source": [
    "The above fake DataFrame is a point-performance of 4 different gradient boosting libraries on 5 datasets. We want to find the library that performed best at each dataset. Here is how you do it elegantly with `max`:"
   ]
  },
  {
   "cell_type": "code",
   "execution_count": null,
   "metadata": {
    "execution": {
     "iopub.execute_input": "2021-08-03T11:59:17.225667Z",
     "iopub.status.busy": "2021-08-03T11:59:17.224984Z",
     "iopub.status.idle": "2021-08-03T11:59:17.239609Z",
     "shell.execute_reply": "2021-08-03T11:59:17.238568Z",
     "shell.execute_reply.started": "2021-08-03T11:59:17.225602Z"
    }
   },
   "outputs": [],
   "source": [
    "df.max(axis=1)"
   ]
  },
  {
   "cell_type": "markdown",
   "metadata": {},
   "source": [
    "Just change the axis to 1 and you get a row-wise max/min. "
   ]
  },
  {
   "cell_type": "markdown",
   "metadata": {},
   "source": [
    "## 14. `nlargest` and `nsmallest`"
   ]
  },
  {
   "cell_type": "markdown",
   "metadata": {},
   "source": [
    "Sometimes you don't just want the min/max of a column. You want to see the top N or ~(top N) values of a variable. This is where `nlargest` and `nsmallest` comes in handy.\n",
    "\n",
    "Let's see the top 5 most expensive and cheapest diamonds:"
   ]
  },
  {
   "cell_type": "code",
   "execution_count": null,
   "metadata": {
    "execution": {
     "iopub.execute_input": "2021-08-03T11:59:17.241974Z",
     "iopub.status.busy": "2021-08-03T11:59:17.241114Z",
     "iopub.status.idle": "2021-08-03T11:59:17.270834Z",
     "shell.execute_reply": "2021-08-03T11:59:17.269851Z",
     "shell.execute_reply.started": "2021-08-03T11:59:17.241931Z"
    }
   },
   "outputs": [],
   "source": [
    "diamonds.nlargest(5, \"price\")"
   ]
  },
  {
   "cell_type": "code",
   "execution_count": null,
   "metadata": {
    "execution": {
     "iopub.execute_input": "2021-08-03T11:59:17.272826Z",
     "iopub.status.busy": "2021-08-03T11:59:17.272237Z",
     "iopub.status.idle": "2021-08-03T11:59:17.298461Z",
     "shell.execute_reply": "2021-08-03T11:59:17.297328Z",
     "shell.execute_reply.started": "2021-08-03T11:59:17.272779Z"
    }
   },
   "outputs": [],
   "source": [
    "diamonds.nsmallest(5, \"price\")"
   ]
  },
  {
   "cell_type": "markdown",
   "metadata": {},
   "source": [
    "## 15. `idxmax` and `idxmin`"
   ]
  },
  {
   "cell_type": "markdown",
   "metadata": {},
   "source": [
    "When you call `max` or `min` on a column, pandas returns the value that is largest/smallest. However, sometimes you want the *position* of the min/max, which is not possible with these functions.\n",
    "\n",
    "Instead, you should use `idxmax`/`idxmin`:"
   ]
  },
  {
   "cell_type": "code",
   "execution_count": null,
   "metadata": {
    "execution": {
     "iopub.execute_input": "2021-08-03T11:59:17.300234Z",
     "iopub.status.busy": "2021-08-03T11:59:17.299862Z",
     "iopub.status.idle": "2021-08-03T11:59:17.307143Z",
     "shell.execute_reply": "2021-08-03T11:59:17.306073Z",
     "shell.execute_reply.started": "2021-08-03T11:59:17.300202Z"
    }
   },
   "outputs": [],
   "source": [
    "diamonds.price.idxmax()"
   ]
  },
  {
   "cell_type": "code",
   "execution_count": null,
   "metadata": {
    "execution": {
     "iopub.execute_input": "2021-08-03T11:59:17.312325Z",
     "iopub.status.busy": "2021-08-03T11:59:17.311978Z",
     "iopub.status.idle": "2021-08-03T11:59:17.323406Z",
     "shell.execute_reply": "2021-08-03T11:59:17.322502Z",
     "shell.execute_reply.started": "2021-08-03T11:59:17.312297Z"
    }
   },
   "outputs": [],
   "source": [
    "diamonds.carat.idxmin()"
   ]
  },
  {
   "cell_type": "markdown",
   "metadata": {},
   "source": [
    "You can also specify the `columns` axis, in which case the functions return the index number of the column."
   ]
  },
  {
   "cell_type": "markdown",
   "metadata": {},
   "source": [
    "## 16. `value_counts` with `dropna=False`"
   ]
  },
  {
   "cell_type": "markdown",
   "metadata": {},
   "source": [
    "A common operation to find the percentage of missing values in a column is to chain `isnull` and `sum` and divide by the length of the array. \n",
    "\n",
    "But, you can do the same thing with `value_counts` with relevant arguments:"
   ]
  },
  {
   "cell_type": "code",
   "execution_count": null,
   "metadata": {
    "execution": {
     "iopub.execute_input": "2021-08-03T11:59:17.325765Z",
     "iopub.status.busy": "2021-08-03T11:59:17.325348Z",
     "iopub.status.idle": "2021-08-03T11:59:17.380141Z",
     "shell.execute_reply": "2021-08-03T11:59:17.379372Z",
     "shell.execute_reply.started": "2021-08-03T11:59:17.325735Z"
    }
   },
   "outputs": [],
   "source": [
    "ames_housing = pd.read_csv(\"../input/house-prices-advanced-regression-techniques/train.csv\")\n",
    "\n",
    "ames_housing[\"FireplaceQu\"].value_counts(dropna=False, normalize=True)"
   ]
  },
  {
   "cell_type": "markdown",
   "metadata": {},
   "source": [
    "Fireplace quality of Ames housing dataset consists of 47% nulls."
   ]
  },
  {
   "cell_type": "markdown",
   "metadata": {},
   "source": [
    "## 17. `clip`"
   ]
  },
  {
   "cell_type": "markdown",
   "metadata": {},
   "source": [
    "![](https://images.pexels.com/photos/2448452/pexels-photo-2448452.jpeg?auto=compress&cs=tinysrgb&dpr=2&h=650&w=940)\n",
    "<figcaption style=\"text-align: center;\">\n",
    "    <strong>\n",
    "        Photo by \n",
    "        <a href='https://www.pexels.com/@ann-h-45017?utm_content=attributionCopyText&utm_medium=referral&utm_source=pexels'>Ann H</a>\n",
    "        on \n",
    "        <a href='https://www.pexels.com/photo/a-lot-of-paper-clips-2448452/?utm_content=attributionCopyText&utm_medium=referral&utm_source=pexels'>Pexels</a></strong>\n",
    "</figcaption>"
   ]
  },
  {
   "cell_type": "markdown",
   "metadata": {},
   "source": [
    "Outlier detection and removal is common in data analysis. \n",
    "\n",
    "`clip` function makes it really easy to find outliers outside a range and replacing them with the hard limits. \n",
    "\n",
    "Let's go back to the ages example:"
   ]
  },
  {
   "cell_type": "code",
   "execution_count": null,
   "metadata": {
    "execution": {
     "iopub.execute_input": "2021-08-03T11:59:17.381559Z",
     "iopub.status.busy": "2021-08-03T11:59:17.381142Z",
     "iopub.status.idle": "2021-08-03T11:59:17.389633Z",
     "shell.execute_reply": "2021-08-03T11:59:17.388864Z",
     "shell.execute_reply.started": "2021-08-03T11:59:17.381529Z"
    }
   },
   "outputs": [],
   "source": [
    "ages"
   ]
  },
  {
   "cell_type": "markdown",
   "metadata": {},
   "source": [
    "This time, we will replace the out-of-range ages with the hard limits of 50 and 60:"
   ]
  },
  {
   "cell_type": "code",
   "execution_count": null,
   "metadata": {
    "execution": {
     "iopub.execute_input": "2021-08-03T11:59:17.391188Z",
     "iopub.status.busy": "2021-08-03T11:59:17.390753Z",
     "iopub.status.idle": "2021-08-03T11:59:17.412086Z",
     "shell.execute_reply": "2021-08-03T11:59:17.410962Z",
     "shell.execute_reply.started": "2021-08-03T11:59:17.391158Z"
    }
   },
   "outputs": [],
   "source": [
    "ages.clip(50, 60)"
   ]
  },
  {
   "cell_type": "markdown",
   "metadata": {},
   "source": [
    "Fast and efficient!"
   ]
  },
  {
   "cell_type": "markdown",
   "metadata": {},
   "source": [
    "## 18. `at_time` and `between_time`"
   ]
  },
  {
   "cell_type": "markdown",
   "metadata": {},
   "source": [
    "These two can be useful when working with time-series that have high granularity. \n",
    "\n",
    "`at_time` allows you to subset values at a specific date or time. Consider this time series:"
   ]
  },
  {
   "cell_type": "code",
   "execution_count": null,
   "metadata": {
    "execution": {
     "iopub.execute_input": "2021-08-03T11:59:17.414159Z",
     "iopub.status.busy": "2021-08-03T11:59:17.413521Z",
     "iopub.status.idle": "2021-08-03T11:59:17.434168Z",
     "shell.execute_reply": "2021-08-03T11:59:17.43288Z",
     "shell.execute_reply.started": "2021-08-03T11:59:17.414113Z"
    }
   },
   "outputs": [],
   "source": [
    "index = pd.date_range(\"2021-08-01\", periods=100, freq=\"H\")\n",
    "data = pd.DataFrame({\"col\": list(range(100))}, index=index)\n",
    "\n",
    "data.head()"
   ]
  },
  {
   "cell_type": "markdown",
   "metadata": {},
   "source": [
    "Let's select all rows at 3 PM:"
   ]
  },
  {
   "cell_type": "code",
   "execution_count": null,
   "metadata": {
    "execution": {
     "iopub.execute_input": "2021-08-03T11:59:17.436046Z",
     "iopub.status.busy": "2021-08-03T11:59:17.43574Z",
     "iopub.status.idle": "2021-08-03T11:59:17.454199Z",
     "shell.execute_reply": "2021-08-03T11:59:17.453036Z",
     "shell.execute_reply.started": "2021-08-03T11:59:17.436019Z"
    }
   },
   "outputs": [],
   "source": [
    "data.at_time(\"15:00\")"
   ]
  },
  {
   "cell_type": "markdown",
   "metadata": {},
   "source": [
    "Cool, huh? Now, let's use `between_time` to select rows within a custom interval:"
   ]
  },
  {
   "cell_type": "code",
   "execution_count": null,
   "metadata": {
    "execution": {
     "iopub.execute_input": "2021-08-03T11:59:17.456185Z",
     "iopub.status.busy": "2021-08-03T11:59:17.455788Z",
     "iopub.status.idle": "2021-08-03T11:59:17.467511Z",
     "shell.execute_reply": "2021-08-03T11:59:17.466672Z",
     "shell.execute_reply.started": "2021-08-03T11:59:17.456142Z"
    }
   },
   "outputs": [],
   "source": [
    "from datetime import datetime\n",
    "\n",
    "data.between_time(\"09:45\", \"12:00\")"
   ]
  },
  {
   "cell_type": "markdown",
   "metadata": {},
   "source": [
    "Note that both functions require a DateTimeIndex and they only work with times (as in *o'clock*). If you want to subset within a DateTime interval, use `between`."
   ]
  },
  {
   "cell_type": "markdown",
   "metadata": {},
   "source": [
    "## 19. `bdate_range`"
   ]
  },
  {
   "cell_type": "markdown",
   "metadata": {},
   "source": [
    "`bdate_range` is a short-hand function to create TimeSeries indices with business-day frequency:"
   ]
  },
  {
   "cell_type": "code",
   "execution_count": null,
   "metadata": {
    "execution": {
     "iopub.execute_input": "2021-08-03T11:59:17.469495Z",
     "iopub.status.busy": "2021-08-03T11:59:17.468832Z",
     "iopub.status.idle": "2021-08-03T11:59:17.4847Z",
     "shell.execute_reply": "2021-08-03T11:59:17.483566Z",
     "shell.execute_reply.started": "2021-08-03T11:59:17.469454Z"
    }
   },
   "outputs": [],
   "source": [
    "series = pd.bdate_range(\"2021-01-01\", \"2021-01-31\")  # A period of one month\n",
    "len(series)"
   ]
  },
  {
   "cell_type": "markdown",
   "metadata": {},
   "source": [
    "Business-day frequencies are common in the financial world. So, this function may come in handy when reindexing existing time-series with `reindex` function."
   ]
  },
  {
   "cell_type": "markdown",
   "metadata": {},
   "source": [
    "## 20. `autocorr`"
   ]
  },
  {
   "cell_type": "markdown",
   "metadata": {},
   "source": [
    "One of the critical components in time-series analysis is examining the autocorrelation of a variable. \n",
    "\n",
    "Autocorrelation is the plain-old correlation coefficient but it is calculated with the lagging version of a time series. \n",
    "\n",
    "In more detail, autocorrelation of a time series at `lag=k` is calculated as follows:\n",
    "\n",
    "1. The time-series is shifted till `k` periods:"
   ]
  },
  {
   "cell_type": "code",
   "execution_count": null,
   "metadata": {
    "_kg_hide-input": true,
    "execution": {
     "iopub.execute_input": "2021-08-03T11:59:17.486681Z",
     "iopub.status.busy": "2021-08-03T11:59:17.486337Z",
     "iopub.status.idle": "2021-08-03T11:59:17.499567Z",
     "shell.execute_reply": "2021-08-03T11:59:17.49855Z",
     "shell.execute_reply.started": "2021-08-03T11:59:17.486649Z"
    }
   },
   "outputs": [],
   "source": [
    "## HIDE\n",
    "# Prep the data for an example\n",
    "dt = pd.date_range(\"2021-01-01\", periods=len(tips))\n",
    "tips.index = dt\n",
    "\n",
    "time_series = tips[[\"tip\"]]"
   ]
  },
  {
   "cell_type": "code",
   "execution_count": null,
   "metadata": {
    "execution": {
     "iopub.execute_input": "2021-08-03T11:59:17.501607Z",
     "iopub.status.busy": "2021-08-03T11:59:17.501103Z",
     "iopub.status.idle": "2021-08-03T11:59:17.532703Z",
     "shell.execute_reply": "2021-08-03T11:59:17.531767Z",
     "shell.execute_reply.started": "2021-08-03T11:59:17.501549Z"
    }
   },
   "outputs": [],
   "source": [
    "time_series[\"lag_1\"] = time_series[\"tip\"].shift(1)\n",
    "time_series[\"lag_2\"] = time_series[\"tip\"].shift(2)\n",
    "time_series[\"lag_3\"] = time_series[\"tip\"].shift(3)\n",
    "time_series[\"lag_4\"] = time_series[\"tip\"].shift(4)\n",
    "# time_series['lag_k'] = time_series['tip'].shift(k)\n",
    "\n",
    "time_series.head()"
   ]
  },
  {
   "cell_type": "markdown",
   "metadata": {},
   "source": [
    "2. Correlation is calculated between the original `tip` and each `lag_*`. \n",
    "\n",
    "Instead of doing all this manually, you can use the `autocorr` function of Pandas:"
   ]
  },
  {
   "cell_type": "code",
   "execution_count": null,
   "metadata": {
    "execution": {
     "iopub.execute_input": "2021-08-03T11:59:17.534274Z",
     "iopub.status.busy": "2021-08-03T11:59:17.53398Z",
     "iopub.status.idle": "2021-08-03T11:59:17.561055Z",
     "shell.execute_reply": "2021-08-03T11:59:17.560316Z",
     "shell.execute_reply.started": "2021-08-03T11:59:17.534247Z"
    }
   },
   "outputs": [],
   "source": [
    "# Autocorrelation of tip at lag_10\n",
    "time_series[\"tip\"].autocorr(lag=8)"
   ]
  },
  {
   "cell_type": "markdown",
   "metadata": {},
   "source": [
    "You can read more about the importance of autocorrelation in time-series analysis from this [post](https://towardsdatascience.com/advanced-time-series-analysis-in-python-decomposition-autocorrelation-115aa64f475e)."
   ]
  },
  {
   "cell_type": "markdown",
   "metadata": {},
   "source": [
    "## 21. `hasnans`"
   ]
  },
  {
   "cell_type": "markdown",
   "metadata": {},
   "source": [
    "Pandas offers a quick method to check if a given series contains any nulls with `hasnans` attribute:"
   ]
  },
  {
   "cell_type": "code",
   "execution_count": null,
   "metadata": {
    "execution": {
     "iopub.execute_input": "2021-08-03T11:59:17.562396Z",
     "iopub.status.busy": "2021-08-03T11:59:17.562031Z",
     "iopub.status.idle": "2021-08-03T11:59:17.568261Z",
     "shell.execute_reply": "2021-08-03T11:59:17.567562Z",
     "shell.execute_reply.started": "2021-08-03T11:59:17.562368Z"
    }
   },
   "outputs": [],
   "source": [
    "series = pd.Series([2, 4, 6, \"sadf\", np.nan])\n",
    "series.hasnans"
   ]
  },
  {
   "cell_type": "markdown",
   "metadata": {},
   "source": [
    "According to its [documentation](https://pandas.pydata.org/pandas-docs/stable/reference/api/pandas.Series.hasnans.html), it enables various performance increases. Note that the attribute works only on `pd.Series`."
   ]
  },
  {
   "cell_type": "markdown",
   "metadata": {},
   "source": [
    "## 22. `at` and `iat`"
   ]
  },
  {
   "cell_type": "markdown",
   "metadata": {},
   "source": [
    "These two accessors are much faster alternatives to `loc` and `iloc` with a disadvantage. They only allow selecting or replacing a single value at a time:"
   ]
  },
  {
   "cell_type": "code",
   "execution_count": null,
   "metadata": {
    "execution": {
     "iopub.execute_input": "2021-08-03T11:59:17.569587Z",
     "iopub.status.busy": "2021-08-03T11:59:17.569194Z",
     "iopub.status.idle": "2021-08-03T11:59:17.583958Z",
     "shell.execute_reply": "2021-08-03T11:59:17.583286Z",
     "shell.execute_reply.started": "2021-08-03T11:59:17.569558Z"
    }
   },
   "outputs": [],
   "source": [
    "# [index, label]\n",
    "diamonds.at[234, \"cut\"]"
   ]
  },
  {
   "cell_type": "code",
   "execution_count": null,
   "metadata": {
    "execution": {
     "iopub.execute_input": "2021-08-03T11:59:17.585407Z",
     "iopub.status.busy": "2021-08-03T11:59:17.58513Z",
     "iopub.status.idle": "2021-08-03T11:59:17.595782Z",
     "shell.execute_reply": "2021-08-03T11:59:17.594797Z",
     "shell.execute_reply.started": "2021-08-03T11:59:17.585381Z"
    }
   },
   "outputs": [],
   "source": [
    "# [index, index]\n",
    "diamonds.iat[1564, 4]"
   ]
  },
  {
   "cell_type": "code",
   "execution_count": null,
   "metadata": {
    "execution": {
     "iopub.execute_input": "2021-08-03T11:59:17.597342Z",
     "iopub.status.busy": "2021-08-03T11:59:17.597077Z",
     "iopub.status.idle": "2021-08-03T11:59:17.607368Z",
     "shell.execute_reply": "2021-08-03T11:59:17.606511Z",
     "shell.execute_reply.started": "2021-08-03T11:59:17.597317Z"
    }
   },
   "outputs": [],
   "source": [
    "# Replace 16541th row of the price column\n",
    "diamonds.at[16541, \"price\"] = 10000"
   ]
  },
  {
   "cell_type": "markdown",
   "metadata": {},
   "source": [
    "## 23. `argsort`"
   ]
  },
  {
   "cell_type": "markdown",
   "metadata": {},
   "source": [
    "You should use this function when you want to extract the indices that would sort an array:"
   ]
  },
  {
   "cell_type": "code",
   "execution_count": null,
   "metadata": {
    "execution": {
     "iopub.execute_input": "2021-08-03T11:59:17.609563Z",
     "iopub.status.busy": "2021-08-03T11:59:17.609122Z",
     "iopub.status.idle": "2021-08-03T11:59:17.635215Z",
     "shell.execute_reply": "2021-08-03T11:59:17.634275Z",
     "shell.execute_reply.started": "2021-08-03T11:59:17.609532Z"
    }
   },
   "outputs": [],
   "source": [
    "tips.reset_index(inplace=True, drop=True)\n",
    "\n",
    "sort_idx = tips[\"total_bill\"].argsort(kind=\"mergesort\")\n",
    "\n",
    "# Now, sort `tips` based on total_bill\n",
    "tips.iloc[sort_idx].head()"
   ]
  },
  {
   "cell_type": "markdown",
   "metadata": {},
   "source": [
    "## 24. `cat` accessor"
   ]
  },
  {
   "cell_type": "markdown",
   "metadata": {},
   "source": [
    "It is common knowledge that Pandas enables to use built-in Python functions on dates and strings using accessors like `dt` or `str`. \n",
    "\n",
    "Pandas also has a special `category` data type for categorical variables as can be seen below:"
   ]
  },
  {
   "cell_type": "code",
   "execution_count": null,
   "metadata": {
    "execution": {
     "iopub.execute_input": "2021-08-03T11:59:17.636682Z",
     "iopub.status.busy": "2021-08-03T11:59:17.636366Z",
     "iopub.status.idle": "2021-08-03T11:59:17.644399Z",
     "shell.execute_reply": "2021-08-03T11:59:17.643245Z",
     "shell.execute_reply.started": "2021-08-03T11:59:17.636653Z"
    }
   },
   "outputs": [],
   "source": [
    "diamonds.dtypes"
   ]
  },
  {
   "cell_type": "markdown",
   "metadata": {},
   "source": [
    "When a column is `category`, you can use several special functions using the `cat` accessor. For example, let's see the unique categories of diamond cuts:"
   ]
  },
  {
   "cell_type": "code",
   "execution_count": null,
   "metadata": {
    "execution": {
     "iopub.execute_input": "2021-08-03T11:59:17.646655Z",
     "iopub.status.busy": "2021-08-03T11:59:17.646155Z",
     "iopub.status.idle": "2021-08-03T11:59:17.658988Z",
     "shell.execute_reply": "2021-08-03T11:59:17.658074Z",
     "shell.execute_reply.started": "2021-08-03T11:59:17.64661Z"
    }
   },
   "outputs": [],
   "source": [
    "diamonds[\"cut\"].cat.categories"
   ]
  },
  {
   "cell_type": "markdown",
   "metadata": {},
   "source": [
    "There are also functions like `remove_categories` or `rename_categories`, etc.:"
   ]
  },
  {
   "cell_type": "code",
   "execution_count": null,
   "metadata": {
    "execution": {
     "iopub.execute_input": "2021-08-03T11:59:17.661266Z",
     "iopub.status.busy": "2021-08-03T11:59:17.660535Z",
     "iopub.status.idle": "2021-08-03T11:59:17.673693Z",
     "shell.execute_reply": "2021-08-03T11:59:17.672667Z",
     "shell.execute_reply.started": "2021-08-03T11:59:17.661221Z"
    }
   },
   "outputs": [],
   "source": [
    "diamonds[\"new_cuts\"] = diamonds[\"cut\"].cat.rename_categories(list(\"ABCDE\"))\n",
    "diamonds[\"new_cuts\"].cat.categories"
   ]
  },
  {
   "cell_type": "markdown",
   "metadata": {},
   "source": [
    "You can see the full list of functions under the `cat` accessor [here](https://pandas.pydata.org/pandas-docs/stable/reference/series.html#categorical-accessor)."
   ]
  },
  {
   "cell_type": "markdown",
   "metadata": {},
   "source": [
    "## 25. `GroupBy.nth`"
   ]
  },
  {
   "cell_type": "markdown",
   "metadata": {},
   "source": [
    "This function only works with `GroupBy` objects. Specifically, after grouping, `nth` returns the nth row from each group:"
   ]
  },
  {
   "cell_type": "code",
   "execution_count": null,
   "metadata": {
    "execution": {
     "iopub.execute_input": "2021-08-03T11:59:17.676104Z",
     "iopub.status.busy": "2021-08-03T11:59:17.675371Z",
     "iopub.status.idle": "2021-08-03T11:59:17.711978Z",
     "shell.execute_reply": "2021-08-03T11:59:17.710952Z",
     "shell.execute_reply.started": "2021-08-03T11:59:17.67605Z"
    }
   },
   "outputs": [],
   "source": [
    "diamonds.groupby(\"cut\").nth(5)"
   ]
  },
  {
   "cell_type": "markdown",
   "metadata": {},
   "source": [
    "## Summary"
   ]
  },
  {
   "cell_type": "markdown",
   "metadata": {},
   "source": [
    "Even though libraries like Dask and datatable are slowly winning over Pandas with their shiny new features for handling massive datasets, Pandas still remains the most widely-used data manipulation tool in Python data science ecosystem.\n",
    "\n",
    "The library still remains as a role-model for other packages to imitate and improve upon, as it integrates into the modern SciPy stack so well. Thank you for reading!"
   ]
  },
  {
   "cell_type": "markdown",
   "metadata": {},
   "source": [
    "## You might also be interested...\n",
    "- [My 6-part Powerful EDA Template](https://www.kaggle.com/bextuychiev/my-6-part-powerful-eda-template)\n",
    "- [\n",
    "Lasso regression with Pipelines (Tutorial)](https://www.kaggle.com/bextuychiev/lasso-regression-with-pipelines-tutorial)\n",
    "- [Awesome EDA + XGBoost CV Baseline](https://www.kaggle.com/bextuychiev/relevant-eda-xgboost-cv-baseline)"
   ]
  }
 ],
 "metadata": {
  "kernelspec": {
   "display_name": "Python 3",
   "language": "python",
   "name": "python3"
  },
  "language_info": {
   "codemirror_mode": {
    "name": "ipython",
    "version": 3
   },
   "file_extension": ".py",
   "mimetype": "text/x-python",
   "name": "python",
   "nbconvert_exporter": "python",
   "pygments_lexer": "ipython3",
   "version": "3.7.3"
  }
 },
 "nbformat": 4,
 "nbformat_minor": 2
}
